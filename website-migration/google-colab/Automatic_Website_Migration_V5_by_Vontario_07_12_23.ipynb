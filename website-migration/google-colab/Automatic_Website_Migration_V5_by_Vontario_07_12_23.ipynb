{
  "cells": [
    {
      "cell_type": "markdown",
      "metadata": {
        "id": "OQQeLXihbKaw"
      },
      "source": [
        "# Automatic Website Migration Tool\n",
        "\n",
        "## How to Use\n",
        "\n",
        "1. **Prepare Data**:\n",
        "   - Crawl both the live and staging websites using Screaming Frog SEO Spider.\n",
        "   - Export the crawled data as CSV files.\n",
        "\n",
        "2. **Run Cells**\n",
        "   - Run each cell in sequence to progress the script. You can run all cells, but be aware it will use the default column selection when you do this.\n",
        "\n",
        "3. **Upload Files**:\n",
        "   - Upload the staging and crawl files when prompted byu the script.\n",
        "\n",
        "4. **Column Selection**:\n",
        "   - By default, the application searches for columns named 'Address', 'H1-1', and 'Title 1'. These can be manually mapped if not automatically found.\n",
        "   - Users can select up to three columns for the matching process.\n",
        "\n",
        "5. **Processing**:\n",
        "   - Click the 'Process Files' button to start the comparison and matching process.\n",
        "\n",
        "6. **Download Results**:\n",
        "   - Once the processing is complete, the file will automatically be downloaded."
      ]
    },
    {
      "cell_type": "code",
      "execution_count": 1,
      "metadata": {
        "colab": {
          "base_uri": "https://localhost:8080/"
        },
        "id": "ucWX2zTc9nrb",
        "outputId": "05a134e8-d8bf-4e98-8256-608210b54620"
      },
      "outputs": [
        {
          "name": "stdout",
          "output_type": "stream",
          "text": [
            "Collecting polyfuzz==0.4.2\n",
            "  Downloading polyfuzz-0.4.2-py2.py3-none-any.whl (36 kB)\n",
            "Requirement already satisfied: numpy>=1.20.0 in /usr/local/lib/python3.10/dist-packages (from polyfuzz==0.4.2) (1.23.5)\n",
            "Requirement already satisfied: scipy>=1.3.1 in /usr/local/lib/python3.10/dist-packages (from polyfuzz==0.4.2) (1.11.4)\n",
            "Requirement already satisfied: pandas>=0.25.3 in /usr/local/lib/python3.10/dist-packages (from polyfuzz==0.4.2) (1.5.3)\n",
            "Requirement already satisfied: tqdm>=4.41.1 in /usr/local/lib/python3.10/dist-packages (from polyfuzz==0.4.2) (4.66.1)\n",
            "Requirement already satisfied: joblib>=0.14.0 in /usr/local/lib/python3.10/dist-packages (from polyfuzz==0.4.2) (1.3.2)\n",
            "Requirement already satisfied: matplotlib>=3.2.2 in /usr/local/lib/python3.10/dist-packages (from polyfuzz==0.4.2) (3.7.1)\n",
            "Requirement already satisfied: seaborn>=0.11.0 in /usr/local/lib/python3.10/dist-packages (from polyfuzz==0.4.2) (0.12.2)\n",
            "Collecting rapidfuzz>=0.13.1 (from polyfuzz==0.4.2)\n",
            "  Downloading rapidfuzz-3.5.2-cp310-cp310-manylinux_2_17_x86_64.manylinux2014_x86_64.whl (3.3 MB)\n",
            "\u001b[2K     \u001b[90m━━━━━━━━━━━━━━━━━━━━━━━━━━━━━━━━━━━━━━━━\u001b[0m \u001b[32m3.3/3.3 MB\u001b[0m \u001b[31m15.9 MB/s\u001b[0m eta \u001b[36m0:00:00\u001b[0m\n",
            "\u001b[?25hRequirement already satisfied: scikit-learn>=0.22.2.post1 in /usr/local/lib/python3.10/dist-packages (from polyfuzz==0.4.2) (1.2.2)\n",
            "Requirement already satisfied: contourpy>=1.0.1 in /usr/local/lib/python3.10/dist-packages (from matplotlib>=3.2.2->polyfuzz==0.4.2) (1.2.0)\n",
            "Requirement already satisfied: cycler>=0.10 in /usr/local/lib/python3.10/dist-packages (from matplotlib>=3.2.2->polyfuzz==0.4.2) (0.12.1)\n",
            "Requirement already satisfied: fonttools>=4.22.0 in /usr/local/lib/python3.10/dist-packages (from matplotlib>=3.2.2->polyfuzz==0.4.2) (4.45.1)\n",
            "Requirement already satisfied: kiwisolver>=1.0.1 in /usr/local/lib/python3.10/dist-packages (from matplotlib>=3.2.2->polyfuzz==0.4.2) (1.4.5)\n",
            "Requirement already satisfied: packaging>=20.0 in /usr/local/lib/python3.10/dist-packages (from matplotlib>=3.2.2->polyfuzz==0.4.2) (23.2)\n",
            "Requirement already satisfied: pillow>=6.2.0 in /usr/local/lib/python3.10/dist-packages (from matplotlib>=3.2.2->polyfuzz==0.4.2) (9.4.0)\n",
            "Requirement already satisfied: pyparsing>=2.3.1 in /usr/local/lib/python3.10/dist-packages (from matplotlib>=3.2.2->polyfuzz==0.4.2) (3.1.1)\n",
            "Requirement already satisfied: python-dateutil>=2.7 in /usr/local/lib/python3.10/dist-packages (from matplotlib>=3.2.2->polyfuzz==0.4.2) (2.8.2)\n",
            "Requirement already satisfied: pytz>=2020.1 in /usr/local/lib/python3.10/dist-packages (from pandas>=0.25.3->polyfuzz==0.4.2) (2023.3.post1)\n",
            "Requirement already satisfied: threadpoolctl>=2.0.0 in /usr/local/lib/python3.10/dist-packages (from scikit-learn>=0.22.2.post1->polyfuzz==0.4.2) (3.2.0)\n",
            "Requirement already satisfied: six>=1.5 in /usr/local/lib/python3.10/dist-packages (from python-dateutil>=2.7->matplotlib>=3.2.2->polyfuzz==0.4.2) (1.16.0)\n",
            "Installing collected packages: rapidfuzz, polyfuzz\n",
            "Successfully installed polyfuzz-0.4.2 rapidfuzz-3.5.2\n",
            "Requirement already satisfied: tqdm==4.66.1 in /usr/local/lib/python3.10/dist-packages (4.66.1)\n",
            "Collecting plotly==5.18.0\n",
            "  Downloading plotly-5.18.0-py3-none-any.whl (15.6 MB)\n",
            "\u001b[2K     \u001b[90m━━━━━━━━━━━━━━━━━━━━━━━━━━━━━━━━━━━━━━━━\u001b[0m \u001b[32m15.6/15.6 MB\u001b[0m \u001b[31m44.8 MB/s\u001b[0m eta \u001b[36m0:00:00\u001b[0m\n",
            "\u001b[?25hRequirement already satisfied: tenacity>=6.2.0 in /usr/local/lib/python3.10/dist-packages (from plotly==5.18.0) (8.2.3)\n",
            "Requirement already satisfied: packaging in /usr/local/lib/python3.10/dist-packages (from plotly==5.18.0) (23.2)\n",
            "Installing collected packages: plotly\n",
            "  Attempting uninstall: plotly\n",
            "    Found existing installation: plotly 5.15.0\n",
            "    Uninstalling plotly-5.15.0:\n",
            "      Successfully uninstalled plotly-5.15.0\n",
            "\u001b[31mERROR: pip's dependency resolver does not currently take into account all the packages that are installed. This behaviour is the source of the following dependency conflicts.\n",
            "lida 0.0.10 requires fastapi, which is not installed.\n",
            "lida 0.0.10 requires kaleido, which is not installed.\n",
            "lida 0.0.10 requires python-multipart, which is not installed.\n",
            "lida 0.0.10 requires uvicorn, which is not installed.\u001b[0m\u001b[31m\n",
            "\u001b[0mSuccessfully installed plotly-5.18.0\n"
          ]
        }
      ],
      "source": [
        "!pip install polyfuzz==0.4.2\n",
        "!pip install tqdm==4.66.1\n",
        "!pip install plotly==5.18.0"
      ]
    },
    {
      "cell_type": "code",
      "execution_count": 2,
      "metadata": {
        "id": "G4hBNDhpSuFw"
      },
      "outputs": [],
      "source": [
        "import pandas as pd\n",
        "import ipywidgets as widgets\n",
        "import plotly.graph_objects as go\n",
        "import urllib.parse\n",
        "import threading\n",
        "import numpy as np\n",
        "\n",
        "\n",
        "from polyfuzz import PolyFuzz\n",
        "from tqdm import tqdm\n",
        "from IPython.display import display\n",
        "from google.colab import files"
      ]
    },
    {
      "cell_type": "code",
      "execution_count": 3,
      "metadata": {
        "colab": {
          "base_uri": "https://localhost:8080/",
          "height": 91
        },
        "id": "yfaiqvVoSxA3",
        "outputId": "9246d37d-9715-4fa5-9514-9b39c11e2680"
      },
      "outputs": [
        {
          "name": "stdout",
          "output_type": "stream",
          "text": [
            "Please upload the live file:\n"
          ]
        },
        {
          "data": {
            "text/html": [
              "\n",
              "     <input type=\"file\" id=\"files-b644359e-131e-4200-97e2-46d57ebf02b3\" name=\"files[]\" multiple disabled\n",
              "        style=\"border:none\" />\n",
              "     <output id=\"result-b644359e-131e-4200-97e2-46d57ebf02b3\">\n",
              "      Upload widget is only available when the cell has been executed in the\n",
              "      current browser session. Please rerun this cell to enable.\n",
              "      </output>\n",
              "      <script>// Copyright 2017 Google LLC\n",
              "//\n",
              "// Licensed under the Apache License, Version 2.0 (the \"License\");\n",
              "// you may not use this file except in compliance with the License.\n",
              "// You may obtain a copy of the License at\n",
              "//\n",
              "//      http://www.apache.org/licenses/LICENSE-2.0\n",
              "//\n",
              "// Unless required by applicable law or agreed to in writing, software\n",
              "// distributed under the License is distributed on an \"AS IS\" BASIS,\n",
              "// WITHOUT WARRANTIES OR CONDITIONS OF ANY KIND, either express or implied.\n",
              "// See the License for the specific language governing permissions and\n",
              "// limitations under the License.\n",
              "\n",
              "/**\n",
              " * @fileoverview Helpers for google.colab Python module.\n",
              " */\n",
              "(function(scope) {\n",
              "function span(text, styleAttributes = {}) {\n",
              "  const element = document.createElement('span');\n",
              "  element.textContent = text;\n",
              "  for (const key of Object.keys(styleAttributes)) {\n",
              "    element.style[key] = styleAttributes[key];\n",
              "  }\n",
              "  return element;\n",
              "}\n",
              "\n",
              "// Max number of bytes which will be uploaded at a time.\n",
              "const MAX_PAYLOAD_SIZE = 100 * 1024;\n",
              "\n",
              "function _uploadFiles(inputId, outputId) {\n",
              "  const steps = uploadFilesStep(inputId, outputId);\n",
              "  const outputElement = document.getElementById(outputId);\n",
              "  // Cache steps on the outputElement to make it available for the next call\n",
              "  // to uploadFilesContinue from Python.\n",
              "  outputElement.steps = steps;\n",
              "\n",
              "  return _uploadFilesContinue(outputId);\n",
              "}\n",
              "\n",
              "// This is roughly an async generator (not supported in the browser yet),\n",
              "// where there are multiple asynchronous steps and the Python side is going\n",
              "// to poll for completion of each step.\n",
              "// This uses a Promise to block the python side on completion of each step,\n",
              "// then passes the result of the previous step as the input to the next step.\n",
              "function _uploadFilesContinue(outputId) {\n",
              "  const outputElement = document.getElementById(outputId);\n",
              "  const steps = outputElement.steps;\n",
              "\n",
              "  const next = steps.next(outputElement.lastPromiseValue);\n",
              "  return Promise.resolve(next.value.promise).then((value) => {\n",
              "    // Cache the last promise value to make it available to the next\n",
              "    // step of the generator.\n",
              "    outputElement.lastPromiseValue = value;\n",
              "    return next.value.response;\n",
              "  });\n",
              "}\n",
              "\n",
              "/**\n",
              " * Generator function which is called between each async step of the upload\n",
              " * process.\n",
              " * @param {string} inputId Element ID of the input file picker element.\n",
              " * @param {string} outputId Element ID of the output display.\n",
              " * @return {!Iterable<!Object>} Iterable of next steps.\n",
              " */\n",
              "function* uploadFilesStep(inputId, outputId) {\n",
              "  const inputElement = document.getElementById(inputId);\n",
              "  inputElement.disabled = false;\n",
              "\n",
              "  const outputElement = document.getElementById(outputId);\n",
              "  outputElement.innerHTML = '';\n",
              "\n",
              "  const pickedPromise = new Promise((resolve) => {\n",
              "    inputElement.addEventListener('change', (e) => {\n",
              "      resolve(e.target.files);\n",
              "    });\n",
              "  });\n",
              "\n",
              "  const cancel = document.createElement('button');\n",
              "  inputElement.parentElement.appendChild(cancel);\n",
              "  cancel.textContent = 'Cancel upload';\n",
              "  const cancelPromise = new Promise((resolve) => {\n",
              "    cancel.onclick = () => {\n",
              "      resolve(null);\n",
              "    };\n",
              "  });\n",
              "\n",
              "  // Wait for the user to pick the files.\n",
              "  const files = yield {\n",
              "    promise: Promise.race([pickedPromise, cancelPromise]),\n",
              "    response: {\n",
              "      action: 'starting',\n",
              "    }\n",
              "  };\n",
              "\n",
              "  cancel.remove();\n",
              "\n",
              "  // Disable the input element since further picks are not allowed.\n",
              "  inputElement.disabled = true;\n",
              "\n",
              "  if (!files) {\n",
              "    return {\n",
              "      response: {\n",
              "        action: 'complete',\n",
              "      }\n",
              "    };\n",
              "  }\n",
              "\n",
              "  for (const file of files) {\n",
              "    const li = document.createElement('li');\n",
              "    li.append(span(file.name, {fontWeight: 'bold'}));\n",
              "    li.append(span(\n",
              "        `(${file.type || 'n/a'}) - ${file.size} bytes, ` +\n",
              "        `last modified: ${\n",
              "            file.lastModifiedDate ? file.lastModifiedDate.toLocaleDateString() :\n",
              "                                    'n/a'} - `));\n",
              "    const percent = span('0% done');\n",
              "    li.appendChild(percent);\n",
              "\n",
              "    outputElement.appendChild(li);\n",
              "\n",
              "    const fileDataPromise = new Promise((resolve) => {\n",
              "      const reader = new FileReader();\n",
              "      reader.onload = (e) => {\n",
              "        resolve(e.target.result);\n",
              "      };\n",
              "      reader.readAsArrayBuffer(file);\n",
              "    });\n",
              "    // Wait for the data to be ready.\n",
              "    let fileData = yield {\n",
              "      promise: fileDataPromise,\n",
              "      response: {\n",
              "        action: 'continue',\n",
              "      }\n",
              "    };\n",
              "\n",
              "    // Use a chunked sending to avoid message size limits. See b/62115660.\n",
              "    let position = 0;\n",
              "    do {\n",
              "      const length = Math.min(fileData.byteLength - position, MAX_PAYLOAD_SIZE);\n",
              "      const chunk = new Uint8Array(fileData, position, length);\n",
              "      position += length;\n",
              "\n",
              "      const base64 = btoa(String.fromCharCode.apply(null, chunk));\n",
              "      yield {\n",
              "        response: {\n",
              "          action: 'append',\n",
              "          file: file.name,\n",
              "          data: base64,\n",
              "        },\n",
              "      };\n",
              "\n",
              "      let percentDone = fileData.byteLength === 0 ?\n",
              "          100 :\n",
              "          Math.round((position / fileData.byteLength) * 100);\n",
              "      percent.textContent = `${percentDone}% done`;\n",
              "\n",
              "    } while (position < fileData.byteLength);\n",
              "  }\n",
              "\n",
              "  // All done.\n",
              "  yield {\n",
              "    response: {\n",
              "      action: 'complete',\n",
              "    }\n",
              "  };\n",
              "}\n",
              "\n",
              "scope.google = scope.google || {};\n",
              "scope.google.colab = scope.google.colab || {};\n",
              "scope.google.colab._files = {\n",
              "  _uploadFiles,\n",
              "  _uploadFilesContinue,\n",
              "};\n",
              "})(self);\n",
              "</script> "
            ],
            "text/plain": [
              "<IPython.core.display.HTML object>"
            ]
          },
          "metadata": {},
          "output_type": "display_data"
        },
        {
          "name": "stdout",
          "output_type": "stream",
          "text": [
            "Saving halfords_internal_html.csv to halfords_internal_html.csv\n"
          ]
        }
      ],
      "source": [
        "print(\"Please upload the live file:\")\n",
        "uploaded_live = files.upload()"
      ]
    },
    {
      "cell_type": "code",
      "execution_count": 4,
      "metadata": {
        "colab": {
          "base_uri": "https://localhost:8080/",
          "height": 91
        },
        "id": "v9D67Jm3WIpg",
        "outputId": "9fa4d682-b4e0-4a08-a843-cb9d7d6f54fc"
      },
      "outputs": [
        {
          "name": "stdout",
          "output_type": "stream",
          "text": [
            "Please upload the staging file:\n"
          ]
        },
        {
          "data": {
            "text/html": [
              "\n",
              "     <input type=\"file\" id=\"files-42235153-cdc9-4300-98d7-328c994b6801\" name=\"files[]\" multiple disabled\n",
              "        style=\"border:none\" />\n",
              "     <output id=\"result-42235153-cdc9-4300-98d7-328c994b6801\">\n",
              "      Upload widget is only available when the cell has been executed in the\n",
              "      current browser session. Please rerun this cell to enable.\n",
              "      </output>\n",
              "      <script>// Copyright 2017 Google LLC\n",
              "//\n",
              "// Licensed under the Apache License, Version 2.0 (the \"License\");\n",
              "// you may not use this file except in compliance with the License.\n",
              "// You may obtain a copy of the License at\n",
              "//\n",
              "//      http://www.apache.org/licenses/LICENSE-2.0\n",
              "//\n",
              "// Unless required by applicable law or agreed to in writing, software\n",
              "// distributed under the License is distributed on an \"AS IS\" BASIS,\n",
              "// WITHOUT WARRANTIES OR CONDITIONS OF ANY KIND, either express or implied.\n",
              "// See the License for the specific language governing permissions and\n",
              "// limitations under the License.\n",
              "\n",
              "/**\n",
              " * @fileoverview Helpers for google.colab Python module.\n",
              " */\n",
              "(function(scope) {\n",
              "function span(text, styleAttributes = {}) {\n",
              "  const element = document.createElement('span');\n",
              "  element.textContent = text;\n",
              "  for (const key of Object.keys(styleAttributes)) {\n",
              "    element.style[key] = styleAttributes[key];\n",
              "  }\n",
              "  return element;\n",
              "}\n",
              "\n",
              "// Max number of bytes which will be uploaded at a time.\n",
              "const MAX_PAYLOAD_SIZE = 100 * 1024;\n",
              "\n",
              "function _uploadFiles(inputId, outputId) {\n",
              "  const steps = uploadFilesStep(inputId, outputId);\n",
              "  const outputElement = document.getElementById(outputId);\n",
              "  // Cache steps on the outputElement to make it available for the next call\n",
              "  // to uploadFilesContinue from Python.\n",
              "  outputElement.steps = steps;\n",
              "\n",
              "  return _uploadFilesContinue(outputId);\n",
              "}\n",
              "\n",
              "// This is roughly an async generator (not supported in the browser yet),\n",
              "// where there are multiple asynchronous steps and the Python side is going\n",
              "// to poll for completion of each step.\n",
              "// This uses a Promise to block the python side on completion of each step,\n",
              "// then passes the result of the previous step as the input to the next step.\n",
              "function _uploadFilesContinue(outputId) {\n",
              "  const outputElement = document.getElementById(outputId);\n",
              "  const steps = outputElement.steps;\n",
              "\n",
              "  const next = steps.next(outputElement.lastPromiseValue);\n",
              "  return Promise.resolve(next.value.promise).then((value) => {\n",
              "    // Cache the last promise value to make it available to the next\n",
              "    // step of the generator.\n",
              "    outputElement.lastPromiseValue = value;\n",
              "    return next.value.response;\n",
              "  });\n",
              "}\n",
              "\n",
              "/**\n",
              " * Generator function which is called between each async step of the upload\n",
              " * process.\n",
              " * @param {string} inputId Element ID of the input file picker element.\n",
              " * @param {string} outputId Element ID of the output display.\n",
              " * @return {!Iterable<!Object>} Iterable of next steps.\n",
              " */\n",
              "function* uploadFilesStep(inputId, outputId) {\n",
              "  const inputElement = document.getElementById(inputId);\n",
              "  inputElement.disabled = false;\n",
              "\n",
              "  const outputElement = document.getElementById(outputId);\n",
              "  outputElement.innerHTML = '';\n",
              "\n",
              "  const pickedPromise = new Promise((resolve) => {\n",
              "    inputElement.addEventListener('change', (e) => {\n",
              "      resolve(e.target.files);\n",
              "    });\n",
              "  });\n",
              "\n",
              "  const cancel = document.createElement('button');\n",
              "  inputElement.parentElement.appendChild(cancel);\n",
              "  cancel.textContent = 'Cancel upload';\n",
              "  const cancelPromise = new Promise((resolve) => {\n",
              "    cancel.onclick = () => {\n",
              "      resolve(null);\n",
              "    };\n",
              "  });\n",
              "\n",
              "  // Wait for the user to pick the files.\n",
              "  const files = yield {\n",
              "    promise: Promise.race([pickedPromise, cancelPromise]),\n",
              "    response: {\n",
              "      action: 'starting',\n",
              "    }\n",
              "  };\n",
              "\n",
              "  cancel.remove();\n",
              "\n",
              "  // Disable the input element since further picks are not allowed.\n",
              "  inputElement.disabled = true;\n",
              "\n",
              "  if (!files) {\n",
              "    return {\n",
              "      response: {\n",
              "        action: 'complete',\n",
              "      }\n",
              "    };\n",
              "  }\n",
              "\n",
              "  for (const file of files) {\n",
              "    const li = document.createElement('li');\n",
              "    li.append(span(file.name, {fontWeight: 'bold'}));\n",
              "    li.append(span(\n",
              "        `(${file.type || 'n/a'}) - ${file.size} bytes, ` +\n",
              "        `last modified: ${\n",
              "            file.lastModifiedDate ? file.lastModifiedDate.toLocaleDateString() :\n",
              "                                    'n/a'} - `));\n",
              "    const percent = span('0% done');\n",
              "    li.appendChild(percent);\n",
              "\n",
              "    outputElement.appendChild(li);\n",
              "\n",
              "    const fileDataPromise = new Promise((resolve) => {\n",
              "      const reader = new FileReader();\n",
              "      reader.onload = (e) => {\n",
              "        resolve(e.target.result);\n",
              "      };\n",
              "      reader.readAsArrayBuffer(file);\n",
              "    });\n",
              "    // Wait for the data to be ready.\n",
              "    let fileData = yield {\n",
              "      promise: fileDataPromise,\n",
              "      response: {\n",
              "        action: 'continue',\n",
              "      }\n",
              "    };\n",
              "\n",
              "    // Use a chunked sending to avoid message size limits. See b/62115660.\n",
              "    let position = 0;\n",
              "    do {\n",
              "      const length = Math.min(fileData.byteLength - position, MAX_PAYLOAD_SIZE);\n",
              "      const chunk = new Uint8Array(fileData, position, length);\n",
              "      position += length;\n",
              "\n",
              "      const base64 = btoa(String.fromCharCode.apply(null, chunk));\n",
              "      yield {\n",
              "        response: {\n",
              "          action: 'append',\n",
              "          file: file.name,\n",
              "          data: base64,\n",
              "        },\n",
              "      };\n",
              "\n",
              "      let percentDone = fileData.byteLength === 0 ?\n",
              "          100 :\n",
              "          Math.round((position / fileData.byteLength) * 100);\n",
              "      percent.textContent = `${percentDone}% done`;\n",
              "\n",
              "    } while (position < fileData.byteLength);\n",
              "  }\n",
              "\n",
              "  // All done.\n",
              "  yield {\n",
              "    response: {\n",
              "      action: 'complete',\n",
              "    }\n",
              "  };\n",
              "}\n",
              "\n",
              "scope.google = scope.google || {};\n",
              "scope.google.colab = scope.google.colab || {};\n",
              "scope.google.colab._files = {\n",
              "  _uploadFiles,\n",
              "  _uploadFilesContinue,\n",
              "};\n",
              "})(self);\n",
              "</script> "
            ],
            "text/plain": [
              "<IPython.core.display.HTML object>"
            ]
          },
          "metadata": {},
          "output_type": "display_data"
        },
        {
          "name": "stdout",
          "output_type": "stream",
          "text": [
            "Saving evans_cycles_crawl.csv to evans_cycles_crawl.csv\n"
          ]
        }
      ],
      "source": [
        "print(\"Please upload the staging file:\")\n",
        "uploaded_staging = files.upload()"
      ]
    },
    {
      "cell_type": "code",
      "execution_count": 5,
      "metadata": {
        "id": "V_kby9wuS0G3"
      },
      "outputs": [],
      "source": [
        "live_file_name = next(iter(uploaded_live))\n",
        "staging_file_name = next(iter(uploaded_staging))\n",
        "\n",
        "df_live = pd.read_csv(live_file_name, dtype=\"str\")\n",
        "df_staging = pd.read_csv(staging_file_name, dtype=\"str\")"
      ]
    },
    {
      "cell_type": "code",
      "execution_count": 6,
      "metadata": {
        "colab": {
          "base_uri": "https://localhost:8080/"
        },
        "id": "yIJz45TTS5bf",
        "outputId": "aa09c0be-8ae8-41a6-fca9-944a3005ad7f"
      },
      "outputs": [
        {
          "name": "stdout",
          "output_type": "stream",
          "text": [
            "Preprocessing data...\n"
          ]
        }
      ],
      "source": [
        "print(\"Preprocessing data...\")\n",
        "df_live = df_live.apply(lambda col: col.str.lower())\n",
        "df_staging = df_staging.apply(lambda col: col.str.lower())\n"
      ]
    },
    {
      "cell_type": "markdown",
      "metadata": {
        "id": "1NZTqu0nane_"
      },
      "source": [
        "# Select Columns to Match On\n",
        "## Select the columns to match on using the drop down menu and press the 'Update selected columns' button once selected."
      ]
    },
    {
      "cell_type": "code",
      "execution_count": 7,
      "metadata": {
        "colab": {
          "base_uri": "https://localhost:8080/",
          "height": 127,
          "referenced_widgets": [
            "afa5b3762f5d4fdb9c8de8c90a6be00e",
            "2140f89aa51548848ff50ded6de6334b",
            "2681bc68555a4ee58cd1692bc5077a70",
            "463b142231404970b0f940464c602bfd",
            "93fd2173b0974d5196403821e3f35745",
            "3f46315118734a99b30b3c1ce8211c8b",
            "1a253abdda5744ad8fcb71075f7db24d",
            "aefacbd94975465ba1e21c48d9c82aa1",
            "863cef8db10a4b2dbca7e3f1e287f6f9"
          ]
        },
        "id": "1WLN3QZhS8Pv",
        "outputId": "6d575aeb-478f-4c5d-d3bf-231703122270"
      },
      "outputs": [
        {
          "data": {
            "application/vnd.jupyter.widget-view+json": {
              "model_id": "afa5b3762f5d4fdb9c8de8c90a6be00e",
              "version_major": 2,
              "version_minor": 0
            },
            "text/plain": [
              "Dropdown(description='Column 1:', index=1, options=('Optional', 'Address', 'Redirect URL', 'Status Code', 'Sta…"
            ]
          },
          "metadata": {},
          "output_type": "display_data"
        },
        {
          "data": {
            "application/vnd.jupyter.widget-view+json": {
              "model_id": "463b142231404970b0f940464c602bfd",
              "version_major": 2,
              "version_minor": 0
            },
            "text/plain": [
              "Dropdown(description='Column 2:', index=19, options=('Optional', 'Address', 'Redirect URL', 'Status Code', 'St…"
            ]
          },
          "metadata": {},
          "output_type": "display_data"
        },
        {
          "data": {
            "application/vnd.jupyter.widget-view+json": {
              "model_id": "1a253abdda5744ad8fcb71075f7db24d",
              "version_major": 2,
              "version_minor": 0
            },
            "text/plain": [
              "Dropdown(description='Column 3:', index=8, options=('Optional', 'Address', 'Redirect URL', 'Status Code', 'Sta…"
            ]
          },
          "metadata": {},
          "output_type": "display_data"
        },
        {
          "name": "stdout",
          "output_type": "stream",
          "text": [
            "Selected Columns: ['Address', 'H1-1', 'Title 1']\n"
          ]
        }
      ],
      "source": [
        "column_list = ['Optional'] + df_live.columns.tolist()\n",
        "\n",
        "# Define the default values with error handling\n",
        "default_values = {\n",
        "    'Column 1': 'Address',  # Default value for Column 1\n",
        "    'Column 2': 'H1-1',     # Default value for Column 2\n",
        "    'Column 3': 'Title 1'   # Default value for Column 3\n",
        "}\n",
        "\n",
        "# Ensure that default values exist in the available options\n",
        "for col, default_value in default_values.items():\n",
        "    if default_value not in column_list:\n",
        "        default_values[col] = 'Optional'\n",
        "\n",
        "# Pre-select the columns with error handling for default values\n",
        "dropdown1 = widgets.Dropdown(\n",
        "    options=column_list,\n",
        "    description='Column 1:',\n",
        "    value=default_values['Column 1']\n",
        ")\n",
        "dropdown2 = widgets.Dropdown(\n",
        "    options=column_list,\n",
        "    description='Column 2:',\n",
        "    value=default_values['Column 2']\n",
        ")\n",
        "dropdown3 = widgets.Dropdown(\n",
        "    options=column_list,\n",
        "    description='Column 3:',\n",
        "    value=default_values['Column 3']\n",
        ")\n",
        "\n",
        "display(dropdown1, dropdown2, dropdown3)\n",
        "\n",
        "# Initialize selected_columns with default values\n",
        "selected_columns = [dropdown1.value, dropdown2.value, dropdown3.value]\n",
        "selected_columns = [col for col in selected_columns if col != 'Optional']\n",
        "print(\"Selected Columns:\", selected_columns)\n",
        "\n",
        "# Function to get selected columns\n",
        "def get_selected_columns():\n",
        "    selected = [dropdown1.value, dropdown2.value, dropdown3.value]\n",
        "    # Replace missing default values with \"Optional\"\n",
        "    selected = ['Optional' if col == '' else col for col in selected]\n",
        "    return [col for col in selected if col != 'Optional']\n",
        "\n",
        "# Update the selected columns if the dropdowns are changed\n",
        "def on_dropdown_change(change):\n",
        "    global selected_columns\n",
        "    selected_columns = get_selected_columns()\n",
        "    print(\"Updated Selected Columns:\", selected_columns)\n",
        "\n",
        "# Add observers to the dropdowns to update selected columns automatically\n",
        "dropdown1.observe(on_dropdown_change, names='value')\n",
        "dropdown2.observe(on_dropdown_change, names='value')\n",
        "dropdown3.observe(on_dropdown_change, names='value')"
      ]
    },
    {
      "cell_type": "code",
      "execution_count": 30,
      "metadata": {
        "colab": {
          "base_uri": "https://localhost:8080/"
        },
        "id": "R40ERPheW5Q_",
        "outputId": "71b1e0c2-b482-4636-e460-131fd8896212"
      },
      "outputs": [
        {
          "name": "stdout",
          "output_type": "stream",
          "text": [
            "Selected columns for matching: ['Address', 'H1-1', 'Title 1']\n"
          ]
        }
      ],
      "source": [
        "def update_matching_columns(b=None):\n",
        "    global matching_columns\n",
        "    matching_columns = get_selected_columns()\n",
        "    print(\"Selected columns for matching:\", matching_columns)\n",
        "\n",
        "# You can use a button or just call the function directly\n",
        "update_matching_columns()"
      ]
    },
    {
      "cell_type": "code",
      "execution_count": 31,
      "metadata": {
        "colab": {
          "base_uri": "https://localhost:8080/"
        },
        "id": "WFETEuwhS-lg",
        "outputId": "7e7d1c52-2641-4ce7-d892-638228bad7ed"
      },
      "outputs": [
        {
          "name": "stdout",
          "output_type": "stream",
          "text": [
            "Initializing PolyFuzz model...\n"
          ]
        }
      ],
      "source": [
        "print(\"Initializing PolyFuzz model...\")\n",
        "model = PolyFuzz(\"TF-IDF\")\n"
      ]
    },
    {
      "cell_type": "code",
      "execution_count": 32,
      "metadata": {
        "colab": {
          "base_uri": "https://localhost:8080/"
        },
        "id": "nvvMyg4ATGio",
        "outputId": "0fbdfbb0-8162-413a-9875-5f7682a1111d"
      },
      "outputs": [
        {
          "name": "stdout",
          "output_type": "stream",
          "text": [
            "Matching columns and collecting scores...\n"
          ]
        },
        {
          "name": "stderr",
          "output_type": "stream",
          "text": [
            "\rMatching columns:   0%|          | 0/3 [00:00<?, ?it/s]"
          ]
        },
        {
          "name": "stdout",
          "output_type": "stream",
          "text": [
            "Matching Address...\n"
          ]
        },
        {
          "name": "stderr",
          "output_type": "stream",
          "text": [
            "Matching columns:  67%|██████▋   | 2/3 [00:00<00:00,  5.41it/s]"
          ]
        },
        {
          "name": "stdout",
          "output_type": "stream",
          "text": [
            "Matching H1-1...\n",
            "Matching Title 1...\n"
          ]
        },
        {
          "name": "stderr",
          "output_type": "stream",
          "text": [
            "Matching columns: 100%|██████████| 3/3 [00:00<00:00,  5.64it/s]\n"
          ]
        }
      ],
      "source": [
        "def match_and_score(col):\n",
        "    # Handle NaN values by replacing them with an empty string\n",
        "    live_list = df_live[col].fillna('').tolist()\n",
        "    staging_list = df_staging[col].fillna('').tolist()\n",
        "\n",
        "    # Perform matching only if both lists have content\n",
        "    if live_list and staging_list:\n",
        "        print(f\"Matching {col}...\")\n",
        "        model.match(live_list, staging_list)\n",
        "        return model.get_matches()\n",
        "    else:\n",
        "        return pd.DataFrame(columns=['From', 'To', 'Similarity'])\n",
        "\n",
        "# Match each column and collect scores\n",
        "print(\"Matching columns and collecting scores...\")\n",
        "matches_scores = {col: match_and_score(col) for col in tqdm(matching_columns, desc=\"Matching columns\")}\n",
        "\n",
        "selected_additional_columns = selected_columns[1:]\n",
        "\n",
        "\n",
        "# Function to find the overall best match for each row\n",
        "def find_best_overall_match_and_median(row):\n",
        "    similarities = []\n",
        "    best_match_info = {\n",
        "        'Best Match on': None,\n",
        "        'Highest Matching URL': None,\n",
        "        'Highest Similarity Score': 0\n",
        "    }\n",
        "    additional_info = {f'Staging {col}': None for col in selected_additional_columns}\n",
        "\n",
        "    for col in matching_columns:\n",
        "        matches = matches_scores[col]\n",
        "        if not matches.empty:\n",
        "            match_row = matches.loc[matches['From'] == row[col]]\n",
        "            if not match_row.empty:\n",
        "                similarity_score = match_row.iloc[0]['Similarity']\n",
        "                similarities.append(similarity_score)\n",
        "                if similarity_score > best_match_info['Highest Similarity Score']:\n",
        "                    best_match_info['Best Match on'] = col\n",
        "                    best_match_info['Highest Matching URL'] = df_staging.loc[\n",
        "                        df_staging[col] == match_row.iloc[0]['To'], 'Address'\n",
        "                    ].values[0]\n",
        "                    best_match_info['Highest Similarity Score'] = similarity_score\n",
        "                    best_match_info['Best Match Content'] = match_row.iloc[0]['To']\n",
        "\n",
        "                    # Capture additional staging data based on user selection\n",
        "                    for add_col in selected_additional_columns:\n",
        "                        additional_info[f'Staging {add_col}'] = df_staging.loc[\n",
        "                            df_staging[col] == match_row.iloc[0]['To'], add_col\n",
        "                        ].values[0] if add_col in df_staging else None\n",
        "\n",
        "    # Calculate the median similarity score for the row\n",
        "    best_match_info['Median Match Score'] = np.median(similarities) if similarities else None\n",
        "\n",
        "    # Combine best match info with additional staging data\n",
        "    best_match_info.update(additional_info)\n",
        "\n",
        "    return pd.Series(best_match_info)"
      ]
    },
    {
      "cell_type": "code",
      "execution_count": 33,
      "metadata": {
        "id": "VEAJ5nPaTI_g"
      },
      "outputs": [],
      "source": [
        "# Apply the function to find the best overall match and calculate row-wise median match score\n",
        "match_results = df_live.apply(find_best_overall_match_and_median, axis=1)\n",
        "\n",
        "# Concatenate the match results with the original dataframe\n",
        "final_columns = ['Address'] + [col for col in matching_columns if col != 'Address']\n",
        "df_final = pd.concat([df_live[final_columns], match_results], axis=1)\n"
      ]
    },
    {
      "cell_type": "code",
      "execution_count": 34,
      "metadata": {
        "colab": {
          "base_uri": "https://localhost:8080/"
        },
        "id": "NWRV5TFGejJN",
        "outputId": "7bf32868-a927-4614-8779-a2cf24620db3"
      },
      "outputs": [
        {
          "name": "stdout",
          "output_type": "stream",
          "text": [
            "Compiling final results...\n"
          ]
        }
      ],
      "source": [
        "print(\"Compiling final results...\")\n",
        "final_columns = ['Address'] + [col for col in matching_columns if col != 'Address']\n",
        "df_final = pd.concat([df_live[final_columns], match_results], axis=1)"
      ]
    },
    {
      "cell_type": "markdown",
      "metadata": {
        "id": "d-K8zMFsej0p"
      },
      "source": [
        "# Create Sankey Chart"
      ]
    },
    {
      "cell_type": "code",
      "execution_count": 35,
      "metadata": {
        "id": "lTAKpm2Sei76"
      },
      "outputs": [],
      "source": [
        "def clean_name(url_part):\n",
        "    return url_part.replace('/', ' ').replace('-', ' ').strip()\n",
        "\n",
        "\n",
        "def extract_hierarchy_levels(url):\n",
        "    parsed_url = urllib.parse.urlparse(url)\n",
        "    path_parts = parsed_url.path.strip(\"/\").split(\"/\")\n",
        "\n",
        "    # Exclude files (e.g., .html pages) from the path parts\n",
        "    if path_parts:\n",
        "        if '.' in path_parts[-1]:  # Checks if the last part looks like a file\n",
        "            path_parts = path_parts[:-1]  # Remove the last part if it's a file\n",
        "\n",
        "    if not path_parts:  # If the URL path is empty or only had a file, it's the homepage\n",
        "        return ['No Path']\n",
        "\n",
        "    # Create a hierarchy list with cleaned folder names\n",
        "    hierarchy_levels = [clean_name(part) for part in path_parts]\n",
        "    return hierarchy_levels\n",
        "\n",
        "\n",
        "def prepare_sankey_data(df, top_x=20):\n",
        "    df['Source Hierarchy'] = df['Address'].apply(extract_hierarchy_levels)\n",
        "    df['Target Hierarchy'] = df['Highest Matching URL'].apply(extract_hierarchy_levels)\n",
        "\n",
        "    # Flatten the hierarchy to create source-target pairs for all levels\n",
        "    rows = []\n",
        "    for _, row in df.iterrows():\n",
        "        source_hierarchy = row['Source Hierarchy']\n",
        "        target_hierarchy = row['Target Hierarchy']\n",
        "\n",
        "        # Connect every source level with all subsequent levels\n",
        "        for i in range(len(source_hierarchy)):\n",
        "            for j in range(i + 1, len(source_hierarchy)):\n",
        "                rows.append({\n",
        "                    'Source Level': source_hierarchy[i],\n",
        "                    'Target Level': source_hierarchy[j]\n",
        "                })\n",
        "\n",
        "        # Apply the same logic for the target hierarchy\n",
        "        for i in range(len(target_hierarchy)):\n",
        "            for j in range(i + 1, len(target_hierarchy)):\n",
        "                rows.append({\n",
        "                    'Source Level': target_hierarchy[i],\n",
        "                    'Target Level': target_hierarchy[j]\n",
        "                })\n",
        "    sankey_data = pd.DataFrame(rows)\n",
        "\n",
        "    # Aggregate and count the source-target pairs\n",
        "    sankey_data = sankey_data.groupby(['Source Level', 'Target Level']).size().reset_index(name='Count')\n",
        "\n",
        "    # Get top mappings by count for Sankey Chart\n",
        "    top_mappings = sankey_data.nlargest(top_x, 'Count')\n",
        "    return top_mappings\n",
        "\n",
        "\n",
        "def create_sankey_chart(sankey_data):\n",
        "    # Generate labels for each unique level in the hierarchy\n",
        "    labels = sorted(set(\n",
        "        label for pair in zip(sankey_data['Source Level'], sankey_data['Target Level']) for label in pair\n",
        "    ), key=lambda x: ('No Path' not in x, x))\n",
        "    level_index = {level: idx for idx, level in enumerate(labels)}\n",
        "\n",
        "    # Map levels to indices using the cleaned names\n",
        "    source_indices = [level_index[level] for level in sankey_data['Source Level']]\n",
        "    target_indices = [level_index[level] for level in sankey_data['Target Level']]\n",
        "    weights = sankey_data['Count']\n",
        "\n",
        "    # Create Sankey diagram with hierarchical data\n",
        "    fig = go.Figure(data=[go.Sankey(\n",
        "        node=dict(\n",
        "            pad=15,\n",
        "            thickness=20,\n",
        "            line=dict(color=\"black\", width=0.5),\n",
        "            label=labels,  # Use the cleaned labels for node names\n",
        "            color=\"blue\"\n",
        "        ),\n",
        "        link=dict(\n",
        "            source=target_indices,\n",
        "            target=source_indices,\n",
        "            value=weights\n",
        "        ),\n",
        "        # Set the layout for node alignment\n",
        "        arrangement='snap'\n",
        "    )])\n",
        "\n",
        "    fig.update_layout(title_text='Top 20 Folder Mappings')\n",
        "    return fig"
      ]
    },
    {
      "cell_type": "code",
      "execution_count": 36,
      "metadata": {
        "colab": {
          "base_uri": "https://localhost:8080/",
          "height": 560
        },
        "id": "W65By4glfDG6",
        "outputId": "71f49409-7289-49ae-8c88-3fb79f47765e"
      },
      "outputs": [
        {
          "name": "stdout",
          "output_type": "stream",
          "text": [
            "Preparing data for Sankey Chart...\n"
          ]
        },
        {
          "data": {
            "text/html": [
              "<html>\n",
              "<head><meta charset=\"utf-8\" /></head>\n",
              "<body>\n",
              "    <div>            <script src=\"https://cdnjs.cloudflare.com/ajax/libs/mathjax/2.7.5/MathJax.js?config=TeX-AMS-MML_SVG\"></script><script type=\"text/javascript\">if (window.MathJax && window.MathJax.Hub && window.MathJax.Hub.Config) {window.MathJax.Hub.Config({SVG: {font: \"STIX-Web\"}});}</script>                <script type=\"text/javascript\">window.PlotlyConfig = {MathJaxConfig: 'local'};</script>\n",
              "        <script charset=\"utf-8\" src=\"https://cdn.plot.ly/plotly-2.27.0.min.js\"></script>                <div id=\"af429813-32b5-4c29-8a35-58fa5cf167b3\" class=\"plotly-graph-div\" style=\"height:525px; width:100%;\"></div>            <script type=\"text/javascript\">                                    window.PLOTLYENV=window.PLOTLYENV || {};                                    if (document.getElementById(\"af429813-32b5-4c29-8a35-58fa5cf167b3\")) {                    Plotly.newPlot(                        \"af429813-32b5-4c29-8a35-58fa5cf167b3\",                        [{\"arrangement\":\"snap\",\"link\":{\"source\":[11,12,14,9,11,0,0,6,1,3,13,2,2,15,7,6,5,8,8,10],\"target\":[4,4,4,4,14,4,14,4,4,4,4,4,12,4,4,14,4,4,12,4],\"value\":[566,441,439,298,193,170,170,132,100,95,82,76,76,75,70,68,59,58,58,56]},\"node\":{\"color\":\"blue\",\"label\":[\"adult bikes\",\"all bikes\",\"all mountain\",\"balance bikes\",\"bikes\",\"bmx bikes\",\"electric bikes\",\"folding bikes\",\"gt\",\"hybrid bikes\",\"junior bikes\",\"kids bikes\",\"mountain bikes\",\"road bikes\",\"second hand bikes\",\"womens\"],\"line\":{\"color\":\"black\",\"width\":0.5},\"pad\":15,\"thickness\":20},\"type\":\"sankey\"}],                        {\"template\":{\"data\":{\"histogram2dcontour\":[{\"type\":\"histogram2dcontour\",\"colorbar\":{\"outlinewidth\":0,\"ticks\":\"\"},\"colorscale\":[[0.0,\"#0d0887\"],[0.1111111111111111,\"#46039f\"],[0.2222222222222222,\"#7201a8\"],[0.3333333333333333,\"#9c179e\"],[0.4444444444444444,\"#bd3786\"],[0.5555555555555556,\"#d8576b\"],[0.6666666666666666,\"#ed7953\"],[0.7777777777777778,\"#fb9f3a\"],[0.8888888888888888,\"#fdca26\"],[1.0,\"#f0f921\"]]}],\"choropleth\":[{\"type\":\"choropleth\",\"colorbar\":{\"outlinewidth\":0,\"ticks\":\"\"}}],\"histogram2d\":[{\"type\":\"histogram2d\",\"colorbar\":{\"outlinewidth\":0,\"ticks\":\"\"},\"colorscale\":[[0.0,\"#0d0887\"],[0.1111111111111111,\"#46039f\"],[0.2222222222222222,\"#7201a8\"],[0.3333333333333333,\"#9c179e\"],[0.4444444444444444,\"#bd3786\"],[0.5555555555555556,\"#d8576b\"],[0.6666666666666666,\"#ed7953\"],[0.7777777777777778,\"#fb9f3a\"],[0.8888888888888888,\"#fdca26\"],[1.0,\"#f0f921\"]]}],\"heatmap\":[{\"type\":\"heatmap\",\"colorbar\":{\"outlinewidth\":0,\"ticks\":\"\"},\"colorscale\":[[0.0,\"#0d0887\"],[0.1111111111111111,\"#46039f\"],[0.2222222222222222,\"#7201a8\"],[0.3333333333333333,\"#9c179e\"],[0.4444444444444444,\"#bd3786\"],[0.5555555555555556,\"#d8576b\"],[0.6666666666666666,\"#ed7953\"],[0.7777777777777778,\"#fb9f3a\"],[0.8888888888888888,\"#fdca26\"],[1.0,\"#f0f921\"]]}],\"heatmapgl\":[{\"type\":\"heatmapgl\",\"colorbar\":{\"outlinewidth\":0,\"ticks\":\"\"},\"colorscale\":[[0.0,\"#0d0887\"],[0.1111111111111111,\"#46039f\"],[0.2222222222222222,\"#7201a8\"],[0.3333333333333333,\"#9c179e\"],[0.4444444444444444,\"#bd3786\"],[0.5555555555555556,\"#d8576b\"],[0.6666666666666666,\"#ed7953\"],[0.7777777777777778,\"#fb9f3a\"],[0.8888888888888888,\"#fdca26\"],[1.0,\"#f0f921\"]]}],\"contourcarpet\":[{\"type\":\"contourcarpet\",\"colorbar\":{\"outlinewidth\":0,\"ticks\":\"\"}}],\"contour\":[{\"type\":\"contour\",\"colorbar\":{\"outlinewidth\":0,\"ticks\":\"\"},\"colorscale\":[[0.0,\"#0d0887\"],[0.1111111111111111,\"#46039f\"],[0.2222222222222222,\"#7201a8\"],[0.3333333333333333,\"#9c179e\"],[0.4444444444444444,\"#bd3786\"],[0.5555555555555556,\"#d8576b\"],[0.6666666666666666,\"#ed7953\"],[0.7777777777777778,\"#fb9f3a\"],[0.8888888888888888,\"#fdca26\"],[1.0,\"#f0f921\"]]}],\"surface\":[{\"type\":\"surface\",\"colorbar\":{\"outlinewidth\":0,\"ticks\":\"\"},\"colorscale\":[[0.0,\"#0d0887\"],[0.1111111111111111,\"#46039f\"],[0.2222222222222222,\"#7201a8\"],[0.3333333333333333,\"#9c179e\"],[0.4444444444444444,\"#bd3786\"],[0.5555555555555556,\"#d8576b\"],[0.6666666666666666,\"#ed7953\"],[0.7777777777777778,\"#fb9f3a\"],[0.8888888888888888,\"#fdca26\"],[1.0,\"#f0f921\"]]}],\"mesh3d\":[{\"type\":\"mesh3d\",\"colorbar\":{\"outlinewidth\":0,\"ticks\":\"\"}}],\"scatter\":[{\"fillpattern\":{\"fillmode\":\"overlay\",\"size\":10,\"solidity\":0.2},\"type\":\"scatter\"}],\"parcoords\":[{\"type\":\"parcoords\",\"line\":{\"colorbar\":{\"outlinewidth\":0,\"ticks\":\"\"}}}],\"scatterpolargl\":[{\"type\":\"scatterpolargl\",\"marker\":{\"colorbar\":{\"outlinewidth\":0,\"ticks\":\"\"}}}],\"bar\":[{\"error_x\":{\"color\":\"#2a3f5f\"},\"error_y\":{\"color\":\"#2a3f5f\"},\"marker\":{\"line\":{\"color\":\"#E5ECF6\",\"width\":0.5},\"pattern\":{\"fillmode\":\"overlay\",\"size\":10,\"solidity\":0.2}},\"type\":\"bar\"}],\"scattergeo\":[{\"type\":\"scattergeo\",\"marker\":{\"colorbar\":{\"outlinewidth\":0,\"ticks\":\"\"}}}],\"scatterpolar\":[{\"type\":\"scatterpolar\",\"marker\":{\"colorbar\":{\"outlinewidth\":0,\"ticks\":\"\"}}}],\"histogram\":[{\"marker\":{\"pattern\":{\"fillmode\":\"overlay\",\"size\":10,\"solidity\":0.2}},\"type\":\"histogram\"}],\"scattergl\":[{\"type\":\"scattergl\",\"marker\":{\"colorbar\":{\"outlinewidth\":0,\"ticks\":\"\"}}}],\"scatter3d\":[{\"type\":\"scatter3d\",\"line\":{\"colorbar\":{\"outlinewidth\":0,\"ticks\":\"\"}},\"marker\":{\"colorbar\":{\"outlinewidth\":0,\"ticks\":\"\"}}}],\"scattermapbox\":[{\"type\":\"scattermapbox\",\"marker\":{\"colorbar\":{\"outlinewidth\":0,\"ticks\":\"\"}}}],\"scatterternary\":[{\"type\":\"scatterternary\",\"marker\":{\"colorbar\":{\"outlinewidth\":0,\"ticks\":\"\"}}}],\"scattercarpet\":[{\"type\":\"scattercarpet\",\"marker\":{\"colorbar\":{\"outlinewidth\":0,\"ticks\":\"\"}}}],\"carpet\":[{\"aaxis\":{\"endlinecolor\":\"#2a3f5f\",\"gridcolor\":\"white\",\"linecolor\":\"white\",\"minorgridcolor\":\"white\",\"startlinecolor\":\"#2a3f5f\"},\"baxis\":{\"endlinecolor\":\"#2a3f5f\",\"gridcolor\":\"white\",\"linecolor\":\"white\",\"minorgridcolor\":\"white\",\"startlinecolor\":\"#2a3f5f\"},\"type\":\"carpet\"}],\"table\":[{\"cells\":{\"fill\":{\"color\":\"#EBF0F8\"},\"line\":{\"color\":\"white\"}},\"header\":{\"fill\":{\"color\":\"#C8D4E3\"},\"line\":{\"color\":\"white\"}},\"type\":\"table\"}],\"barpolar\":[{\"marker\":{\"line\":{\"color\":\"#E5ECF6\",\"width\":0.5},\"pattern\":{\"fillmode\":\"overlay\",\"size\":10,\"solidity\":0.2}},\"type\":\"barpolar\"}],\"pie\":[{\"automargin\":true,\"type\":\"pie\"}]},\"layout\":{\"autotypenumbers\":\"strict\",\"colorway\":[\"#636efa\",\"#EF553B\",\"#00cc96\",\"#ab63fa\",\"#FFA15A\",\"#19d3f3\",\"#FF6692\",\"#B6E880\",\"#FF97FF\",\"#FECB52\"],\"font\":{\"color\":\"#2a3f5f\"},\"hovermode\":\"closest\",\"hoverlabel\":{\"align\":\"left\"},\"paper_bgcolor\":\"white\",\"plot_bgcolor\":\"#E5ECF6\",\"polar\":{\"bgcolor\":\"#E5ECF6\",\"angularaxis\":{\"gridcolor\":\"white\",\"linecolor\":\"white\",\"ticks\":\"\"},\"radialaxis\":{\"gridcolor\":\"white\",\"linecolor\":\"white\",\"ticks\":\"\"}},\"ternary\":{\"bgcolor\":\"#E5ECF6\",\"aaxis\":{\"gridcolor\":\"white\",\"linecolor\":\"white\",\"ticks\":\"\"},\"baxis\":{\"gridcolor\":\"white\",\"linecolor\":\"white\",\"ticks\":\"\"},\"caxis\":{\"gridcolor\":\"white\",\"linecolor\":\"white\",\"ticks\":\"\"}},\"coloraxis\":{\"colorbar\":{\"outlinewidth\":0,\"ticks\":\"\"}},\"colorscale\":{\"sequential\":[[0.0,\"#0d0887\"],[0.1111111111111111,\"#46039f\"],[0.2222222222222222,\"#7201a8\"],[0.3333333333333333,\"#9c179e\"],[0.4444444444444444,\"#bd3786\"],[0.5555555555555556,\"#d8576b\"],[0.6666666666666666,\"#ed7953\"],[0.7777777777777778,\"#fb9f3a\"],[0.8888888888888888,\"#fdca26\"],[1.0,\"#f0f921\"]],\"sequentialminus\":[[0.0,\"#0d0887\"],[0.1111111111111111,\"#46039f\"],[0.2222222222222222,\"#7201a8\"],[0.3333333333333333,\"#9c179e\"],[0.4444444444444444,\"#bd3786\"],[0.5555555555555556,\"#d8576b\"],[0.6666666666666666,\"#ed7953\"],[0.7777777777777778,\"#fb9f3a\"],[0.8888888888888888,\"#fdca26\"],[1.0,\"#f0f921\"]],\"diverging\":[[0,\"#8e0152\"],[0.1,\"#c51b7d\"],[0.2,\"#de77ae\"],[0.3,\"#f1b6da\"],[0.4,\"#fde0ef\"],[0.5,\"#f7f7f7\"],[0.6,\"#e6f5d0\"],[0.7,\"#b8e186\"],[0.8,\"#7fbc41\"],[0.9,\"#4d9221\"],[1,\"#276419\"]]},\"xaxis\":{\"gridcolor\":\"white\",\"linecolor\":\"white\",\"ticks\":\"\",\"title\":{\"standoff\":15},\"zerolinecolor\":\"white\",\"automargin\":true,\"zerolinewidth\":2},\"yaxis\":{\"gridcolor\":\"white\",\"linecolor\":\"white\",\"ticks\":\"\",\"title\":{\"standoff\":15},\"zerolinecolor\":\"white\",\"automargin\":true,\"zerolinewidth\":2},\"scene\":{\"xaxis\":{\"backgroundcolor\":\"#E5ECF6\",\"gridcolor\":\"white\",\"linecolor\":\"white\",\"showbackground\":true,\"ticks\":\"\",\"zerolinecolor\":\"white\",\"gridwidth\":2},\"yaxis\":{\"backgroundcolor\":\"#E5ECF6\",\"gridcolor\":\"white\",\"linecolor\":\"white\",\"showbackground\":true,\"ticks\":\"\",\"zerolinecolor\":\"white\",\"gridwidth\":2},\"zaxis\":{\"backgroundcolor\":\"#E5ECF6\",\"gridcolor\":\"white\",\"linecolor\":\"white\",\"showbackground\":true,\"ticks\":\"\",\"zerolinecolor\":\"white\",\"gridwidth\":2}},\"shapedefaults\":{\"line\":{\"color\":\"#2a3f5f\"}},\"annotationdefaults\":{\"arrowcolor\":\"#2a3f5f\",\"arrowhead\":0,\"arrowwidth\":1},\"geo\":{\"bgcolor\":\"white\",\"landcolor\":\"#E5ECF6\",\"subunitcolor\":\"white\",\"showland\":true,\"showlakes\":true,\"lakecolor\":\"white\"},\"title\":{\"x\":0.05},\"mapbox\":{\"style\":\"light\"}}},\"title\":{\"text\":\"Top 20 Folder Mappings\"}},                        {\"responsive\": true}                    ).then(function(){\n",
              "                            \n",
              "var gd = document.getElementById('af429813-32b5-4c29-8a35-58fa5cf167b3');\n",
              "var x = new MutationObserver(function (mutations, observer) {{\n",
              "        var display = window.getComputedStyle(gd).display;\n",
              "        if (!display || display === 'none') {{\n",
              "            console.log([gd, 'removed!']);\n",
              "            Plotly.purge(gd);\n",
              "            observer.disconnect();\n",
              "        }}\n",
              "}});\n",
              "\n",
              "// Listen for the removal of the full notebook cells\n",
              "var notebookContainer = gd.closest('#notebook-container');\n",
              "if (notebookContainer) {{\n",
              "    x.observe(notebookContainer, {childList: true});\n",
              "}}\n",
              "\n",
              "// Listen for the clearing of the current output cell\n",
              "var outputEl = gd.closest('.output');\n",
              "if (outputEl) {{\n",
              "    x.observe(outputEl, {childList: true});\n",
              "}}\n",
              "\n",
              "                        })                };                            </script>        </div>\n",
              "</body>\n",
              "</html>"
            ]
          },
          "metadata": {},
          "output_type": "display_data"
        }
      ],
      "source": [
        "print(\"Preparing data for Sankey Chart...\")\n",
        "sankey_data = prepare_sankey_data(df_final)  # Use your final processed dataframe\n",
        "sankey_chart = create_sankey_chart(sankey_data)\n",
        "\n",
        "# Display the Sankey Chart\n",
        "sankey_chart.show()"
      ]
    },
    {
      "cell_type": "markdown",
      "metadata": {
        "id": "CHlYLIRajrMz"
      },
      "source": [
        "# Download the Data"
      ]
    },
    {
      "cell_type": "code",
      "execution_count": 37,
      "metadata": {
        "colab": {
          "base_uri": "https://localhost:8080/",
          "height": 54
        },
        "id": "zRESm_QtTLzA",
        "outputId": "cff4c948-9fc5-4f38-dadf-d47c1d945176"
      },
      "outputs": [
        {
          "name": "stdout",
          "output_type": "stream",
          "text": [
            "Saving final results...\n"
          ]
        },
        {
          "data": {
            "application/javascript": "\n    async function download(id, filename, size) {\n      if (!google.colab.kernel.accessAllowed) {\n        return;\n      }\n      const div = document.createElement('div');\n      const label = document.createElement('label');\n      label.textContent = `Downloading \"${filename}\": `;\n      div.appendChild(label);\n      const progress = document.createElement('progress');\n      progress.max = size;\n      div.appendChild(progress);\n      document.body.appendChild(div);\n\n      const buffers = [];\n      let downloaded = 0;\n\n      const channel = await google.colab.kernel.comms.open(id);\n      // Send a message to notify the kernel that we're ready.\n      channel.send({})\n\n      for await (const message of channel.messages) {\n        // Send a message to notify the kernel that we're ready.\n        channel.send({})\n        if (message.buffers) {\n          for (const buffer of message.buffers) {\n            buffers.push(buffer);\n            downloaded += buffer.byteLength;\n            progress.value = downloaded;\n          }\n        }\n      }\n      const blob = new Blob(buffers, {type: 'application/binary'});\n      const a = document.createElement('a');\n      a.href = window.URL.createObjectURL(blob);\n      a.download = filename;\n      div.appendChild(a);\n      a.click();\n      div.remove();\n    }\n  ",
            "text/plain": [
              "<IPython.core.display.Javascript object>"
            ]
          },
          "metadata": {},
          "output_type": "display_data"
        },
        {
          "data": {
            "application/javascript": "download(\"download_36dec526-9588-485f-adb0-86c24766d1e8\", \"matched_data.csv\", 474760)",
            "text/plain": [
              "<IPython.core.display.Javascript object>"
            ]
          },
          "metadata": {},
          "output_type": "display_data"
        },
        {
          "name": "stdout",
          "output_type": "stream",
          "text": [
            "matched_data.csv has been downloaded successfully.\n"
          ]
        }
      ],
      "source": [
        "print(\"Saving final results...\")\n",
        "\n",
        "# Drop the 'Source Hierarchy' and 'Target Hierarchy' columns from the dataframe\n",
        "df_final.drop(['Source Hierarchy', 'Target Hierarchy'], axis=1, inplace=True)\n",
        "\n",
        "# Save the updated DataFrame without the dropped columns to a CSV file\n",
        "file_name = \"matched_data.csv\"\n",
        "df_final.to_csv(file_name, index=False)\n",
        "\n",
        "# Download the CSV file\n",
        "files.download(file_name)\n",
        "\n",
        "print(f\"{file_name} has been downloaded successfully.\")"
      ]
    }
  ],
  "metadata": {
    "colab": {
      "authorship_tag": "ABX9TyO1Cmzpf0HF8ntgiERYCNWd",
      "include_colab_link": true,
      "provenance": []
    },
    "kernelspec": {
      "display_name": "Python 3",
      "name": "python3"
    },
    "language_info": {
      "name": "python"
    },
    "widgets": {
      "application/vnd.jupyter.widget-state+json": {
        "1a253abdda5744ad8fcb71075f7db24d": {
          "model_module": "@jupyter-widgets/controls",
          "model_module_version": "1.5.0",
          "model_name": "DropdownModel",
          "state": {
            "_dom_classes": [],
            "_model_module": "@jupyter-widgets/controls",
            "_model_module_version": "1.5.0",
            "_model_name": "DropdownModel",
            "_options_labels": [
              "Optional",
              "Address",
              "Redirect URL",
              "Status Code",
              "Status",
              "Content Type",
              "Indexability",
              "Indexability Status",
              "Title 1",
              "Title 1 Length",
              "Title 1 Pixel Width",
              "Title 2",
              "Title 2 Length",
              "Title 2 Pixel Width",
              "Meta Description 1",
              "Meta Description 1 Length",
              "Meta Description 1 Pixel Width",
              "Meta Keywords 1",
              "Meta Keywords 1 Length",
              "H1-1",
              "H1-1 Length",
              "H1-2",
              "H1-2 Length",
              "H2-1",
              "H2-1 Length",
              "Meta Robots 1",
              "X-Robots-Tag 1",
              "Meta Refresh 1",
              "Canonical Link Element 1",
              "rel=\"next\" 1",
              "rel=\"prev\" 1",
              "HTTP rel=\"next\" 1",
              "HTTP rel=\"prev\" 1",
              "amphtml Link Element",
              "Size (bytes)",
              "Transferred (bytes)",
              "Word Count",
              "Sentence Count",
              "Average Words Per Sentence",
              "Flesch Reading Ease Score",
              "Readability",
              "Text Ratio",
              "Crawl Depth",
              "Folder Depth",
              "Link Score",
              "Inlinks",
              "Unique Inlinks",
              "Unique JS Inlinks",
              "% of Total",
              "Outlinks",
              "Unique Outlinks",
              "Unique JS Outlinks",
              "External Outlinks",
              "Unique External Outlinks",
              "Unique External JS Outlinks",
              "Closest Similarity Match",
              "No. Near Duplicates",
              "Spelling Errors",
              "Grammar Errors",
              "Hash",
              "Response Time",
              "Last Modified",
              "Redirect Type",
              "Cookies",
              "HTTP Version",
              "URL Encoded Address",
              "Crawl Timestamp"
            ],
            "_view_count": null,
            "_view_module": "@jupyter-widgets/controls",
            "_view_module_version": "1.5.0",
            "_view_name": "DropdownView",
            "description": "Column 3:",
            "description_tooltip": null,
            "disabled": false,
            "index": 8,
            "layout": "IPY_MODEL_aefacbd94975465ba1e21c48d9c82aa1",
            "style": "IPY_MODEL_863cef8db10a4b2dbca7e3f1e287f6f9"
          }
        },
        "2140f89aa51548848ff50ded6de6334b": {
          "model_module": "@jupyter-widgets/base",
          "model_module_version": "1.2.0",
          "model_name": "LayoutModel",
          "state": {
            "_model_module": "@jupyter-widgets/base",
            "_model_module_version": "1.2.0",
            "_model_name": "LayoutModel",
            "_view_count": null,
            "_view_module": "@jupyter-widgets/base",
            "_view_module_version": "1.2.0",
            "_view_name": "LayoutView",
            "align_content": null,
            "align_items": null,
            "align_self": null,
            "border": null,
            "bottom": null,
            "display": null,
            "flex": null,
            "flex_flow": null,
            "grid_area": null,
            "grid_auto_columns": null,
            "grid_auto_flow": null,
            "grid_auto_rows": null,
            "grid_column": null,
            "grid_gap": null,
            "grid_row": null,
            "grid_template_areas": null,
            "grid_template_columns": null,
            "grid_template_rows": null,
            "height": null,
            "justify_content": null,
            "justify_items": null,
            "left": null,
            "margin": null,
            "max_height": null,
            "max_width": null,
            "min_height": null,
            "min_width": null,
            "object_fit": null,
            "object_position": null,
            "order": null,
            "overflow": null,
            "overflow_x": null,
            "overflow_y": null,
            "padding": null,
            "right": null,
            "top": null,
            "visibility": null,
            "width": null
          }
        },
        "2681bc68555a4ee58cd1692bc5077a70": {
          "model_module": "@jupyter-widgets/controls",
          "model_module_version": "1.5.0",
          "model_name": "DescriptionStyleModel",
          "state": {
            "_model_module": "@jupyter-widgets/controls",
            "_model_module_version": "1.5.0",
            "_model_name": "DescriptionStyleModel",
            "_view_count": null,
            "_view_module": "@jupyter-widgets/base",
            "_view_module_version": "1.2.0",
            "_view_name": "StyleView",
            "description_width": ""
          }
        },
        "3f46315118734a99b30b3c1ce8211c8b": {
          "model_module": "@jupyter-widgets/controls",
          "model_module_version": "1.5.0",
          "model_name": "DescriptionStyleModel",
          "state": {
            "_model_module": "@jupyter-widgets/controls",
            "_model_module_version": "1.5.0",
            "_model_name": "DescriptionStyleModel",
            "_view_count": null,
            "_view_module": "@jupyter-widgets/base",
            "_view_module_version": "1.2.0",
            "_view_name": "StyleView",
            "description_width": ""
          }
        },
        "463b142231404970b0f940464c602bfd": {
          "model_module": "@jupyter-widgets/controls",
          "model_module_version": "1.5.0",
          "model_name": "DropdownModel",
          "state": {
            "_dom_classes": [],
            "_model_module": "@jupyter-widgets/controls",
            "_model_module_version": "1.5.0",
            "_model_name": "DropdownModel",
            "_options_labels": [
              "Optional",
              "Address",
              "Redirect URL",
              "Status Code",
              "Status",
              "Content Type",
              "Indexability",
              "Indexability Status",
              "Title 1",
              "Title 1 Length",
              "Title 1 Pixel Width",
              "Title 2",
              "Title 2 Length",
              "Title 2 Pixel Width",
              "Meta Description 1",
              "Meta Description 1 Length",
              "Meta Description 1 Pixel Width",
              "Meta Keywords 1",
              "Meta Keywords 1 Length",
              "H1-1",
              "H1-1 Length",
              "H1-2",
              "H1-2 Length",
              "H2-1",
              "H2-1 Length",
              "Meta Robots 1",
              "X-Robots-Tag 1",
              "Meta Refresh 1",
              "Canonical Link Element 1",
              "rel=\"next\" 1",
              "rel=\"prev\" 1",
              "HTTP rel=\"next\" 1",
              "HTTP rel=\"prev\" 1",
              "amphtml Link Element",
              "Size (bytes)",
              "Transferred (bytes)",
              "Word Count",
              "Sentence Count",
              "Average Words Per Sentence",
              "Flesch Reading Ease Score",
              "Readability",
              "Text Ratio",
              "Crawl Depth",
              "Folder Depth",
              "Link Score",
              "Inlinks",
              "Unique Inlinks",
              "Unique JS Inlinks",
              "% of Total",
              "Outlinks",
              "Unique Outlinks",
              "Unique JS Outlinks",
              "External Outlinks",
              "Unique External Outlinks",
              "Unique External JS Outlinks",
              "Closest Similarity Match",
              "No. Near Duplicates",
              "Spelling Errors",
              "Grammar Errors",
              "Hash",
              "Response Time",
              "Last Modified",
              "Redirect Type",
              "Cookies",
              "HTTP Version",
              "URL Encoded Address",
              "Crawl Timestamp"
            ],
            "_view_count": null,
            "_view_module": "@jupyter-widgets/controls",
            "_view_module_version": "1.5.0",
            "_view_name": "DropdownView",
            "description": "Column 2:",
            "description_tooltip": null,
            "disabled": false,
            "index": 19,
            "layout": "IPY_MODEL_93fd2173b0974d5196403821e3f35745",
            "style": "IPY_MODEL_3f46315118734a99b30b3c1ce8211c8b"
          }
        },
        "863cef8db10a4b2dbca7e3f1e287f6f9": {
          "model_module": "@jupyter-widgets/controls",
          "model_module_version": "1.5.0",
          "model_name": "DescriptionStyleModel",
          "state": {
            "_model_module": "@jupyter-widgets/controls",
            "_model_module_version": "1.5.0",
            "_model_name": "DescriptionStyleModel",
            "_view_count": null,
            "_view_module": "@jupyter-widgets/base",
            "_view_module_version": "1.2.0",
            "_view_name": "StyleView",
            "description_width": ""
          }
        },
        "93fd2173b0974d5196403821e3f35745": {
          "model_module": "@jupyter-widgets/base",
          "model_module_version": "1.2.0",
          "model_name": "LayoutModel",
          "state": {
            "_model_module": "@jupyter-widgets/base",
            "_model_module_version": "1.2.0",
            "_model_name": "LayoutModel",
            "_view_count": null,
            "_view_module": "@jupyter-widgets/base",
            "_view_module_version": "1.2.0",
            "_view_name": "LayoutView",
            "align_content": null,
            "align_items": null,
            "align_self": null,
            "border": null,
            "bottom": null,
            "display": null,
            "flex": null,
            "flex_flow": null,
            "grid_area": null,
            "grid_auto_columns": null,
            "grid_auto_flow": null,
            "grid_auto_rows": null,
            "grid_column": null,
            "grid_gap": null,
            "grid_row": null,
            "grid_template_areas": null,
            "grid_template_columns": null,
            "grid_template_rows": null,
            "height": null,
            "justify_content": null,
            "justify_items": null,
            "left": null,
            "margin": null,
            "max_height": null,
            "max_width": null,
            "min_height": null,
            "min_width": null,
            "object_fit": null,
            "object_position": null,
            "order": null,
            "overflow": null,
            "overflow_x": null,
            "overflow_y": null,
            "padding": null,
            "right": null,
            "top": null,
            "visibility": null,
            "width": null
          }
        },
        "aefacbd94975465ba1e21c48d9c82aa1": {
          "model_module": "@jupyter-widgets/base",
          "model_module_version": "1.2.0",
          "model_name": "LayoutModel",
          "state": {
            "_model_module": "@jupyter-widgets/base",
            "_model_module_version": "1.2.0",
            "_model_name": "LayoutModel",
            "_view_count": null,
            "_view_module": "@jupyter-widgets/base",
            "_view_module_version": "1.2.0",
            "_view_name": "LayoutView",
            "align_content": null,
            "align_items": null,
            "align_self": null,
            "border": null,
            "bottom": null,
            "display": null,
            "flex": null,
            "flex_flow": null,
            "grid_area": null,
            "grid_auto_columns": null,
            "grid_auto_flow": null,
            "grid_auto_rows": null,
            "grid_column": null,
            "grid_gap": null,
            "grid_row": null,
            "grid_template_areas": null,
            "grid_template_columns": null,
            "grid_template_rows": null,
            "height": null,
            "justify_content": null,
            "justify_items": null,
            "left": null,
            "margin": null,
            "max_height": null,
            "max_width": null,
            "min_height": null,
            "min_width": null,
            "object_fit": null,
            "object_position": null,
            "order": null,
            "overflow": null,
            "overflow_x": null,
            "overflow_y": null,
            "padding": null,
            "right": null,
            "top": null,
            "visibility": null,
            "width": null
          }
        },
        "afa5b3762f5d4fdb9c8de8c90a6be00e": {
          "model_module": "@jupyter-widgets/controls",
          "model_module_version": "1.5.0",
          "model_name": "DropdownModel",
          "state": {
            "_dom_classes": [],
            "_model_module": "@jupyter-widgets/controls",
            "_model_module_version": "1.5.0",
            "_model_name": "DropdownModel",
            "_options_labels": [
              "Optional",
              "Address",
              "Redirect URL",
              "Status Code",
              "Status",
              "Content Type",
              "Indexability",
              "Indexability Status",
              "Title 1",
              "Title 1 Length",
              "Title 1 Pixel Width",
              "Title 2",
              "Title 2 Length",
              "Title 2 Pixel Width",
              "Meta Description 1",
              "Meta Description 1 Length",
              "Meta Description 1 Pixel Width",
              "Meta Keywords 1",
              "Meta Keywords 1 Length",
              "H1-1",
              "H1-1 Length",
              "H1-2",
              "H1-2 Length",
              "H2-1",
              "H2-1 Length",
              "Meta Robots 1",
              "X-Robots-Tag 1",
              "Meta Refresh 1",
              "Canonical Link Element 1",
              "rel=\"next\" 1",
              "rel=\"prev\" 1",
              "HTTP rel=\"next\" 1",
              "HTTP rel=\"prev\" 1",
              "amphtml Link Element",
              "Size (bytes)",
              "Transferred (bytes)",
              "Word Count",
              "Sentence Count",
              "Average Words Per Sentence",
              "Flesch Reading Ease Score",
              "Readability",
              "Text Ratio",
              "Crawl Depth",
              "Folder Depth",
              "Link Score",
              "Inlinks",
              "Unique Inlinks",
              "Unique JS Inlinks",
              "% of Total",
              "Outlinks",
              "Unique Outlinks",
              "Unique JS Outlinks",
              "External Outlinks",
              "Unique External Outlinks",
              "Unique External JS Outlinks",
              "Closest Similarity Match",
              "No. Near Duplicates",
              "Spelling Errors",
              "Grammar Errors",
              "Hash",
              "Response Time",
              "Last Modified",
              "Redirect Type",
              "Cookies",
              "HTTP Version",
              "URL Encoded Address",
              "Crawl Timestamp"
            ],
            "_view_count": null,
            "_view_module": "@jupyter-widgets/controls",
            "_view_module_version": "1.5.0",
            "_view_name": "DropdownView",
            "description": "Column 1:",
            "description_tooltip": null,
            "disabled": false,
            "index": 1,
            "layout": "IPY_MODEL_2140f89aa51548848ff50ded6de6334b",
            "style": "IPY_MODEL_2681bc68555a4ee58cd1692bc5077a70"
          }
        }
      }
    }
  },
  "nbformat": 4,
  "nbformat_minor": 0
}
