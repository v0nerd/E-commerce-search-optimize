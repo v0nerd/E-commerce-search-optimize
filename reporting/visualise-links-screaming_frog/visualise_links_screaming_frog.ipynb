{
  "cells": [
    {
      "cell_type": "markdown",
      "metadata": {
        "colab_type": "text",
        "id": "view-in-github"
      },
      "source": [
        "<a href=\"https://colab.research.google.com/github/searchsolved/search-solved-public-seo/blob/main/visualise_links_screaming_frog/visualise_links_screaming_frog.ipynb\" target=\"_parent\"><img src=\"https://colab.research.google.com/assets/colab-badge.svg\" alt=\"Open In Colab\"/></a>"
      ]
    },
    {
      "cell_type": "markdown",
      "metadata": {
        "id": "9zI6__uY6j2h"
      },
      "source": [
        "# Visualise Internal Linking Structure with Treemaps\n",
        "\n",
        "## File Formats (CSV Exports Only!)\n",
        "*   Screaming Frog Crawl Export\n",
        "*   ahrefs.com Backlinks Report\n",
        "*   Search Console Internal Links Report\n",
        "*   Search Console External Links Report\n",
        "\n",
        "# How to use:\n",
        "Run all cells and upload a csv export from either screaming frog, ahrefs, or search console to visualise internal or external links to different section of your Website."
      ]
    },
    {
      "cell_type": "code",
      "execution_count": null,
      "metadata": {
        "id": "O3A5MhRuwEwW"
      },
      "outputs": [],
      "source": [
        "!pip install pandas\n",
        "!pip install pip install plotly==5.0.0"
      ]
    },
    {
      "cell_type": "code",
      "execution_count": null,
      "metadata": {
        "id": "GAhTVRxUwVl2"
      },
      "outputs": [],
      "source": [
        "import pandas as pd\n",
        "import urllib.parse as urlparse\n",
        "import plotly.express as px\n",
        "import io\n",
        "from google.colab import files"
      ]
    },
    {
      "cell_type": "markdown",
      "metadata": {
        "id": "IIrtY69DjthP"
      },
      "source": [
        "# Upload a .csv file in the next cell"
      ]
    },
    {
      "cell_type": "code",
      "execution_count": null,
      "metadata": {
        "id": "dKM-mkFywzED"
      },
      "outputs": [],
      "source": [
        "# upload the Screaming Frog crawl File (internal_html.csv)\n",
        "uploaded = files.upload()"
      ]
    },
    {
      "cell_type": "code",
      "execution_count": null,
      "metadata": {
        "id": "cZq-5WXGyQYB"
      },
      "outputs": [],
      "source": [
        "filename = list(uploaded.keys())[0]\n",
        "df = pd.read_csv(io.StringIO(uploaded[filename].decode('utf-8', errors='ignore')))\n",
        "print(\"Imported Crawl File ..\")"
      ]
    },
    {
      "cell_type": "code",
      "execution_count": null,
      "metadata": {
        "id": "BNBSIq054vtW"
      },
      "outputs": [],
      "source": [
        "df.rename(columns={\"Target page\": \"Address\", \"Internal links\": \"Inlinks\", \"Target Page\":\"Address\", \"Linking Sites\": \"Inlinks\", \"Link URL\": \"Address\", \"Referring Domains\": \"Inlinks\"}, inplace=True)\n",
        "print(df)"
      ]
    },
    {
      "cell_type": "code",
      "execution_count": null,
      "metadata": {
        "id": "RgyVkWzIyIlX"
      },
      "outputs": [],
      "source": [
        "try:\n",
        "  df = df[~df[\"Indexability\"].isin([\"Non-Indexable\"])]\n",
        "  print(\"Dropped Non-Indexable Rows\")\n",
        "except Exception:\n",
        "  pass\n",
        "  print(\"Indexability Column Not Found - Unable to Drop Non-Indexable Pages!\")\n",
        "print(df)"
      ]
    },
    {
      "cell_type": "code",
      "execution_count": null,
      "metadata": {
        "id": "EcKkOwJGy1uT"
      },
      "outputs": [],
      "source": [
        "df['protocol'],df['domain'],df['path'],df['query'],df['fragment'] = zip(*df['Address'].map(urlparse.urlsplit))"
      ]
    },
    {
      "cell_type": "code",
      "execution_count": null,
      "metadata": {
        "id": "AJpxPbm12SxY"
      },
      "outputs": [],
      "source": [
        "# make temp df to split with expand=true and then merge back by the index.\n",
        "df2 = df['path'].str.split('/', expand=True)\n",
        "df = pd.merge(df, df2, left_index=True, right_index=True)"
      ]
    },
    {
      "cell_type": "code",
      "execution_count": null,
      "metadata": {
        "id": "hvge5R-W06xx"
      },
      "outputs": [],
      "source": [
        "fig = px.treemap(df, path=[1, 'Address'], values='Inlinks')"
      ]
    },
    {
      "cell_type": "code",
      "execution_count": null,
      "metadata": {
        "id": "nrd3m9Bv2gAC"
      },
      "outputs": [],
      "source": [
        "fig.show()"
      ]
    },
    {
      "cell_type": "code",
      "execution_count": null,
      "metadata": {
        "id": "fHVmwADw22Xe"
      },
      "outputs": [],
      "source": [
        "fig.write_html(\"internal_links_treemap.html\")\n",
        "files.download(\"internal_links_treemap.html\")"
      ]
    }
  ],
  "metadata": {
    "colab": {
      "authorship_tag": "ABX9TyPqCfKSwMp99R35MQFOUY60",
      "collapsed_sections": [],
      "include_colab_link": true,
      "name": "Visualise Links Screaming Frog.ipynb",
      "provenance": []
    },
    "kernelspec": {
      "display_name": "Python 3",
      "name": "python3"
    },
    "language_info": {
      "name": "python"
    }
  },
  "nbformat": 4,
  "nbformat_minor": 0
}
