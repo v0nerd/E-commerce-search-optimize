{
  "cells": [
    {
      "cell_type": "markdown",
      "metadata": {
        "colab_type": "text",
        "id": "view-in-github"
      },
      "source": [
        "<a href=\"https://colab.research.google.com/github/searchsolved/search-solved-public-seo/blob/main/create_bcg_matrix_from_ga_landing_page_report/create_bcg_matrix_from_ga_landing_page_report.ipynb\" target=\"_parent\"><img src=\"https://colab.research.google.com/assets/colab-badge.svg\" alt=\"Open In Colab\"/></a>"
      ]
    },
    {
      "cell_type": "markdown",
      "metadata": {
        "id": "m82FSMw_vYoM"
      },
      "source": [
        "**How to Use: **\n",
        "\n",
        "1.   Upload a GA Landing Page Report with Sessions & Revenue. \n",
        "2.   Lookup for a Chrome Popup asking to download multiple files at once.\n",
        "3.   Done!\n",
        "\n",
        "This script takes a landing page report and creates a BCG matric from the data. This is useful for spotting any outliers in the data. (For example, high revenue but low traffic? Strategise to increase the traffic - maybe run a paid campaign and so on).\n",
        "\n",
        "The Output:\n",
        "This script output a top level report from a custom starting URL depth, and then loops one level deeper. (e.g. it'll report on the parent category data and then loop through for each subcategory and generate an independant report for each).\n"
      ]
    },
    {
      "cell_type": "code",
      "execution_count": null,
      "metadata": {
        "colab": {
          "base_uri": "https://localhost:8080/"
        },
        "id": "ettJmiabfcp5",
        "outputId": "4461b252-d4c1-4a38-b1fe-328ca838e219"
      },
      "outputs": [
        {
          "name": "stdout",
          "output_type": "stream",
          "text": [
            "Requirement already satisfied: pandas in /usr/local/lib/python3.7/dist-packages (1.1.5)\n",
            "Requirement already satisfied: numpy>=1.15.4 in /usr/local/lib/python3.7/dist-packages (from pandas) (1.19.5)\n",
            "Requirement already satisfied: python-dateutil>=2.7.3 in /usr/local/lib/python3.7/dist-packages (from pandas) (2.8.1)\n",
            "Requirement already satisfied: pytz>=2017.2 in /usr/local/lib/python3.7/dist-packages (from pandas) (2018.9)\n",
            "Requirement already satisfied: six>=1.5 in /usr/local/lib/python3.7/dist-packages (from python-dateutil>=2.7.3->pandas) (1.15.0)\n"
          ]
        }
      ],
      "source": [
        "!pip install pandas"
      ]
    },
    {
      "cell_type": "code",
      "execution_count": null,
      "metadata": {
        "id": "rVmbl1vtefEH"
      },
      "outputs": [],
      "source": [
        "import pandas as pd\n",
        "import matplotlib.pyplot as plt\n",
        "import io\n",
        "\n",
        "from google.colab import files \n",
        "from glob import glob"
      ]
    },
    {
      "cell_type": "code",
      "execution_count": null,
      "metadata": {
        "id": "a-r453ade3ZO"
      },
      "outputs": [],
      "source": [
        "# set the url starting depth to make the charts - default = 2\n",
        "url_depth = 2\n",
        "\n",
        "# Set label text size and colour\n",
        "text_size = 6\n",
        "text_colour = \"red\"\n",
        "\n",
        "# set quadrant names\n",
        "top_left = 'Finders'\n",
        "top_right = 'Keepers'\n",
        "bottom_left = 'Losers'\n",
        "bottom_right = 'Weepers'\n",
        "\n",
        "# set the DPI Resolution for Export\n",
        "dpi_size = 300"
      ]
    },
    {
      "cell_type": "code",
      "execution_count": null,
      "metadata": {
        "colab": {
          "base_uri": "https://localhost:8080/",
          "height": 72,
          "resources": {
            "http://localhost:8080/nbextensions/google.colab/files.js": {
              "data": "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",
              "headers": [
                [
                  "content-type",
                  "application/javascript"
                ]
              ],
              "ok": true,
              "status": 200,
              "status_text": ""
            }
          }
        },
        "id": "Q_zEPfNjf74A",
        "outputId": "6309aaf6-6029-4495-d123-0456d4e22b5e"
      },
      "outputs": [
        {
          "data": {
            "text/html": [
              "\n",
              "     <input type=\"file\" id=\"files-f9a52106-44f9-45af-884a-11331cbc5866\" name=\"files[]\" multiple disabled\n",
              "        style=\"border:none\" />\n",
              "     <output id=\"result-f9a52106-44f9-45af-884a-11331cbc5866\">\n",
              "      Upload widget is only available when the cell has been executed in the\n",
              "      current browser session. Please rerun this cell to enable.\n",
              "      </output>\n",
              "      <script src=\"/nbextensions/google.colab/files.js\"></script> "
            ],
            "text/plain": [
              "<IPython.core.display.HTML object>"
            ]
          },
          "metadata": {
            "tags": []
          },
          "output_type": "display_data"
        },
        {
          "name": "stdout",
          "output_type": "stream",
          "text": [
            "Saving Analytics DOS - MV - Annotations Organic Search Traffic 20210101-20210131 20200101-20200131.xlsx to Analytics DOS - MV - Annotations Organic Search Traffic 20210101-20210131 20200101-20200131.xlsx\n"
          ]
        }
      ],
      "source": [
        "# Upload the Landing Page Report from Google Analytics\n",
        "uploaded = files.upload()"
      ]
    },
    {
      "cell_type": "code",
      "execution_count": null,
      "metadata": {
        "colab": {
          "base_uri": "https://localhost:8080/"
        },
        "id": "pe3yDVLMf58m",
        "outputId": "06fd3ebd-79e3-4b9d-c310-f36b007422f7"
      },
      "outputs": [
        {
          "name": "stdout",
          "output_type": "stream",
          "text": [
            "                                        Landing Page  ...      Revenue\n",
            "0                       /category/attic-widgets.html  ...  7950.154080\n",
            "1                       /category/attic-widgets.html  ...  6013.269537\n",
            "2                    /category/basement-widgets.html  ...  2360.359511\n",
            "3                    /category/basement-widgets.html  ...  1586.040264\n",
            "4  /category/attic-widgets/attic-glazed-widgets.html  ...  2396.614191\n",
            "\n",
            "[5 rows x 11 columns]\n"
          ]
        }
      ],
      "source": [
        "ga_filename=list(uploaded.keys())[0]  # get the filename from the upload\n",
        "df_ga = pd.read_excel(ga_filename, 'Dataset1')  # choose the right sheet from Excel\n",
        "print(df_ga.head())"
      ]
    },
    {
      "cell_type": "code",
      "execution_count": null,
      "metadata": {
        "colab": {
          "base_uri": "https://localhost:8080/"
        },
        "id": "dBXpb0xGgOlP",
        "outputId": "24f44828-c771-405e-c570-bf8ccf3a6d9a"
      },
      "outputs": [
        {
          "name": "stdout",
          "output_type": "stream",
          "text": [
            "Imported: 2228 rows from Google Analytics\n"
          ]
        }
      ],
      "source": [
        "# Sense check the data and flag if < 100 rows imported from GA\n",
        "count_rows = df_ga.shape[0]\n",
        "print(\"Imported:\", count_rows, \"rows from Google Analytics\")\n",
        "\n",
        "if count_rows < 100:\n",
        "    print(\"Under 100 Rows Imported, Did you export all rows?!\")"
      ]
    },
    {
      "cell_type": "markdown",
      "metadata": {
        "id": "non_Ix29qe6p"
      },
      "source": [
        "# Clean the Data"
      ]
    },
    {
      "cell_type": "code",
      "execution_count": null,
      "metadata": {
        "id": "nIraqYaLgrP5"
      },
      "outputs": [],
      "source": [
        "df_ga[\"Landing Page\"] = df_ga[\"Landing Page\"].astype(str)  # convert data types to string\n",
        "df_ga[\"Folder\"] = df_ga[\"Landing Page\"].str.split(\"/\").str[url_depth]  # Extract the Category Folder from a URL\n",
        "df_ga[\"Folder Name\"] = df_ga[\"Folder\"].str.split(\".\").str[0]  # split on . to consolidate .html urls\n",
        "df_ga[\"Folder Name\"] = df_ga[\"Folder Name\"].dropna()  # drop NaN Values\n",
        "df_ga_grp = (df_ga.groupby(\"Folder Name\").agg({\"Sessions\": sum, \"Revenue\": sum}).reset_index())  # group by category, sum sessions and revenue\n",
        "count_group_rows = df_ga_grp.shape[0]  # get the count of the df (used for loop)\n",
        "df_ga_grp = df_ga_grp.sort_values(by=\"Sessions\", ascending=False)  # sort by sessions\n",
        "df_ga_grp.replace({\"\": \"delete-me-empty-row\"}, inplace=True)  # replace whitespace with string for deletion  # todo do this more elegantly\n",
        "df_ga_grp = df_ga_grp[~df_ga_grp[\"Folder Name\"].isin([\"delete-me-empty-row\"])]  # delete the empty rows\n",
        "folder_list = df_ga_grp[\"Folder Name\"] # make list of folders to loop through\n",
        "folder_list = list(folder_list)\n",
        "df_ga_grp['Folder Name'] = df_ga_grp['Folder Name'].astype(str)\n",
        "df_ga_grp['Folder Name'] = df_ga_grp['Folder Name'].str.replace(\"-\", \" \")\n",
        "df_ga_grp['Folder Name'] = df_ga_grp['Folder Name'].str.title()  # Convert to Title Case\n",
        "df_ga_grp['Max Sessions'] = df_ga_grp[\"Sessions\"].max()  # calculate max values\n",
        "df_ga_grp['Max Revenue'] = df_ga_grp[\"Revenue\"].max()  # calculate max values\n",
        "df_ga_grp['Average Sessions'] = 100 * df_ga_grp[\"Sessions\"] / df_ga_grp['Max Sessions']  # calculate the average values\n",
        "df_ga_grp['Average Revenue'] = 100 * df_ga_grp[\"Revenue\"] / df_ga_grp['Max Revenue']\n",
        "df_ga_grp['Z - Bubble Size'] = (df_ga_grp['Average Sessions'] / 100) * 10  # create the bubble size\n",
        "\n",
        "# delete the helper columns\n",
        "del df_ga_grp['Max Sessions']\n",
        "del df_ga_grp['Max Revenue']\n",
        "del df_ga_grp['Sessions']\n",
        "del df_ga_grp['Revenue']\n",
        "\n",
        "df_ga_grp = df_ga_grp.round(2)  # round to 0 decimal places"
      ]
    },
    {
      "cell_type": "markdown",
      "metadata": {
        "id": "jIc9NtiMl7-r"
      },
      "source": [
        "# start matplotlib"
      ]
    },
    {
      "cell_type": "code",
      "execution_count": null,
      "metadata": {
        "colab": {
          "base_uri": "https://localhost:8080/",
          "height": 394
        },
        "id": "dfJh9ogEg2Mg",
        "outputId": "f4cc1441-e145-4cd4-f219-c8ee3558136b"
      },
      "outputs": [
        {
          "data": {
            "application/javascript": "\n    async function download(id, filename, size) {\n      if (!google.colab.kernel.accessAllowed) {\n        return;\n      }\n      const div = document.createElement('div');\n      const label = document.createElement('label');\n      label.textContent = `Downloading \"${filename}\": `;\n      div.appendChild(label);\n      const progress = document.createElement('progress');\n      progress.max = size;\n      div.appendChild(progress);\n      document.body.appendChild(div);\n\n      const buffers = [];\n      let downloaded = 0;\n\n      const channel = await google.colab.kernel.comms.open(id);\n      // Send a message to notify the kernel that we're ready.\n      channel.send({})\n\n      for await (const message of channel.messages) {\n        // Send a message to notify the kernel that we're ready.\n        channel.send({})\n        if (message.buffers) {\n          for (const buffer of message.buffers) {\n            buffers.push(buffer);\n            downloaded += buffer.byteLength;\n            progress.value = downloaded;\n          }\n        }\n      }\n      const blob = new Blob(buffers, {type: 'application/binary'});\n      const a = document.createElement('a');\n      a.href = window.URL.createObjectURL(blob);\n      a.download = filename;\n      div.appendChild(a);\n      a.click();\n      div.remove();\n    }\n  ",
            "text/plain": [
              "<IPython.core.display.Javascript object>"
            ]
          },
          "metadata": {
            "tags": []
          },
          "output_type": "display_data"
        },
        {
          "data": {
            "application/javascript": "download(\"download_21348aea-113c-45ea-a442-713206fa6b0d\", \"GA Sessions Vs. Revenue - Depth - 2 - Main Export.png\", 127791)",
            "text/plain": [
              "<IPython.core.display.Javascript object>"
            ]
          },
          "metadata": {
            "tags": []
          },
          "output_type": "display_data"
        },
        {
          "data": {
            "image/png": "[encoded data removed]",
            "text/plain": [
              "<Figure size 576x432 with 1 Axes>"
            ]
          },
          "metadata": {
            "needs_background": "light",
            "tags": []
          },
          "output_type": "display_data"
        }
      ],
      "source": [
        "# set the chart size (8 inch width vs 4 inch height)\n",
        "plt.figure(figsize=(8,6))\n",
        "\n",
        "# set font size\n",
        "plt.rcParams.update({'font.size': 6})\n",
        "plt.rcParams.update({'figure.autolayout': True})\n",
        "\n",
        "# plot dataframe values\n",
        "scat = plt.scatter(x=df_ga_grp['Average Sessions'],\n",
        "            y=df_ga_grp['Average Revenue'],\n",
        "            s=df_ga_grp['Z - Bubble Size'] * 1000,\n",
        "            alpha=0.2)\n",
        "\n",
        "# chart title and label axis\n",
        "plt.title('GA Sessions Vs. Revenue')\n",
        "plt.xlabel('Sessions', size=10)\n",
        "plt.ylabel('Revenue', size=10)\n",
        "\n",
        "# create main annotations\n",
        "main_ann_list = []\n",
        "for f, txt in enumerate(df_ga_grp['Folder Name']):\n",
        "    main_ann = plt.annotate(txt, (df_ga_grp['Average Sessions'].iat[f], df_ga_grp['Average Revenue'].iat[f]))\n",
        "    main_ann_list.append(main_ann)\n",
        "\n",
        "    # Set x-axis range\n",
        "    plt.xlim((-10,110))\n",
        "    # Set y-axis range\n",
        "    plt.ylim((-10,110))\n",
        "\n",
        "    # Draw lines to split quadrants\n",
        "    plt.plot([50,50],[-10,110], linewidth=0.5, color='black')\n",
        "    plt.plot([-10,110],[50,50], linewidth=0.5, color='black')\n",
        "\n",
        "# add labels to each quadrant\n",
        "plt.text(-8, 106, top_left, size=text_size, color=text_colour)\n",
        "plt.text(101, 106, top_right, size=text_size, color=text_colour)\n",
        "plt.text(-8, -8, bottom_left, size=text_size, color=text_colour)\n",
        "plt.text(101, -8, bottom_right, size=text_size, color=text_colour)\n",
        "\n",
        "# save main four quadrant matrix chart\n",
        "#plt.savefig('GA Sessions Vs. Revenue.png',dpi=dpi_size)\n",
        "plt.savefig(\"GA Sessions Vs. Revenue - Depth - \" + str(url_depth) + \" - Main Export.png\", dpi=dpi_size)\n",
        "files.download(\"GA Sessions Vs. Revenue - Depth - \" + str(url_depth) + \" - Main Export.png\")"
      ]
    },
    {
      "cell_type": "code",
      "execution_count": null,
      "metadata": {
        "id": "RZOdd2bRmZ6K"
      },
      "outputs": [],
      "source": [
        "# remove annotations\n",
        "for a in main_ann_list:\n",
        "    a.remove()\n",
        "\n",
        "scat.remove()  # remove scatter points\n",
        "deep_depth = url_depth + 1  # add 1 to the url depth variable\n",
        "df_ga[\"Folder\"] = df_ga[\"Landing Page\"].str.split(\"/\").str[deep_depth]  # Extract the Category Folder from a URL + 1 level deeper\n",
        "df_ga[\"Folder\"] = df_ga[\"Folder\"].str.replace(\".html\",\"\")  # replace .html with \"\" for better grouping\n",
        "count_group_rows = count_group_rows -1  # start looping through +1 level deeper"
      ]
    },
    {
      "cell_type": "markdown",
      "metadata": {
        "id": "4x8LkvjbiMKt"
      },
      "source": [
        "# Loop Through URL Folder Level Deeper & Save the Result PNGs\n",
        "Remember to allow Chrome to download multiple files at once!"
      ]
    },
    {
      "cell_type": "code",
      "execution_count": null,
      "metadata": {
        "colab": {
          "base_uri": "https://localhost:8080/",
          "height": 306
        },
        "id": "wru_tFzZhEWL",
        "outputId": "b645bf5a-2919-438a-ce72-c5e4ba405795"
      },
      "outputs": [
        {
          "data": {
            "application/javascript": "\n    async function download(id, filename, size) {\n      if (!google.colab.kernel.accessAllowed) {\n        return;\n      }\n      const div = document.createElement('div');\n      const label = document.createElement('label');\n      label.textContent = `Downloading \"${filename}\": `;\n      div.appendChild(label);\n      const progress = document.createElement('progress');\n      progress.max = size;\n      div.appendChild(progress);\n      document.body.appendChild(div);\n\n      const buffers = [];\n      let downloaded = 0;\n\n      const channel = await google.colab.kernel.comms.open(id);\n      // Send a message to notify the kernel that we're ready.\n      channel.send({})\n\n      for await (const message of channel.messages) {\n        // Send a message to notify the kernel that we're ready.\n        channel.send({})\n        if (message.buffers) {\n          for (const buffer of message.buffers) {\n            buffers.push(buffer);\n            downloaded += buffer.byteLength;\n            progress.value = downloaded;\n          }\n        }\n      }\n      const blob = new Blob(buffers, {type: 'application/binary'});\n      const a = document.createElement('a');\n      a.href = window.URL.createObjectURL(blob);\n      a.download = filename;\n      div.appendChild(a);\n      a.click();\n      div.remove();\n    }\n  ",
            "text/plain": [
              "<IPython.core.display.Javascript object>"
            ]
          },
          "metadata": {
            "tags": []
          },
          "output_type": "display_data"
        },
        {
          "data": {
            "application/javascript": "download(\"download_9358f1e7-ee02-49d7-a415-e94f5463c9b5\", \"GA Sessions Vs. Revenue - Depth - 3 - Attic Widgets.png\", 246341)",
            "text/plain": [
              "<IPython.core.display.Javascript object>"
            ]
          },
          "metadata": {
            "tags": []
          },
          "output_type": "display_data"
        },
        {
          "data": {
            "application/javascript": "\n    async function download(id, filename, size) {\n      if (!google.colab.kernel.accessAllowed) {\n        return;\n      }\n      const div = document.createElement('div');\n      const label = document.createElement('label');\n      label.textContent = `Downloading \"${filename}\": `;\n      div.appendChild(label);\n      const progress = document.createElement('progress');\n      progress.max = size;\n      div.appendChild(progress);\n      document.body.appendChild(div);\n\n      const buffers = [];\n      let downloaded = 0;\n\n      const channel = await google.colab.kernel.comms.open(id);\n      // Send a message to notify the kernel that we're ready.\n      channel.send({})\n\n      for await (const message of channel.messages) {\n        // Send a message to notify the kernel that we're ready.\n        channel.send({})\n        if (message.buffers) {\n          for (const buffer of message.buffers) {\n            buffers.push(buffer);\n            downloaded += buffer.byteLength;\n            progress.value = downloaded;\n          }\n        }\n      }\n      const blob = new Blob(buffers, {type: 'application/binary'});\n      const a = document.createElement('a');\n      a.href = window.URL.createObjectURL(blob);\n      a.download = filename;\n      div.appendChild(a);\n      a.click();\n      div.remove();\n    }\n  ",
            "text/plain": [
              "<IPython.core.display.Javascript object>"
            ]
          },
          "metadata": {
            "tags": []
          },
          "output_type": "display_data"
        },
        {
          "data": {
            "application/javascript": "download(\"download_ec2ea9c1-32bb-4ec4-8a68-21070a7acc5b\", \"GA Sessions Vs. Revenue - Depth - 3 - Basement Widgets.png\", 84467)",
            "text/plain": [
              "<IPython.core.display.Javascript object>"
            ]
          },
          "metadata": {
            "tags": []
          },
          "output_type": "display_data"
        },
        {
          "data": {
            "application/javascript": "\n    async function download(id, filename, size) {\n      if (!google.colab.kernel.accessAllowed) {\n        return;\n      }\n      const div = document.createElement('div');\n      const label = document.createElement('label');\n      label.textContent = `Downloading \"${filename}\": `;\n      div.appendChild(label);\n      const progress = document.createElement('progress');\n      progress.max = size;\n      div.appendChild(progress);\n      document.body.appendChild(div);\n\n      const buffers = [];\n      let downloaded = 0;\n\n      const channel = await google.colab.kernel.comms.open(id);\n      // Send a message to notify the kernel that we're ready.\n      channel.send({})\n\n      for await (const message of channel.messages) {\n        // Send a message to notify the kernel that we're ready.\n        channel.send({})\n        if (message.buffers) {\n          for (const buffer of message.buffers) {\n            buffers.push(buffer);\n            downloaded += buffer.byteLength;\n            progress.value = downloaded;\n          }\n        }\n      }\n      const blob = new Blob(buffers, {type: 'application/binary'});\n      const a = document.createElement('a');\n      a.href = window.URL.createObjectURL(blob);\n      a.download = filename;\n      div.appendChild(a);\n      a.click();\n      div.remove();\n    }\n  ",
            "text/plain": [
              "<IPython.core.display.Javascript object>"
            ]
          },
          "metadata": {
            "tags": []
          },
          "output_type": "display_data"
        },
        {
          "data": {
            "application/javascript": "download(\"download_cbcda351-adbd-42e5-afcf-8c116bbe23ef\", \"GA Sessions Vs. Revenue - Depth - 3 - Widget Frames.png\", 117495)",
            "text/plain": [
              "<IPython.core.display.Javascript object>"
            ]
          },
          "metadata": {
            "tags": []
          },
          "output_type": "display_data"
        },
        {
          "data": {
            "application/javascript": "\n    async function download(id, filename, size) {\n      if (!google.colab.kernel.accessAllowed) {\n        return;\n      }\n      const div = document.createElement('div');\n      const label = document.createElement('label');\n      label.textContent = `Downloading \"${filename}\": `;\n      div.appendChild(label);\n      const progress = document.createElement('progress');\n      progress.max = size;\n      div.appendChild(progress);\n      document.body.appendChild(div);\n\n      const buffers = [];\n      let downloaded = 0;\n\n      const channel = await google.colab.kernel.comms.open(id);\n      // Send a message to notify the kernel that we're ready.\n      channel.send({})\n\n      for await (const message of channel.messages) {\n        // Send a message to notify the kernel that we're ready.\n        channel.send({})\n        if (message.buffers) {\n          for (const buffer of message.buffers) {\n            buffers.push(buffer);\n            downloaded += buffer.byteLength;\n            progress.value = downloaded;\n          }\n        }\n      }\n      const blob = new Blob(buffers, {type: 'application/binary'});\n      const a = document.createElement('a');\n      a.href = window.URL.createObjectURL(blob);\n      a.download = filename;\n      div.appendChild(a);\n      a.click();\n      div.remove();\n    }\n  ",
            "text/plain": [
              "<IPython.core.display.Javascript object>"
            ]
          },
          "metadata": {
            "tags": []
          },
          "output_type": "display_data"
        },
        {
          "data": {
            "application/javascript": "download(\"download_8496fbd7-d49e-471d-87bb-dabd9acc5a7f\", \"GA Sessions Vs. Revenue - Depth - 3 - Plastic Rated Widgets.png\", 156202)",
            "text/plain": [
              "<IPython.core.display.Javascript object>"
            ]
          },
          "metadata": {
            "tags": []
          },
          "output_type": "display_data"
        },
        {
          "data": {
            "application/javascript": "\n    async function download(id, filename, size) {\n      if (!google.colab.kernel.accessAllowed) {\n        return;\n      }\n      const div = document.createElement('div');\n      const label = document.createElement('label');\n      label.textContent = `Downloading \"${filename}\": `;\n      div.appendChild(label);\n      const progress = document.createElement('progress');\n      progress.max = size;\n      div.appendChild(progress);\n      document.body.appendChild(div);\n\n      const buffers = [];\n      let downloaded = 0;\n\n      const channel = await google.colab.kernel.comms.open(id);\n      // Send a message to notify the kernel that we're ready.\n      channel.send({})\n\n      for await (const message of channel.messages) {\n        // Send a message to notify the kernel that we're ready.\n        channel.send({})\n        if (message.buffers) {\n          for (const buffer of message.buffers) {\n            buffers.push(buffer);\n            downloaded += buffer.byteLength;\n            progress.value = downloaded;\n          }\n        }\n      }\n      const blob = new Blob(buffers, {type: 'application/binary'});\n      const a = document.createElement('a');\n      a.href = window.URL.createObjectURL(blob);\n      a.download = filename;\n      div.appendChild(a);\n      a.click();\n      div.remove();\n    }\n  ",
            "text/plain": [
              "<IPython.core.display.Javascript object>"
            ]
          },
          "metadata": {
            "tags": []
          },
          "output_type": "display_data"
        },
        {
          "data": {
            "application/javascript": "download(\"download_5f33c9f7-0340-4924-8051-643e53b4c5a2\", \"GA Sessions Vs. Revenue - Depth - 3 - Widget Stoppers.png\", 139705)",
            "text/plain": [
              "<IPython.core.display.Javascript object>"
            ]
          },
          "metadata": {
            "tags": []
          },
          "output_type": "display_data"
        },
        {
          "data": {
            "application/javascript": "\n    async function download(id, filename, size) {\n      if (!google.colab.kernel.accessAllowed) {\n        return;\n      }\n      const div = document.createElement('div');\n      const label = document.createElement('label');\n      label.textContent = `Downloading \"${filename}\": `;\n      div.appendChild(label);\n      const progress = document.createElement('progress');\n      progress.max = size;\n      div.appendChild(progress);\n      document.body.appendChild(div);\n\n      const buffers = [];\n      let downloaded = 0;\n\n      const channel = await google.colab.kernel.comms.open(id);\n      // Send a message to notify the kernel that we're ready.\n      channel.send({})\n\n      for await (const message of channel.messages) {\n        // Send a message to notify the kernel that we're ready.\n        channel.send({})\n        if (message.buffers) {\n          for (const buffer of message.buffers) {\n            buffers.push(buffer);\n            downloaded += buffer.byteLength;\n            progress.value = downloaded;\n          }\n        }\n      }\n      const blob = new Blob(buffers, {type: 'application/binary'});\n      const a = document.createElement('a');\n      a.href = window.URL.createObjectURL(blob);\n      a.download = filename;\n      div.appendChild(a);\n      a.click();\n      div.remove();\n    }\n  ",
            "text/plain": [
              "<IPython.core.display.Javascript object>"
            ]
          },
          "metadata": {
            "tags": []
          },
          "output_type": "display_data"
        },
        {
          "data": {
            "application/javascript": "download(\"download_c0961a67-77bc-4cf1-b455-b7cfbcd97828\", \"GA Sessions Vs. Revenue - Depth - 3 - Accessories.png\", 120859)",
            "text/plain": [
              "<IPython.core.display.Javascript object>"
            ]
          },
          "metadata": {
            "tags": []
          },
          "output_type": "display_data"
        },
        {
          "data": {
            "application/javascript": "\n    async function download(id, filename, size) {\n      if (!google.colab.kernel.accessAllowed) {\n        return;\n      }\n      const div = document.createElement('div');\n      const label = document.createElement('label');\n      label.textContent = `Downloading \"${filename}\": `;\n      div.appendChild(label);\n      const progress = document.createElement('progress');\n      progress.max = size;\n      div.appendChild(progress);\n      document.body.appendChild(div);\n\n      const buffers = [];\n      let downloaded = 0;\n\n      const channel = await google.colab.kernel.comms.open(id);\n      // Send a message to notify the kernel that we're ready.\n      channel.send({})\n\n      for await (const message of channel.messages) {\n        // Send a message to notify the kernel that we're ready.\n        channel.send({})\n        if (message.buffers) {\n          for (const buffer of message.buffers) {\n            buffers.push(buffer);\n            downloaded += buffer.byteLength;\n            progress.value = downloaded;\n          }\n        }\n      }\n      const blob = new Blob(buffers, {type: 'application/binary'});\n      const a = document.createElement('a');\n      a.href = window.URL.createObjectURL(blob);\n      a.download = filename;\n      div.appendChild(a);\n      a.click();\n      div.remove();\n    }\n  ",
            "text/plain": [
              "<IPython.core.display.Javascript object>"
            ]
          },
          "metadata": {
            "tags": []
          },
          "output_type": "display_data"
        },
        {
          "data": {
            "application/javascript": "download(\"download_c6ad0b5b-1882-4e39-94a9-f3529ec02798\", \"GA Sessions Vs. Revenue - Depth - 3 - Widget Locks.png\", 97036)",
            "text/plain": [
              "<IPython.core.display.Javascript object>"
            ]
          },
          "metadata": {
            "tags": []
          },
          "output_type": "display_data"
        },
        {
          "data": {
            "image/png": "[encoded data removed]",
            "text/plain": [
              "<Figure size 432x288 with 1 Axes>"
            ]
          },
          "metadata": {
            "needs_background": "light",
            "tags": []
          },
          "output_type": "display_data"
        }
      ],
      "source": [
        "i = 0\n",
        "while i < count_group_rows:\n",
        "    df2 = df_ga[df_ga[\"Folder Name\"].isin([(folder_list[i])])]\n",
        "\n",
        "    # clean up the list formatting for writing out to the .PNG (changed back at end of loop for matching each i)\n",
        "    folder_list = [word.replace('-', ' ') for word in folder_list]\n",
        "    folder_list = [word.title() for word in folder_list]\n",
        "\n",
        "    # delete pagination and filter rows\n",
        "    df2 = df2[~df2[\"Folder\"].str.contains(\"page\", na=False)]\n",
        "    df2 = df2[~df2[\"Folder\"].str.contains(\"=\", na=False)]\n",
        "\n",
        "    # group the df\n",
        "    df2_grp = df2.groupby(\"Folder\").agg({\"Sessions\":sum,\"Revenue\":sum}).reset_index()\n",
        "\n",
        "    # calculate max values\n",
        "    df2_grp['Max Sessions'] = df2_grp[\"Sessions\"].max()\n",
        "    df2_grp['Max Revenue'] = df2_grp[\"Revenue\"].max()\n",
        "\n",
        "    # calculate the average values\n",
        "    df2_grp['Average Sessions'] = 100 * df2_grp[\"Sessions\"] / df2_grp['Max Sessions']\n",
        "    df2_grp['Average Revenue'] = 100 * df2_grp[\"Revenue\"] / df2_grp['Max Revenue']\n",
        "\n",
        "    df2_grp['Average Revenue'] = df2_grp['Average Revenue'].fillna(0)\n",
        "    df2_grp['Average Sessions'] = df2_grp['Average Sessions'].fillna(0)\n",
        "\n",
        "    # create the bubble size\n",
        "    df2_grp['Z - Bubble Size'] = (df2_grp['Average Sessions'] / 100) * 10\n",
        "\n",
        "    # delete the helper columns\n",
        "    del df2_grp['Max Sessions']\n",
        "    del df2_grp['Max Revenue']\n",
        "    del df2_grp['Sessions']\n",
        "    del df2_grp['Revenue']\n",
        "\n",
        "    # round to 0 decimal places\n",
        "    df2_grp = df2_grp.round(2)\n",
        "\n",
        "    # replace '-' with ''\n",
        "    df2_grp['Folder'] = df2_grp['Folder'].str.replace(\"-\", \" \")\n",
        "    df2_grp['Folder'] = df2_grp['Folder'].str.title()\n",
        "\n",
        "    rows = df2_grp['Folder'].count()\n",
        "\n",
        "    # only export .csv files with more than 2 rows\n",
        "    if rows >2:\n",
        "        ann_list = []  # empty list that the annotation will go in\n",
        "        # plot dataframe values\n",
        "        scat = plt.scatter(x=df2_grp['Average Sessions'],\n",
        "                    y=df2_grp['Average Revenue'],\n",
        "                    s=df2_grp['Z - Bubble Size'] * 1000,\n",
        "                    alpha=0.5)\n",
        "\n",
        "        # chart title and label axis\n",
        "        plt.title('GA Sessions Vs. Revenue' + \" - \" + folder_list[i])\n",
        "        plt.xlabel('Sessions')\n",
        "        plt.ylabel('Revenue')\n",
        "\n",
        "      # Draw lines to split quadrants\n",
        "        plt.plot([50,50],[-10,110], linewidth=0.5, color='black')\n",
        "        plt.plot([-10,110],[50,50], linewidth=0.5, color='black')\n",
        "\n",
        "      # add labels to each quadrant\n",
        "        plt.text(-8, 106, top_left, size=text_size, color=text_colour)\n",
        "        plt.text(101, 106, top_right, size=text_size, color=text_colour)\n",
        "        plt.text(-8, -8, bottom_left, size=text_size, color=text_colour)\n",
        "        plt.text(101, -8, bottom_right, size=text_size, color=text_colour)\n",
        "\n",
        "        for g, txt in enumerate(df2_grp['Folder']):\n",
        "            ann = plt.annotate(txt, (df2_grp['Average Sessions'].iat[g], df2_grp['Average Revenue'].iat[g]), horizontalalignment='center', size=\"4\")\n",
        "            ann_list.append(ann)\n",
        "\n",
        "        # make list title case for file export\n",
        "        title_folder_list = [word.title() for word in folder_list]\n",
        "\n",
        "        plt.savefig('GA Sessions Vs. Revenue - Depth - ' + str(deep_depth) + \" - \" + title_folder_list[i] + \".png\", dpi=dpi_size)\n",
        "        files.download(\"GA Sessions Vs. Revenue - Depth - \" + str(deep_depth) + \" - \" + title_folder_list[i] + \".png\")\n",
        "        for a in ann_list:\n",
        "            a.remove()\n",
        "        scat.remove()  # remove scatter points\n",
        "\n",
        "    else:\n",
        "        break\n",
        "\n",
        "    # change the folder name back for matching in the loop\n",
        "    df2_grp['Folder'] = df2_grp['Folder'].str.replace(\" \", \"-\")\n",
        "    df2_grp['Folder'] = df2_grp['Folder'].str.lower()\n",
        "    folder_list = [word.replace(' ', '-') for word in folder_list]\n",
        "    folder_list = [word.lower() for word in folder_list]\n",
        "\n",
        "    # update the counter each loop\n",
        "    i = i + 1"
      ]
    }
  ],
  "metadata": {
    "colab": {
      "authorship_tag": "ABX9TyPMEh5bYDSef43fru5iJuNw",
      "collapsed_sections": [],
      "include_colab_link": true,
      "name": "Create a BCG Matric from GA Landing Page Report Data.ipynb",
      "provenance": []
    },
    "kernelspec": {
      "display_name": "Python 3",
      "name": "python3"
    },
    "language_info": {
      "name": "python"
    }
  },
  "nbformat": 4,
  "nbformat_minor": 0
}
