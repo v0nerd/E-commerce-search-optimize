{
  "cells": [
    {
      "cell_type": "markdown",
      "metadata": {
        "colab_type": "text",
        "id": "view-in-github"
      },
      "source": [
        "<a href=\"https://colab.research.google.com/github/searchsolved/search-solved-public-seo/blob/main/striking_distance_creator/striking_distance_creator_(gsc_version).ipynb.ipynb\" target=\"_parent\"><img src=\"https://colab.research.google.com/assets/colab-badge.svg\" alt=\"Open In Colab\"/></a>"
      ]
    },
    {
      "cell_type": "markdown",
      "metadata": {
        "id": "2_uw3d8ALD_H"
      },
      "source": [
        "# Striking Distance Report Creator v1 (GSC Version)\n",
        "October 2021"
      ]
    },
    {
      "cell_type": "code",
      "execution_count": null,
      "metadata": {
        "colab": {
          "base_uri": "https://localhost:8080/"
        },
        "id": "zAfjpLjjoDQk",
        "outputId": "9014a447-2842-4cc1-90b5-7d69886c601b"
      },
      "outputs": [
        {
          "name": "stdout",
          "output_type": "stream",
          "text": [
            "Requirement already satisfied: pandas in /usr/local/lib/python3.7/dist-packages (1.1.5)\n",
            "Requirement already satisfied: pytz>=2017.2 in /usr/local/lib/python3.7/dist-packages (from pandas) (2018.9)\n",
            "Requirement already satisfied: python-dateutil>=2.7.3 in /usr/local/lib/python3.7/dist-packages (from pandas) (2.8.1)\n",
            "Requirement already satisfied: numpy>=1.15.4 in /usr/local/lib/python3.7/dist-packages (from pandas) (1.19.5)\n",
            "Requirement already satisfied: six>=1.5 in /usr/local/lib/python3.7/dist-packages (from python-dateutil>=2.7.3->pandas) (1.15.0)\n",
            "Collecting git+https://github.com/joshcarty/google-searchconsole\n",
            "  Cloning https://github.com/joshcarty/google-searchconsole to /tmp/pip-req-build-nk_m_hgg\n",
            "  Running command git clone -q https://github.com/joshcarty/google-searchconsole /tmp/pip-req-build-nk_m_hgg\n",
            "Requirement already satisfied: google-api-python-client>=1.7.3 in /usr/local/lib/python3.7/dist-packages (from searchconsole==0.0.3) (1.12.8)\n",
            "Requirement already satisfied: python-dateutil>=2.7.3 in /usr/local/lib/python3.7/dist-packages (from searchconsole==0.0.3) (2.8.1)\n",
            "Requirement already satisfied: google-auth<2dev,>=1.5.0 in /usr/local/lib/python3.7/dist-packages (from searchconsole==0.0.3) (1.28.0)\n",
            "Requirement already satisfied: google-auth-oauthlib>=0.2.0 in /usr/local/lib/python3.7/dist-packages (from searchconsole==0.0.3) (0.4.3)\n",
            "Requirement already satisfied: uritemplate<4dev,>=3.0.0 in /usr/local/lib/python3.7/dist-packages (from google-api-python-client>=1.7.3->searchconsole==0.0.3) (3.0.1)\n",
            "Requirement already satisfied: six<2dev,>=1.13.0 in /usr/local/lib/python3.7/dist-packages (from google-api-python-client>=1.7.3->searchconsole==0.0.3) (1.15.0)\n",
            "Requirement already satisfied: google-api-core<2dev,>=1.21.0 in /usr/local/lib/python3.7/dist-packages (from google-api-python-client>=1.7.3->searchconsole==0.0.3) (1.26.2)\n",
            "Requirement already satisfied: google-auth-httplib2>=0.0.3 in /usr/local/lib/python3.7/dist-packages (from google-api-python-client>=1.7.3->searchconsole==0.0.3) (0.0.4)\n",
            "Requirement already satisfied: httplib2<1dev,>=0.15.0 in /usr/local/lib/python3.7/dist-packages (from google-api-python-client>=1.7.3->searchconsole==0.0.3) (0.17.4)\n",
            "Requirement already satisfied: cachetools<5.0,>=2.0.0 in /usr/local/lib/python3.7/dist-packages (from google-auth<2dev,>=1.5.0->searchconsole==0.0.3) (4.2.1)\n",
            "Requirement already satisfied: setuptools>=40.3.0 in /usr/local/lib/python3.7/dist-packages (from google-auth<2dev,>=1.5.0->searchconsole==0.0.3) (54.2.0)\n",
            "Requirement already satisfied: pyasn1-modules>=0.2.1 in /usr/local/lib/python3.7/dist-packages (from google-auth<2dev,>=1.5.0->searchconsole==0.0.3) (0.2.8)\n",
            "Requirement already satisfied: rsa<5,>=3.1.4; python_version >= \"3.6\" in /usr/local/lib/python3.7/dist-packages (from google-auth<2dev,>=1.5.0->searchconsole==0.0.3) (4.7.2)\n",
            "Requirement already satisfied: requests-oauthlib>=0.7.0 in /usr/local/lib/python3.7/dist-packages (from google-auth-oauthlib>=0.2.0->searchconsole==0.0.3) (1.3.0)\n",
            "Requirement already satisfied: protobuf>=3.12.0 in /usr/local/lib/python3.7/dist-packages (from google-api-core<2dev,>=1.21.0->google-api-python-client>=1.7.3->searchconsole==0.0.3) (3.12.4)\n",
            "Requirement already satisfied: packaging>=14.3 in /usr/local/lib/python3.7/dist-packages (from google-api-core<2dev,>=1.21.0->google-api-python-client>=1.7.3->searchconsole==0.0.3) (20.9)\n",
            "Requirement already satisfied: pytz in /usr/local/lib/python3.7/dist-packages (from google-api-core<2dev,>=1.21.0->google-api-python-client>=1.7.3->searchconsole==0.0.3) (2018.9)\n",
            "Requirement already satisfied: requests<3.0.0dev,>=2.18.0 in /usr/local/lib/python3.7/dist-packages (from google-api-core<2dev,>=1.21.0->google-api-python-client>=1.7.3->searchconsole==0.0.3) (2.23.0)\n",
            "Requirement already satisfied: googleapis-common-protos<2.0dev,>=1.6.0 in /usr/local/lib/python3.7/dist-packages (from google-api-core<2dev,>=1.21.0->google-api-python-client>=1.7.3->searchconsole==0.0.3) (1.53.0)\n",
            "Requirement already satisfied: pyasn1<0.5.0,>=0.4.6 in /usr/local/lib/python3.7/dist-packages (from pyasn1-modules>=0.2.1->google-auth<2dev,>=1.5.0->searchconsole==0.0.3) (0.4.8)\n",
            "Requirement already satisfied: oauthlib>=3.0.0 in /usr/local/lib/python3.7/dist-packages (from requests-oauthlib>=0.7.0->google-auth-oauthlib>=0.2.0->searchconsole==0.0.3) (3.1.0)\n",
            "Requirement already satisfied: pyparsing>=2.0.2 in /usr/local/lib/python3.7/dist-packages (from packaging>=14.3->google-api-core<2dev,>=1.21.0->google-api-python-client>=1.7.3->searchconsole==0.0.3) (2.4.7)\n",
            "Requirement already satisfied: idna<3,>=2.5 in /usr/local/lib/python3.7/dist-packages (from requests<3.0.0dev,>=2.18.0->google-api-core<2dev,>=1.21.0->google-api-python-client>=1.7.3->searchconsole==0.0.3) (2.10)\n",
            "Requirement already satisfied: chardet<4,>=3.0.2 in /usr/local/lib/python3.7/dist-packages (from requests<3.0.0dev,>=2.18.0->google-api-core<2dev,>=1.21.0->google-api-python-client>=1.7.3->searchconsole==0.0.3) (3.0.4)\n",
            "Requirement already satisfied: certifi>=2017.4.17 in /usr/local/lib/python3.7/dist-packages (from requests<3.0.0dev,>=2.18.0->google-api-core<2dev,>=1.21.0->google-api-python-client>=1.7.3->searchconsole==0.0.3) (2020.12.5)\n",
            "Requirement already satisfied: urllib3!=1.25.0,!=1.25.1,<1.26,>=1.21.1 in /usr/local/lib/python3.7/dist-packages (from requests<3.0.0dev,>=2.18.0->google-api-core<2dev,>=1.21.0->google-api-python-client>=1.7.3->searchconsole==0.0.3) (1.24.3)\n",
            "Building wheels for collected packages: searchconsole\n",
            "  Building wheel for searchconsole (setup.py) ... \u001b[?25l\u001b[?25hdone\n",
            "  Created wheel for searchconsole: filename=searchconsole-0.0.3-cp37-none-any.whl size=8799 sha256=dcbc31f01e5c09e92a07a058810299a7fc01fc6da48cabd9f734a3ca2488164e\n",
            "  Stored in directory: /tmp/pip-ephem-wheel-cache-gxrnaxa0/wheels/eb/d4/d2/b374d767a5df3b100a2302f2dadcd170a487d48abe626c3f09\n",
            "Successfully built searchconsole\n",
            "Installing collected packages: searchconsole\n",
            "Successfully installed searchconsole-0.0.3\n",
            "Collecting fabric3\n",
            "\u001b[?25l  Downloading https://files.pythonhosted.org/packages/85/14/0b4f34e1f9a351bbe0f1ddea8b12f8103e77e9b5dc7b935c25c2260fc2e5/Fabric3-1.14.post1-py3-none-any.whl (92kB)\n",
            "\u001b[K     |████████████████████████████████| 102kB 4.3MB/s \n",
            "\u001b[?25hRequirement already satisfied: six>=1.10.0 in /usr/local/lib/python3.7/dist-packages (from fabric3) (1.15.0)\n",
            "Collecting paramiko<3.0,>=2.0\n",
            "\u001b[?25l  Downloading https://files.pythonhosted.org/packages/95/19/124e9287b43e6ff3ebb9cdea3e5e8e88475a873c05ccdf8b7e20d2c4201e/paramiko-2.7.2-py2.py3-none-any.whl (206kB)\n",
            "\u001b[K     |████████████████████████████████| 215kB 17.8MB/s \n",
            "\u001b[?25hCollecting cryptography>=2.5\n",
            "\u001b[?25l  Downloading https://files.pythonhosted.org/packages/b2/26/7af637e6a7e87258b963f1731c5982fb31cd507f0d90d91836e446955d02/cryptography-3.4.7-cp36-abi3-manylinux2014_x86_64.whl (3.2MB)\n",
            "\u001b[K     |████████████████████████████████| 3.2MB 17.2MB/s \n",
            "\u001b[?25hCollecting pynacl>=1.0.1\n",
            "\u001b[?25l  Downloading https://files.pythonhosted.org/packages/9d/57/2f5e6226a674b2bcb6db531e8b383079b678df5b10cdaa610d6cf20d77ba/PyNaCl-1.4.0-cp35-abi3-manylinux1_x86_64.whl (961kB)\n",
            "\u001b[K     |████████████████████████████████| 962kB 31.2MB/s \n",
            "\u001b[?25hCollecting bcrypt>=3.1.3\n",
            "\u001b[?25l  Downloading https://files.pythonhosted.org/packages/26/70/6d218afbe4c73538053c1016dd631e8f25fffc10cd01f5c272d7acf3c03d/bcrypt-3.2.0-cp36-abi3-manylinux2010_x86_64.whl (63kB)\n",
            "\u001b[K     |████████████████████████████████| 71kB 6.9MB/s \n",
            "\u001b[?25hRequirement already satisfied: cffi>=1.12 in /usr/local/lib/python3.7/dist-packages (from cryptography>=2.5->paramiko<3.0,>=2.0->fabric3) (1.14.5)\n",
            "Requirement already satisfied: pycparser in /usr/local/lib/python3.7/dist-packages (from cffi>=1.12->cryptography>=2.5->paramiko<3.0,>=2.0->fabric3) (2.20)\n",
            "Installing collected packages: cryptography, pynacl, bcrypt, paramiko, fabric3\n",
            "Successfully installed bcrypt-3.2.0 cryptography-3.4.7 fabric3-1.14.post1 paramiko-2.7.2 pynacl-1.4.0\n"
          ]
        }
      ],
      "source": [
        "!pip install pandas\n",
        "!pip install git+https://github.com/joshcarty/google-searchconsole\n",
        "!pip install fabric3"
      ]
    },
    {
      "cell_type": "code",
      "execution_count": null,
      "metadata": {
        "id": "2kRqbU-znyF_"
      },
      "outputs": [],
      "source": [
        "import re\n",
        "import pandas as pd\n",
        "import numpy as np\n",
        "import sys\n",
        "import searchconsole  # pip install git+https://github.com/joshcarty/google-searchconsole\n",
        "from collections import OrderedDict\n",
        "from fabric.colors import blue, green, yellow, red  # pip install fabric3\n",
        "import datetime\n",
        "import time"
      ]
    },
    {
      "cell_type": "code",
      "execution_count": null,
      "metadata": {
        "id": "Oe2JvDdjof_6"
      },
      "outputs": [],
      "source": [
        "# start timing the script\n",
        "startTime = time.time()"
      ]
    },
    {
      "cell_type": "code",
      "execution_count": null,
      "metadata": {
        "id": "M1I_E1hbogud"
      },
      "outputs": [],
      "source": [
        "# Set the ctr average for positions 1-3 for forecasting.\n",
        "ctr_avg = 0.209 # (20.9% is the average for blue links from 2021 sistrix study)\n",
        "pagination_filters = \"filterby|page|p=\""
      ]
    },
    {
      "cell_type": "code",
      "execution_count": null,
      "metadata": {
        "id": "eJIZ_H5Hog3W"
      },
      "outputs": [],
      "source": [
        "# Set GSC Variables Here:\n",
        "start_date = \"2021-01-01\"  # Example formatting: \"2020-09-20\"\n",
        "end_date = \"2021-03-31\"\n",
        "dimension_1 = \"query\"  # get keyword data from Search Console\n",
        "dimension_2 = \"page\"  # get URL data from Search Console\n",
        "dimension_3 = \"country\"  # get country data from Search Console\n",
        "dimension_4 = \"device\"  # Get device data from Search Console\n",
        "country_filter = \"gbr\"  # set the country filter"
      ]
    },
    {
      "cell_type": "code",
      "execution_count": null,
      "metadata": {
        "id": "3w4Qrfbkog8M"
      },
      "outputs": [],
      "source": [
        "# Set Screaming Frog Variables Here:\n",
        "url_filter = \"browse\"  # default = \"browse\" (Can also be left black to include all pages from crawl) e.g. \"\"\n",
        "min_imps = 100  # default = 100\n",
        "max_page = 20  # default = 20 results"
      ]
    },
    {
      "cell_type": "code",
      "execution_count": null,
      "metadata": {
        "id": "mnW3Qml1og-t"
      },
      "outputs": [],
      "source": [
        "# format the date for readability to print to terminal\n",
        "start_date_formatted = start_date\n",
        "start_date_formatted = datetime.datetime.strptime(start_date_formatted, '%Y-%m-%d')\n",
        "start_date_formatted = start_date_formatted.strftime(\"%d/%b/%Y\")\n",
        "end_date_formatted = end_date\n",
        "end_date_formatted = datetime.datetime.strptime(end_date_formatted, '%Y-%m-%d')\n",
        "end_date_formatted = end_date_formatted.strftime(\"%d/%b/%Y\")"
      ]
    },
    {
      "cell_type": "code",
      "execution_count": null,
      "metadata": {
        "colab": {
          "base_uri": "https://localhost:8080/"
        },
        "id": "Ul6In9dLohBE",
        "outputId": "d2481135-4259-4ee7-820b-39794ae7df82"
      },
      "outputs": [
        {
          "name": "stdout",
          "output_type": "stream",
          "text": [
            "\u001b[31mURL Filter Applied: \u001b[0m\u001b[34mbrowse\u001b[0m\n",
            "\u001b[31mMinimum Impressions: \u001b[0m\u001b[34m100\u001b[0m\n",
            "\u001b[31mStriking Cutoff: \u001b[0m\u001b[34m20\u001b[0m\n",
            "\u001b[31mCountry: \u001b[0m\u001b[34mgbr\u001b[0m\n",
            "\u001b[31mStart Date: \u001b[0m\u001b[34m01/Jan/2021\u001b[0m\n",
            "\u001b[31mEnd Date:   \u001b[0m\u001b[34m31/Mar/2021\u001b[0m\n"
          ]
        }
      ],
      "source": [
        "# print selected variables to terminal\n",
        "print(red((\"URL Filter Applied: \")) + blue(url_filter))\n",
        "print(red((\"Minimum Impressions: \")) + blue(min_imps))\n",
        "print(red((\"Striking Cutoff: \")) + blue(max_page))\n",
        "print(red((\"Country: \")) + blue(country_filter))\n",
        "print(red((\"Start Date: \")) + blue(start_date_formatted))\n",
        "print(red((\"End Date:   \")) + blue(end_date_formatted))"
      ]
    },
    {
      "cell_type": "markdown",
      "metadata": {
        "id": "3wl5Q_J0pYeK"
      },
      "source": []
    },
    {
      "cell_type": "code",
      "execution_count": null,
      "metadata": {
        "id": "-Ql3qxT6ohDU"
      },
      "outputs": [],
      "source": [
        "# import bad word list (if it exists)\n",
        "try:\n",
        "    df_bad_words = pd.read_csv(\"/python_scripts/universal_striking_distance_sc_api/bad_words/bad_kws.csv\",\n",
        "                                 names=[\"Bad KWs\"], header=None)\n",
        "\n",
        "    # convert to lower case for matching\n",
        "    df_bad_words[\"Bad KWs\"] = df_bad_words[\"Bad KWs\"].str.lower()\n",
        "\n",
        "    # convert to list\n",
        "    bad_word_list = df_bad_words[\"Bad KWs\"].to_list()\n",
        "except FileNotFoundError:\n",
        "    pass"
      ]
    },
    {
      "cell_type": "markdown",
      "metadata": {
        "id": "Fty-APnEpWSe"
      },
      "source": []
    },
    {
      "cell_type": "code",
      "execution_count": null,
      "metadata": {
        "id": "jx18XNhvohFh"
      },
      "outputs": [],
      "source": [
        "# start  ::: import screaming frog custom crawl file (must be named internal_html.csv) :::\n",
        "df_sf = pd.read_csv(\"/python_scripts/universal_striking_distance_sc_api/place_crawl_file_here/internal_html.csv\", encoding=\"utf8\")"
      ]
    },
    {
      "cell_type": "code",
      "execution_count": null,
      "metadata": {
        "id": "4Y9PuJVVohHz"
      },
      "outputs": [],
      "source": [
        "# drop non-indexable pages from crawl file\n",
        "df_sf = df_sf[~df_sf[\"Indexability\"].isin([\"Non-Indexable\"])]"
      ]
    },
    {
      "cell_type": "code",
      "execution_count": null,
      "metadata": {
        "id": "awgPEf60pRZD"
      },
      "outputs": [],
      "source": [
        "# extracts the root domain from the crawl to match to a search console property automatically.\n",
        "extracted_domain = df_sf[\"Address\"]\n",
        "url = extracted_domain.iloc[0]\n",
        "print(red((\"Domain is: \")) + blue(url))"
      ]
    },
    {
      "cell_type": "code",
      "execution_count": null,
      "metadata": {
        "id": "ern3zeqppUvc"
      },
      "outputs": [],
      "source": [
        "# start ::: authenticate with search console api\n",
        "try:\n",
        "    print(\"\\nReading client_secrets.json & credentials.json..\")  # Authenticate with GSC\n",
        "    account = searchconsole.authenticate(\n",
        "        client_config=\"/python_scripts/universal_striking_distance_sc_api/auth_files/client_secrets.json\",\n",
        "        credentials=\"/python_scripts/universal_striking_distance_sc_api/auth_files/credentials.json\",\n",
        "    )\n",
        "    webproperty = account[(url)]  # connect to the gsc property\n",
        "    print(\"Pulling GSC Data. Please Be Patient!\")\n",
        "    gsc_data = (\n",
        "        webproperty.query.range(start_date, end_date)\n",
        "        .dimension(\n",
        "            dimension_1,  # set date range & dimensions\n",
        "            dimension_2,\n",
        "            dimension_3,\n",
        "            #dimension_4,\n",
        "        )\n",
        "        .get()\n",
        "    )\n",
        "except AttributeError:\n",
        "    print(red(\"No Data Received from Search Console API!\"))\n",
        "    sys.exit(1)"
      ]
    },
    {
      "cell_type": "code",
      "execution_count": null,
      "metadata": {
        "id": "aN7zNfWFpdSY"
      },
      "outputs": [],
      "source": [
        "# make the dataframe\n",
        "df_gsc_data = pd.DataFrame(gsc_data)"
      ]
    },
    {
      "cell_type": "code",
      "execution_count": null,
      "metadata": {
        "id": "9QgIrFcCpeub"
      },
      "outputs": [],
      "source": [
        "# keep only gbr traffic\n",
        "df_gsc_data = df_gsc_data[df_gsc_data[\"country\"].str.contains(country_filter)]"
      ]
    },
    {
      "cell_type": "code",
      "execution_count": null,
      "metadata": {
        "id": "3cDAm5jmpg9N"
      },
      "outputs": [],
      "source": [
        "# rename columns to match old script\n",
        "df_gsc_data.rename(\n",
        "    columns={\n",
        "        \"query\": \"Keyword\",\n",
        "        \"impressions\": \"Volume\",\n",
        "        \"page\": \"URL\",\n",
        "        \"position\": \"Position\",\n",
        "        \"clicks\": \"Clicks\",\n",
        "    },\n",
        "    inplace=True,\n",
        ")"
      ]
    },
    {
      "cell_type": "code",
      "execution_count": null,
      "metadata": {
        "id": "eMcxN7ZtpjE0"
      },
      "outputs": [],
      "source": [
        "# start  ::: cleanup screaming frog import and rename columns :::\n",
        "df_sf.rename(\n",
        "    columns={\n",
        "        \"Title 1\": \"Title\",\n",
        "        \"H1-1\": \"H1\",\n",
        "        \"Canonical Link Element 1\": \"Canonical URL\",\n",
        "        \"Meta Description 1\": \"Meta Description\",\n",
        "        \"Category Description 1\": \"Category Description\",\n",
        "    },\n",
        "    inplace=True,\n",
        ")"
      ]
    },
    {
      "cell_type": "code",
      "execution_count": null,
      "metadata": {
        "id": "05VuzbMzplWE"
      },
      "outputs": [],
      "source": [
        "# extract missing category descriptions from sf crawl\n",
        "df_sf[\"Category Description\"] = df_sf[\"Category Description\"].fillna(\"True\")\n",
        "df_sf_cat_desc = df_sf[[\"Address\", \"Category Description\"]].copy()\n",
        "df_sf_cat_desc = df_sf_cat_desc[df_sf_cat_desc[\"Category Description\"].isin([\"True\"])]\n",
        "df_sf_cat_desc.rename(columns={\"Category Description\": \"Missing Copy?\"}, inplace=True)"
      ]
    },
    {
      "cell_type": "code",
      "execution_count": null,
      "metadata": {
        "id": "K37XzvAEpn3-"
      },
      "outputs": [],
      "source": [
        "# make new dataframe to lookup keyword search volume (amsv)\n",
        "df_kw_pos = df_gsc_data[[\"Keyword\", \"Volume\", \"Clicks\", \"Position\"]]\n",
        "\n",
        "# make new dataframe to check which words were dropped\n",
        "df_gsc_data_pre_filter = df_gsc_data[[\"Keyword\"]].copy()"
      ]
    },
    {
      "cell_type": "code",
      "execution_count": null,
      "metadata": {
        "id": "hMN1lS5LppaE"
      },
      "outputs": [],
      "source": [
        "# match and drop blacklisted words\n",
        "try:\n",
        "    df_gsc_data = df_gsc_data[~df_gsc_data.Keyword.str.contains(\"|\".join(bad_word_list))]\n",
        "    df_gsc_data_post_filter = df_gsc_data[[\"Keyword\"]].copy()\n",
        "except NameError:\n",
        "    pass"
      ]
    },
    {
      "cell_type": "code",
      "execution_count": null,
      "metadata": {
        "id": "QJXOwEgVpqtM"
      },
      "outputs": [],
      "source": [
        "# make sets from pre and port filtered dfs to show which keywords were blocked\n",
        "gsc_pre_filter_list = df_gsc_data_pre_filter[\"Keyword\"].tolist()\n",
        "gsc_post_filter_list = df_gsc_data_post_filter[\"Keyword\"].tolist()"
      ]
    },
    {
      "cell_type": "code",
      "execution_count": null,
      "metadata": {
        "id": "Slp7Cwa_psBp"
      },
      "outputs": [],
      "source": [
        "# show / export blocked keywords\n",
        "blocked = list(set(gsc_pre_filter_list) - set(gsc_post_filter_list))\n",
        "blocked_len = len(blocked)"
      ]
    },
    {
      "cell_type": "code",
      "execution_count": null,
      "metadata": {
        "id": "z0AUR8iBpt0t"
      },
      "outputs": [],
      "source": [
        "# print the number of blocked keywords\n",
        "print(\"Keywords blocked by bad_words.csv: \", blocked_len)"
      ]
    },
    {
      "cell_type": "code",
      "execution_count": null,
      "metadata": {
        "id": "Qf6SQfgxpvL4"
      },
      "outputs": [],
      "source": [
        "# make dataframe for export\n",
        "df_blocked = pd.DataFrame(blocked, columns=[\"Keyword\"])"
      ]
    },
    {
      "cell_type": "code",
      "execution_count": null,
      "metadata": {
        "id": "dRLWJhCNpwa7"
      },
      "outputs": [],
      "source": [
        "# parse the bad word list and assign to a variable\n",
        "regex = r\"|\".join(df_bad_words[\"Bad KWs\"])"
      ]
    },
    {
      "cell_type": "code",
      "execution_count": null,
      "metadata": {
        "id": "8iPXPQggpx7g"
      },
      "outputs": [],
      "source": [
        "# check the bad word list and extract the words (used to show which word trigger the block)\n",
        "df_blocked_kws = pd.concat(\n",
        "    [\n",
        "        df_bad_words,\n",
        "        df_blocked,\n",
        "        (pd.DataFrame(df_blocked[\"Keyword\"].str.findall(regex).to_list())),\n",
        "    ],\n",
        "    axis=\"columns\",\n",
        ").fillna(\"\")"
      ]
    },
    {
      "cell_type": "code",
      "execution_count": null,
      "metadata": {
        "id": "vFE1o3MvpzR3"
      },
      "outputs": [],
      "source": [
        "# delete the helper column\n",
        "del df_blocked_kws[\"Bad KWs\"]"
      ]
    },
    {
      "cell_type": "code",
      "execution_count": null,
      "metadata": {
        "id": "-gXdlI_lp0ik"
      },
      "outputs": [],
      "source": [
        "# add prefix to columns\n",
        "df_blocked_kws = df_blocked_kws.add_prefix(\"Matched \")"
      ]
    },
    {
      "cell_type": "code",
      "execution_count": null,
      "metadata": {
        "id": "IIogqYi3p1z7"
      },
      "outputs": [],
      "source": [
        "# rename main column\n",
        "df_blocked_kws.rename(columns={\"Matched Keyword\": \"Blocked Keyword\"}, inplace=True)\n",
        "\n",
        "# replaces hyphenated keywords with a space instead of a \"-\" so they can be de-duplicated later.\n",
        "df_gsc_data[\"Keyword\"] = df_gsc_data[\"Keyword\"].str.replace(\"-\", \" \")\n",
        "\n",
        "# drop duplicate kws if -both- kw and url are duplicated.\n",
        "df_gsc_data.drop_duplicates(subset=[\"URL\", \"Keyword\"], keep=\"first\", inplace=True)\n",
        "\n",
        "# removes paginated and filterby by pages from the url column #\n",
        "df_gsc_data = df_gsc_data[~df_gsc_data.URL.str.contains(pagination_filters)]\n",
        "\n",
        "# drop rows if position > max_page variable\n",
        "df_gsc_data.loc[df_gsc_data[\"Position\"] >= max_page, \"Over_21\"] = \"Over21\"\n",
        "df_gsc_data = df_gsc_data[~df_gsc_data[\"Over_21\"].isin([\"Over21\"])]\n",
        "\n",
        "# create a new dataframe to pull the keyword and search volume from to merge with the final dataframe.\n",
        "df_search_kws_lookup = df_gsc_data\n",
        "\n",
        "# sort data by a multiple columns\n",
        "df_search_kws_lookup.sort_values([\"URL\", \"Volume\"], ascending=[True, False], inplace=True,)"
      ]
    },
    {
      "cell_type": "code",
      "execution_count": null,
      "metadata": {
        "id": "usYAEsCCp28P"
      },
      "outputs": [],
      "source": [
        "# remove sitelinks\n",
        "df_gsc_data[\"Depth\"] = (df_gsc_data[\"URL\"].str.count(\"\\/\") - 3)  # # count folder depth\n",
        "df_gsc_data.sort_values([\"Depth\", \"URL\"], ascending=[True, True], inplace=True,)  # sorting data by a multiple columns\n",
        "df_gsc_data.drop_duplicates(subset=[\"Keyword\"], keep=\"first\", inplace=True)\n",
        "\n",
        "# check min impression threshold and drops\n",
        "df_gsc_data.loc[df_gsc_data[\"Volume\"] < min_imps, \"Under_100\"] = \"Under100\"\n",
        "df_gsc_data = df_gsc_data[~df_gsc_data[\"Under_100\"].isin([\"Under100\"])].copy()\n",
        "\n",
        "# checks if position 1-3 and drop\n",
        "df_gsc_data.loc[df_gsc_data[\"Position\"] <= 3, \"KWs in Striking Dist.\"] = \"No - Top 3 Ranking\"\n",
        "\n",
        "# check if keyword is in striking distance (4-20)\n",
        "df_gsc_data.loc[df_gsc_data[\"Position\"] > 3, \"KWs in Striking Dist.\"] = \"Yes - Striking Distance\"\n",
        "\n",
        "# drops rows before stats are consolidated (ensures top 3 kws in striking dist. & search volume are removed).\n",
        "df_gsc_data = df_gsc_data[~df_gsc_data[\"KWs in Striking Dist.\"].isin([\"No - Top 3 Ranking\"])]"
      ]
    },
    {
      "cell_type": "code",
      "execution_count": null,
      "metadata": {
        "id": "VxXxxziGqNW4"
      },
      "outputs": [],
      "source": [
        "# groups the urls (removes dupes and combines stats).\n",
        "df_gsc_data = (\n",
        "    df_gsc_data.groupby(\"URL\")\n",
        "    .agg(\n",
        "        {\n",
        "            \"Volume\": \"sum\",\n",
        "            \"KWs in Striking Dist.\": \"count\",\n",
        "            \"Position\": \"median\",\n",
        "            \"Clicks\": \"sum\",\n",
        "        }\n",
        "    )\n",
        "    .reset_index()\n",
        ")"
      ]
    },
    {
      "cell_type": "code",
      "execution_count": null,
      "metadata": {
        "id": "Iatz0JeLqO5b"
      },
      "outputs": [],
      "source": [
        "# this code brings in the keywords and places them in adjacent rows\n",
        "df_merged_all_kws = df_gsc_data.merge(\n",
        "    df_search_kws_lookup.groupby(\"URL\")[\"Keyword\"]\n",
        "    .apply(lambda x: x.reset_index(drop=True))\n",
        "    .unstack()\n",
        "    .reset_index()\n",
        ")\n"
      ]
    },
    {
      "cell_type": "code",
      "execution_count": null,
      "metadata": {
        "id": "bntZvqFTqQWo"
      },
      "outputs": [],
      "source": [
        "# sorts urls by largest number of kws in striking dist\n",
        "df_merged_all_kws = df_merged_all_kws.sort_values(by=\"KWs in Striking Dist.\", ascending=False)"
      ]
    },
    {
      "cell_type": "code",
      "execution_count": null,
      "metadata": {
        "id": "oxEAVpDYqS6F"
      },
      "outputs": [],
      "source": [
        "try:\n",
        "    # imports only the columns needed back into the same dataframe (top five keyword suggestions)\n",
        "    df_merged_all_kws = df_merged_all_kws[\n",
        "        [\"URL\", \"Volume\", \"Position\", \"Clicks\", \"KWs in Striking Dist.\", 0, 1, 2, 3, 4]\n",
        "    ]\n",
        "except KeyError:\n",
        "    print(colored(\"Not Enough Data to Make the Dataframe - Try Importing More from Search Console!\", \"red\"))\n",
        "    sys.exit(1)"
      ]
    },
    {
      "cell_type": "code",
      "execution_count": null,
      "metadata": {
        "id": "KPJudy1gqUgW"
      },
      "outputs": [],
      "source": [
        "# this is the final striking distance df which should go to a separate worksheet.\n",
        "df_merged_all_kws.rename(columns={\n",
        "        \"Volume\": \"Total Impressions\",\n",
        "        0: \"KW1\",\n",
        "        1: \"KW2\",\n",
        "        2: \"KW3\",\n",
        "        3: \"KW4\",\n",
        "        4: \"KW5\",\n",
        "    }, inplace=True\n",
        ")\n"
      ]
    },
    {
      "cell_type": "code",
      "execution_count": null,
      "metadata": {
        "id": "_Qilm9OaqWQg"
      },
      "outputs": [],
      "source": [
        "# reassign df_blocked_kws (sloppy work around from old code)\n",
        "df_s_dist = df_merged_all_kws\n",
        "\n",
        "# Merges Striking Distance DF with Screaming Frog DF To Merge in the Title, H1 and Category Description\n",
        "df_s_dist = pd.merge(df_s_dist, df_sf, left_on=\"URL\", right_on=\"Address\", how=\"inner\")"
      ]
    },
    {
      "cell_type": "code",
      "execution_count": null,
      "metadata": {
        "id": "lVGzCWr7qYr8"
      },
      "outputs": [],
      "source": [
        "# Defines the New Columns\n",
        "new_striking_cols = [\n",
        "    \"URL\",\n",
        "    \"Title\",\n",
        "    \"H1\",\n",
        "    \"Category Description\",\n",
        "    \"Parent URL\",\n",
        "    \"Total Impressions\",\n",
        "    \"Clicks\",\n",
        "    \"KWs in Striking Dist.\",\n",
        "    \"Link from Parent Cat?\",\n",
        "    \"KW1\",\n",
        "    \"KW1 in Title\",\n",
        "    \"KW1 in Copy\",\n",
        "    \"KW1 Cat Text\",\n",
        "    \"KW2\",\n",
        "    \"KW2 in Title\",\n",
        "    \"KW2 in Copy\",\n",
        "    \"KW2 Cat Text\",\n",
        "    \"KW2 Linked from Parent\",\n",
        "    \"KW3\",\n",
        "    \"KW3 in Title\",\n",
        "    \"KW3 in Copy\",\n",
        "    \"KW3 Cat Text\",\n",
        "    \"KW3 Linked from Parent\",\n",
        "    \"KW4\",\n",
        "    \"KW4 in Title\",\n",
        "    \"KW4 in Copy\",\n",
        "    \"KW4 Cat Text\",\n",
        "    \"KW4 Linked from Parent\",\n",
        "    \"KW5\",\n",
        "    \"KW5 in Title\",\n",
        "    \"KW5 in Copy\",\n",
        "    \"KW5 Cat Text\",\n",
        "    \"KW5 Linked from Parent\",\n",
        "]"
      ]
    },
    {
      "cell_type": "code",
      "execution_count": null,
      "metadata": {
        "id": "qDTZDL9yqZyE"
      },
      "outputs": [],
      "source": [
        "# re-indexes columns to place them in a logical order + inserts new blank columns for kw checks.\n",
        "df_s_dist = df_s_dist.reindex(columns=new_striking_cols)"
      ]
    },
    {
      "cell_type": "markdown",
      "metadata": {
        "id": "tO3BAamSqpzb"
      },
      "source": [
        "# Routine to create parent url for pd.merge"
      ]
    },
    {
      "cell_type": "code",
      "execution_count": null,
      "metadata": {
        "id": "eQkrZxg1qbwe"
      },
      "outputs": [],
      "source": [
        "# creates temp column and extracts the last folder from the url column\n",
        "df_s_dist[\"Temp\"] = df_s_dist[\"URL\"].str.split(\"/\").str[-1]\n",
        "\n",
        "# subtracts the last folder string from the url\n",
        "df_s_dist[\"Parent URL\"] = df_s_dist[\"URL\"] = [\n",
        "    a.replace(b, \"\").strip() for a, b in zip(df_s_dist[\"URL\"], df_s_dist[\"Temp\"])\n",
        "]\n",
        "\n",
        "# removes the last trailing slash so that the .html suffix can be applied.\n",
        "df_s_dist[\"Parent URL\"] = df_s_dist[\"Parent URL\"].astype(str).str[:-1]\n",
        "\n",
        "# appends .html to the new parent url\n",
        "df_s_dist[\"Parent URL\"] = df_s_dist[\"Parent URL\"] + \".html\"\n",
        "\n",
        "# fixes the url column by adding the folder name.html back to it.\n",
        "df_s_dist[\"URL\"] = df_s_dist[\"URL\"] + df_s_dist[\"Temp\"]\n",
        "\n",
        "# deletes [\"temp\"] helper column\n",
        "del df_s_dist[\"Temp\"]"
      ]
    },
    {
      "cell_type": "code",
      "execution_count": null,
      "metadata": {
        "id": "a1MuUoWuqeG_"
      },
      "outputs": [],
      "source": [
        "# make new dataframe just containing the url and category description for pd.merge to parent url\n",
        "try:\n",
        "    df_cat_text = df_sf[[\"Address\", \"Category Description\"]]\n",
        "except Exception:\n",
        "    pass\n",
        "\n",
        "# merges category text to parent url\n",
        "try:\n",
        "    df_s_dist = pd.merge(\n",
        "        df_s_dist, df_cat_text, left_on=\"Parent URL\", right_on=\"Address\", how=\"left\"\n",
        "    )\n",
        "except Exception:\n",
        "    pass"
      ]
    },
    {
      "cell_type": "code",
      "execution_count": null,
      "metadata": {
        "id": "rmwb1uJbq66l"
      },
      "outputs": [],
      "source": [
        "# drop duplicate values before merging keyword search volumes\n",
        "df_kw_pos.drop_duplicates(subset=\"Keyword\", inplace=True)\n",
        "\n",
        "# rounds to 2 decimal places\n",
        "df_kw_pos = df_kw_pos.round(0)"
      ]
    },
    {
      "cell_type": "code",
      "execution_count": null,
      "metadata": {
        "id": "Rntzbv-Gq9tu"
      },
      "outputs": [],
      "source": [
        "# combines to keywords search volumes (amsv) sheet to lookup all kw volume - renames and deletes helper cols\n",
        "df_s_dist = pd.merge(\n",
        "    df_s_dist, df_kw_pos, left_on=\"KW1\", right_on=\"Keyword\", how=\"left\"\n",
        ")\n",
        "\n",
        "df_s_dist.rename(columns={\"Volume\": \"KW1 Imps\", \"Clicks_x\": \"Striking Dist. Clicks\", \"Clicks_y\": \"KW1 Clicks\", \"Position\": \"KW1 Position\"}, inplace=True)\n",
        "del df_s_dist[\"Keyword\"]\n",
        "\n",
        "df_s_dist = pd.merge(\n",
        "    df_s_dist, df_kw_pos, left_on=\"KW2\", right_on=\"Keyword\", how=\"left\"\n",
        ")\n",
        "df_s_dist.rename(columns={\"Volume\": \"KW2 Imps\", \"Clicks\": \"KW2 Clicks\", \"Position\": \"KW2 Position\"}, inplace=True)\n",
        "del df_s_dist[\"Keyword\"]\n",
        "\n",
        "df_s_dist = pd.merge(\n",
        "    df_s_dist, df_kw_pos, left_on=\"KW3\", right_on=\"Keyword\", how=\"left\"\n",
        ")\n",
        "df_s_dist.rename(columns={\"Volume\": \"KW3 Imps\", \"Clicks\": \"KW3 Clicks\", \"Position\": \"KW3 Position\"}, inplace=True)\n",
        "del df_s_dist[\"Keyword\"]\n",
        "\n",
        "df_s_dist = pd.merge(\n",
        "    df_s_dist, df_kw_pos, left_on=\"KW4\", right_on=\"Keyword\", how=\"left\"\n",
        ")\n",
        "df_s_dist.rename(columns={\"Volume\": \"KW4 Imps\", \"Clicks\": \"KW4 Clicks\", \"Position\": \"KW4 Position\"}, inplace=True)\n",
        "del df_s_dist[\"Keyword\"]\n",
        "\n",
        "df_s_dist = pd.merge(\n",
        "    df_s_dist, df_kw_pos, left_on=\"KW5\", right_on=\"Keyword\", how=\"left\"\n",
        ")\n",
        "df_s_dist.rename(columns={\"Volume\": \"KW5 Imps\", \"Clicks\": \"KW5 Clicks\", \"Position\": \"KW5 Position\"}, inplace=True)\n",
        "del df_s_dist[\"Keyword\"]\n",
        "\n",
        "# renames category description columns after merging.\n",
        "df_s_dist.rename(\n",
        "    columns={\"Category Description_x\": \"Category Description\"}, inplace=True\n",
        ")\n",
        "df_s_dist.rename(columns={\"Category Description_y\": \"Parent Cat Text\"}, inplace=True)"
      ]
    },
    {
      "cell_type": "code",
      "execution_count": null,
      "metadata": {
        "id": "Mjsm5wbCq_1L"
      },
      "outputs": [],
      "source": [
        "# defines the new columns\n",
        "sort_cols = [\n",
        "    \"URL\",\n",
        "    \"Title\",\n",
        "    \"H1\",\n",
        "    \"Category Description\",\n",
        "    \"Parent URL\",\n",
        "    \"Total Impressions\",\n",
        "    \"Striking Dist. Clicks\",\n",
        "    \"KWs in Striking Dist.\",\n",
        "    \"KW1\",\n",
        "    \"KW1 Imps\",\n",
        "    \"KW1 Clicks\",\n",
        "    \"KW1 Position\",\n",
        "    \"KW1 in Title\",\n",
        "    \"KW1 in Copy\",\n",
        "    \"KW1 Cat Text\",\n",
        "    \"KW2\",\n",
        "    \"KW2 Imps\",\n",
        "    \"KW2 Clicks\",\n",
        "    \"KW2 Position\",\n",
        "    \"KW2 in Title\",\n",
        "    \"KW2 in Copy\",\n",
        "    \"KW2 Cat Text\",\n",
        "    \"KW3\",\n",
        "    \"KW3 Imps\",\n",
        "    \"KW3 Clicks\",\n",
        "    \"KW3 Position\",\n",
        "    \"KW4\",\n",
        "    \"KW4 Imps\",\n",
        "    \"KW4 Clicks\",\n",
        "    \"KW4 Position\",\n",
        "    \"KW4 in Title\",\n",
        "    \"KW4 in Copy\",\n",
        "    \"KW4 Cat Text\",\n",
        "    \"KW5\",\n",
        "    \"KW5 Imps\",\n",
        "    \"KW5 Clicks\",\n",
        "    \"KW5 Position\",\n",
        "    \"KW5 in Title\",\n",
        "    \"KW5 in Copy\",\n",
        "    \"KW5 Cat Text\",\n",
        "]"
      ]
    },
    {
      "cell_type": "code",
      "execution_count": null,
      "metadata": {
        "id": "QOzq_FWfrBqj"
      },
      "outputs": [],
      "source": [
        "# re-indexes columns to place them in a logical order + inserts new blank columns for kw checks.\n",
        "df_s_dist = df_s_dist.reindex(columns=sort_cols)"
      ]
    },
    {
      "cell_type": "code",
      "execution_count": null,
      "metadata": {
        "id": "i2YDnIsRr-HR"
      },
      "outputs": [],
      "source": [
        "# replaces nan values with 0\"s\n",
        "df_s_dist[\"KW2\"] = df_s_dist[\"KW2\"].fillna(0)\n",
        "df_s_dist[\"KW3\"] = df_s_dist[\"KW3\"].fillna(0)\n",
        "df_s_dist[\"KW4\"] = df_s_dist[\"KW4\"].fillna(0)\n",
        "df_s_dist[\"KW5\"] = df_s_dist[\"KW5\"].fillna(0)\n",
        "\n",
        "# drops the title, h1 and category description to lower case so kws can be matched against them.\n",
        "df_s_dist[\"Title\"] = df_s_dist[\"Title\"].str.lower()\n",
        "df_s_dist[\"H1\"] = df_s_dist[\"H1\"].str.lower()"
      ]
    },
    {
      "cell_type": "code",
      "execution_count": null,
      "metadata": {
        "id": "rjYS_Gtor_5s"
      },
      "outputs": [],
      "source": [
        "try:\n",
        "    df_s_dist[\"Category Description\"] = df_s_dist[\"Category Description\"].str.lower()\n",
        "except Exception:\n",
        "    pass\n",
        "try:\n",
        "    df_s_dist[\"Parent Cat Text\"] = df_s_dist[\"Parent Cat Text\"].str.lower()\n",
        "except Exception:\n",
        "    pass"
      ]
    },
    {
      "cell_type": "code",
      "execution_count": null,
      "metadata": {
        "id": "tiXah-YIsCUP"
      },
      "outputs": [],
      "source": [
        "# change data types\n",
        "df_s_dist = df_s_dist.astype(str)  # Casts Entire DF to String\n",
        "float_cols = [\n",
        "    \"KW1 Imps\",\n",
        "    \"KW2 Imps\",\n",
        "    \"KW3 Imps\",\n",
        "    \"KW4 Imps\",\n",
        "    \"KW5 Imps\",\n",
        "    \"KW1 Position\",\n",
        "    \"KW2 Position\",\n",
        "    \"KW3 Position\",\n",
        "    \"KW4 Position\",\n",
        "    \"KW5 Position\",\n",
        "    \"KWs in Striking Dist.\",\n",
        "    \"Total Impressions\",\n",
        "]\n",
        "int_cols = [\n",
        "    \"KW1 Imps\",\n",
        "    \"KW2 Imps\",\n",
        "    \"KW3 Imps\",\n",
        "    \"KW4 Imps\",\n",
        "    \"KW5 Imps\",\n",
        "    \"KW1 Position\",\n",
        "    \"KW2 Position\",\n",
        "    \"KW3 Position\",\n",
        "    \"KW4 Position\",\n",
        "    \"KW5 Position\",\n",
        "    \"KWs in Striking Dist.\",\n",
        "    \"Total Impressions\",\n",
        "]\n",
        "\n",
        "# change the data types to ensure the script works without errors\n",
        "df_s_dist[float_cols] = df_s_dist[float_cols].astype(float)\n",
        "df_s_dist = df_s_dist.fillna(0)\n",
        "df_s_dist[int_cols] = df_s_dist[int_cols].astype(int)"
      ]
    },
    {
      "cell_type": "code",
      "execution_count": null,
      "metadata": {
        "id": "2JBUJjgxsGyA"
      },
      "outputs": [],
      "source": [
        "# checks whether a keyword appears in title, h1 and category description.\n",
        "df_s_dist[\"KW1 in Title\"] = df_s_dist.apply(\n",
        "    lambda row: row[\"KW1\"] in row[\"Title\"], axis=1\n",
        ")\n",
        "df_s_dist[\"KW1 in H1\"] = df_s_dist.apply(lambda row: row[\"KW1\"] in row[\"H1\"], axis=1)\n",
        "df_s_dist[\"KW1 Cat Text\"] = df_s_dist.apply(\n",
        "    lambda row: row[\"KW1\"] in row[\"Category Description\"], axis=1\n",
        ")\n",
        "\n",
        "df_s_dist[\"KW2 in Title\"] = df_s_dist.apply(\n",
        "    lambda row: row[\"KW2\"] in row[\"Title\"], axis=1\n",
        ")\n",
        "df_s_dist[\"KW2 in H1\"] = df_s_dist.apply(lambda row: row[\"KW2\"] in row[\"H1\"], axis=1)\n",
        "df_s_dist[\"KW2 Cat Text\"] = df_s_dist.apply(\n",
        "    lambda row: row[\"KW2\"] in row[\"Category Description\"], axis=1\n",
        ")\n",
        "\n",
        "df_s_dist[\"KW3 in Title\"] = df_s_dist.apply(\n",
        "    lambda row: row[\"KW3\"] in row[\"Title\"], axis=1\n",
        ")\n",
        "df_s_dist[\"KW3 in H1\"] = df_s_dist.apply(lambda row: row[\"KW3\"] in row[\"H1\"], axis=1)\n",
        "df_s_dist[\"KW3 Cat Text\"] = df_s_dist.apply(\n",
        "    lambda row: row[\"KW3\"] in row[\"Category Description\"], axis=1\n",
        ")\n",
        "\n",
        "df_s_dist[\"KW4 in Title\"] = df_s_dist.apply(\n",
        "    lambda row: row[\"KW4\"] in row[\"Title\"], axis=1\n",
        ")\n",
        "df_s_dist[\"KW4 in H1\"] = df_s_dist.apply(lambda row: row[\"KW4\"] in row[\"H1\"], axis=1)\n",
        "df_s_dist[\"KW4 Cat Text\"] = df_s_dist.apply(\n",
        "    lambda row: row[\"KW4\"] in row[\"Category Description\"], axis=1\n",
        ")\n",
        "\n",
        "df_s_dist[\"KW5 in Title\"] = df_s_dist.apply(\n",
        "    lambda row: row[\"KW5\"] in row[\"Title\"], axis=1\n",
        ")\n",
        "df_s_dist[\"KW5 in H1\"] = df_s_dist.apply(lambda row: row[\"KW5\"] in row[\"H1\"], axis=1)\n",
        "df_s_dist[\"KW5 Cat Text\"] = df_s_dist.apply(\n",
        "    lambda row: row[\"KW5\"] in row[\"Category Description\"], axis=1\n",
        ")"
      ]
    },
    {
      "cell_type": "code",
      "execution_count": null,
      "metadata": {
        "id": "8fVpFFvxsNxs"
      },
      "outputs": [],
      "source": [
        "# restores title and h1 columns back to title case for aesthetic reasons.\n",
        "df_s_dist[\"Title\"] = df_s_dist[\"Title\"].str.title()\n",
        "df_s_dist[\"H1\"] = df_s_dist[\"H1\"].str.title()"
      ]
    },
    {
      "cell_type": "code",
      "execution_count": null,
      "metadata": {
        "id": "NBOyDdhZsQFf"
      },
      "outputs": [],
      "source": [
        "# delete true / false values if there is no keyword\n",
        "df_s_dist.loc[df_s_dist[\"KW1\"] == \"0\", \"KW1 in Title\"] = \"\"\n",
        "df_s_dist.loc[df_s_dist[\"KW1\"] == \"0\", \"KW1 in H1\"] = \"\"\n",
        "df_s_dist.loc[df_s_dist[\"KW1\"] == \"0\", \"KW1 Cat Text\"] = \"\"\n",
        "df_s_dist.loc[df_s_dist[\"KW1\"] == \"0\", \"KW1 Linked from Parent\"] = \"\"\n",
        "df_s_dist.loc[df_s_dist[\"KW2\"] == \"0\", \"KW2 in Title\"] = \"\"\n",
        "df_s_dist.loc[df_s_dist[\"KW2\"] == \"0\", \"KW2 in H1\"] = \"\"\n",
        "df_s_dist.loc[df_s_dist[\"KW2\"] == \"0\", \"KW2 Cat Text\"] = \"\"\n",
        "df_s_dist.loc[df_s_dist[\"KW2\"] == \"0\", \"KW2 Linked from Parent\"] = \"\"\n",
        "df_s_dist.loc[df_s_dist[\"KW3\"] == \"0\", \"KW3 in Title\"] = \"\"\n",
        "df_s_dist.loc[df_s_dist[\"KW3\"] == \"0\", \"KW3 in H1\"] = \"\"\n",
        "df_s_dist.loc[df_s_dist[\"KW3\"] == \"0\", \"KW3 Cat Text\"] = \"\"\n",
        "df_s_dist.loc[df_s_dist[\"KW3\"] == \"0\", \"KW3 Linked from Parent\"] = \"\"\n",
        "df_s_dist.loc[df_s_dist[\"KW4\"] == \"0\", \"KW4 in Title\"] = \"\"\n",
        "df_s_dist.loc[df_s_dist[\"KW4\"] == \"0\", \"KW4 in H1\"] = \"\"\n",
        "df_s_dist.loc[df_s_dist[\"KW4\"] == \"0\", \"KW4 Cat Text\"] = \"\"\n",
        "df_s_dist.loc[df_s_dist[\"KW4\"] == \"0\", \"KW4 Linked from Parent\"] = \"\"\n",
        "df_s_dist.loc[df_s_dist[\"KW5\"] == \"0\", \"KW5 in Title\"] = \"\"\n",
        "df_s_dist.loc[df_s_dist[\"KW5\"] == \"0\", \"KW5 in H1\"] = \"\"\n",
        "df_s_dist.loc[df_s_dist[\"KW5\"] == \"0\", \"KW5 Cat Text\"] = \"\"\n",
        "df_s_dist.loc[df_s_dist[\"KW5\"] == \"0\", \"KW5 Linked from Parent\"] = \"\""
      ]
    },
    {
      "cell_type": "code",
      "execution_count": null,
      "metadata": {
        "id": "xjm8iTugsRx2"
      },
      "outputs": [],
      "source": [
        "# deletes the 0\"s from the kw cols.\n",
        "df_s_dist[\"KW2\"].replace({\"0\": \"\"}, inplace=True)\n",
        "df_s_dist[\"KW3\"].replace({\"0\": \"\"}, inplace=True)\n",
        "df_s_dist[\"KW4\"].replace({\"0\": \"\"}, inplace=True)\n",
        "df_s_dist[\"KW5\"].replace({\"0\": \"\"}, inplace=True)"
      ]
    },
    {
      "cell_type": "code",
      "execution_count": null,
      "metadata": {
        "id": "siXRlemssTEr"
      },
      "outputs": [],
      "source": [
        "# slicing striking distance and removing if all values = true - then re-merging to form final dataframe.\n",
        "# main dataframe to re-merge into.\n",
        "df_main = df_s_dist[\n",
        "    [\"URL\", \"Title\", \"H1\", \"Total Impressions\", \"KWs in Striking Dist.\"]\n",
        "]"
      ]
    },
    {
      "cell_type": "code",
      "execution_count": null,
      "metadata": {
        "id": "lV5qHlJWsUpF"
      },
      "outputs": [],
      "source": [
        "# split down into smaller dataframes, drop if all true then re-merge.\n",
        "df_kw_1 = df_s_dist[\n",
        "    [\n",
        "        \"URL\",\n",
        "        \"KW1\",\n",
        "        \"KW1 Imps\",\n",
        "        \"KW1 Clicks\",\n",
        "        \"KW1 Position\",\n",
        "        \"KW1 in Title\",\n",
        "        \"KW1 in H1\",\n",
        "        \"KW1 Cat Text\",\n",
        "    ]\n",
        "]\n"
      ]
    },
    {
      "cell_type": "code",
      "execution_count": null,
      "metadata": {
        "id": "HTC3kXcysazR"
      },
      "outputs": [],
      "source": [
        "# drops rows if all values evaluate to true. (nothing for the user to do).\n",
        "df_kw_1 = df_kw_1.drop(\n",
        "    df_kw_1[\n",
        "        (df_kw_1[\"KW1 in Title\"] == True)\n",
        "        & (df_kw_1[\"KW1 in H1\"] == True)\n",
        "        & (df_kw_1[\"KW1 Cat Text\"] == True)\n",
        "    ].index\n",
        ")\n",
        "\n",
        "df_kw_2 = df_s_dist[\n",
        "    [\n",
        "        \"URL\",\n",
        "        \"KW2\",\n",
        "        \"KW2 Imps\",\n",
        "        \"KW2 Clicks\",\n",
        "        \"KW2 Position\",\n",
        "        \"KW2 in Title\",\n",
        "        \"KW2 in H1\",\n",
        "        \"KW2 Cat Text\",\n",
        "    ]\n",
        "]\n",
        "# drops rows if all values evaluate to true. (nothing for the user to do).\n",
        "df_kw_2 = df_kw_2.drop(\n",
        "    df_kw_2[\n",
        "        (df_kw_2[\"KW2 in Title\"] == True)\n",
        "        & (df_kw_2[\"KW2 in H1\"] == True)\n",
        "        & (df_kw_2[\"KW2 Cat Text\"] == True)\n",
        "    ].index\n",
        ")\n",
        "\n",
        "df_kw_3 = df_s_dist[\n",
        "    [\n",
        "        \"URL\",\n",
        "        \"KW3\",\n",
        "        \"KW3 Imps\",\n",
        "        \"KW3 Clicks\",\n",
        "        \"KW3 Position\",\n",
        "        \"KW3 in Title\",\n",
        "        \"KW3 in H1\",\n",
        "        \"KW3 Cat Text\",\n",
        "    ]\n",
        "]\n",
        "# drops rows if all values evaluate to true. (nothing for the user to do).\n",
        "df_kw_3 = df_kw_3.drop(\n",
        "    df_kw_3[\n",
        "        (df_kw_3[\"KW3 in Title\"] == True)\n",
        "        & (df_kw_3[\"KW3 in H1\"] == True)\n",
        "        & (df_kw_3[\"KW3 Cat Text\"] == True)\n",
        "    ].index\n",
        ")\n",
        "\n",
        "df_kw_4 = df_s_dist[\n",
        "    [\n",
        "        \"URL\",\n",
        "        \"KW4\",\n",
        "        \"KW4 Imps\",\n",
        "        \"KW4 Clicks\",\n",
        "        \"KW4 Position\",\n",
        "        \"KW4 in Title\",\n",
        "        \"KW4 in H1\",\n",
        "        \"KW4 Cat Text\",\n",
        "    ]\n",
        "]\n",
        "# drops rows if all values evaluate to true. (nothing for the user to do).\n",
        "df_kw_4 = df_kw_4.drop(\n",
        "    df_kw_4[\n",
        "        (df_kw_4[\"KW4 in Title\"] == True)\n",
        "        & (df_kw_4[\"KW4 in H1\"] == True)\n",
        "        & (df_kw_4[\"KW4 Cat Text\"] == True)\n",
        "    ].index\n",
        ")\n",
        "\n",
        "df_kw_5 = df_s_dist[\n",
        "    [\n",
        "        \"URL\",\n",
        "        \"KW5\",\n",
        "        \"KW5 Imps\",\n",
        "        \"KW5 Clicks\",\n",
        "        \"KW5 Position\",\n",
        "        \"KW5 in Title\",\n",
        "        \"KW5 in H1\",\n",
        "        \"KW5 Cat Text\",\n",
        "    ]\n",
        "]\n",
        "# drops rows if all values evaluate to true. (nothing for the user to do).\n",
        "df_kw_5 = df_kw_5.drop(\n",
        "    df_kw_5[\n",
        "        (df_kw_5[\"KW5 in Title\"] == True)\n",
        "        & (df_kw_5[\"KW5 in H1\"] == True)\n",
        "        & (df_kw_5[\"KW5 Cat Text\"] == True)\n",
        "    ].index\n",
        ")"
      ]
    },
    {
      "cell_type": "code",
      "execution_count": null,
      "metadata": {
        "id": "uY4hKFvGscUu"
      },
      "outputs": [],
      "source": [
        "# do the merges\n",
        "df_kw_merge = pd.merge(df_main, df_kw_1, on=\"URL\", how=\"left\")\n",
        "df_kw_merge = pd.merge(df_kw_merge, df_kw_2, on=\"URL\", how=\"left\")\n",
        "df_kw_merge = pd.merge(df_kw_merge, df_kw_3, on=\"URL\", how=\"left\")\n",
        "df_kw_merge = pd.merge(df_kw_merge, df_kw_4, on=\"URL\", how=\"left\")\n",
        "df_kw_merge = pd.merge(df_kw_merge, df_kw_5, on=\"URL\", how=\"left\")"
      ]
    },
    {
      "cell_type": "code",
      "execution_count": null,
      "metadata": {
        "id": "tM7WKFIPserE"
      },
      "outputs": [],
      "source": [
        "# shift left on empty cells\n",
        "v = df_kw_merge.values\n",
        "a = [[n] * v.shape[1] for n in range(v.shape[0])]\n",
        "b = pd.isnull(v).argsort(axis=1, kind=\"mergesort\")\n",
        "new_array = v[a, b]"
      ]
    },
    {
      "cell_type": "code",
      "execution_count": null,
      "metadata": {
        "id": "pPMPOi3TsiM3"
      },
      "outputs": [],
      "source": [
        "# convert numpy array back to dataframe. # this only names the columns, does not re-index them.\n",
        "df_s_dist = pd.DataFrame(\n",
        "    data=new_array,\n",
        "    columns=[\n",
        "    \"URL\",\n",
        "    \"Title\",\n",
        "    \"H1\",\n",
        "    \"Total Impressions\",\n",
        "    \"KWs in Striking Dist.\",\n",
        "    \"KW1\",\n",
        "    \"KW1 Imps\",\n",
        "    \"KW1 Clicks\",\n",
        "    \"KW1 Position\",\n",
        "    \"KW1 in Title\",\n",
        "    \"KW1 in H1\",\n",
        "    \"KW1 Cat Text\",\n",
        "    \"KW2\",\n",
        "    \"KW2 Imps\",\n",
        "    \"KW2 Clicks\",\n",
        "    \"KW2 Position\",\n",
        "    \"KW2 in Title\",\n",
        "    \"KW2 in H1\",\n",
        "    \"KW2 Cat Text\",\n",
        "    \"KW3\",\n",
        "    \"KW3 Imps\",\n",
        "    \"KW3 Clicks\",\n",
        "    \"KW3 Position\",\n",
        "    \"KW3 in Title\",\n",
        "    \"KW3 in H1\",\n",
        "    \"KW3 Cat Text\",\n",
        "    \"KW4\",\n",
        "    \"KW4 Imps\",\n",
        "    \"KW4 Clicks\",\n",
        "    \"KW4 Position\",\n",
        "    \"KW4 in Title\",\n",
        "    \"KW4 in H1\",\n",
        "    \"KW4 Cat Text\",\n",
        "    \"KW5\",\n",
        "    \"KW5 Imps\",\n",
        "    \"KW5 Clicks\",\n",
        "    \"KW5 Position\",\n",
        "    \"KW5 in Title\",\n",
        "    \"KW5 in H1\",\n",
        "    \"KW5 Cat Text\",\n",
        "],\n",
        ")"
      ]
    },
    {
      "cell_type": "code",
      "execution_count": null,
      "metadata": {
        "id": "V-G120arskqT"
      },
      "outputs": [],
      "source": [
        "# remove nan values\n",
        "df_s_dist.replace({\"nan\": 0}, inplace=True)"
      ]
    },
    {
      "cell_type": "code",
      "execution_count": null,
      "metadata": {
        "id": "xnCzRM-bsk1w"
      },
      "outputs": [],
      "source": [
        "# fill in empty values\n",
        "df_s_dist.fillna(\n",
        "    {\n",
        "        \"KW1 Clicks\": 0,\n",
        "        \"KW2 Clicks\": 0,\n",
        "        \"KW3 Clicks\": 0,\n",
        "        \"KW4 Clicks\": 0,\n",
        "        \"KW5 Clicks\": 0,\n",
        "        \"KW1 Position\": 0,\n",
        "        \"KW2 Position\": 0,\n",
        "        \"KW3 Position\": 0,\n",
        "        \"KW4 Position\": 0,\n",
        "        \"KW5 Position\": 0,\n",
        "        \"KW1 Imps\": 0,\n",
        "        \"KW2 Imps\": 0,\n",
        "        \"KW3 Imps\": 0,\n",
        "        \"KW4 Imps\": 0,\n",
        "        \"KW5 Imps\": 0,\n",
        "    },\n",
        "    inplace=True,\n",
        ")"
      ]
    },
    {
      "cell_type": "code",
      "execution_count": null,
      "metadata": {
        "id": "lNuMWNm9sk4h"
      },
      "outputs": [],
      "source": [
        "# change the datatype for the final output (first to float, then to int)\n",
        "df_s_dist = df_s_dist.astype(\n",
        "    {\n",
        "        \"KW1 Imps\": float,\n",
        "        \"KW2 Imps\": float,\n",
        "        \"KW3 Imps\": float,\n",
        "        \"KW4 Imps\": float,\n",
        "        \"KW5 Imps\": float,\n",
        "    }\n",
        ")\n",
        "\n",
        "df_s_dist = df_s_dist.astype(\n",
        "    {\n",
        "        \"KW1 Imps\": int,\n",
        "        \"KW2 Imps\": int,\n",
        "        \"KW3 Imps\": int,\n",
        "        \"KW4 Imps\": int,\n",
        "        \"KW5 Imps\": int,\n",
        "    }\n",
        ")\n",
        "\n",
        "df_s_dist = df_s_dist.astype(\n",
        "    {\n",
        "        \"KW1 Clicks\": float,\n",
        "        \"KW2 Clicks\": float,\n",
        "        \"KW3 Clicks\": float,\n",
        "        \"KW4 Clicks\": float,\n",
        "        \"KW5 Clicks\": float,\n",
        "    }\n",
        ")\n",
        "\n",
        "df_s_dist = df_s_dist.astype(\n",
        "    {\n",
        "        \"KW1 Clicks\": int,\n",
        "        \"KW2 Clicks\": int,\n",
        "        \"KW3 Clicks\": int,\n",
        "        \"KW4 Clicks\": int,\n",
        "        \"KW5 Clicks\": int,\n",
        "    }\n",
        ")"
      ]
    },
    {
      "cell_type": "code",
      "execution_count": null,
      "metadata": {
        "id": "WKjgLBsNsk6-"
      },
      "outputs": [],
      "source": [
        "# Calculate Total Striking Distance Impressions of Remaining Keywords\n",
        "df_s_dist[\"Total Impressions\"] = (\n",
        "    df_s_dist[\"KW1 Imps\"]\n",
        "    + df_s_dist[\"KW2 Imps\"]\n",
        "    + df_s_dist[\"KW3 Imps\"]\n",
        "    + df_s_dist[\"KW4 Imps\"]\n",
        "    + df_s_dist[\"KW5 Imps\"]\n",
        ")\n",
        "\n",
        "# Calculate Total Clicks\n",
        "df_s_dist[\"Total Clicks\"] = (\n",
        "    df_s_dist[\"KW1 Clicks\"]\n",
        "    + df_s_dist[\"KW2 Clicks\"]\n",
        "    + df_s_dist[\"KW3 Clicks\"]\n",
        "    + df_s_dist[\"KW4 Clicks\"]\n",
        "    + df_s_dist[\"KW5 Clicks\"]\n",
        ")"
      ]
    },
    {
      "cell_type": "code",
      "execution_count": null,
      "metadata": {
        "id": "llGkaepPsk94"
      },
      "outputs": [],
      "source": [
        "# drop rows if == 0\n",
        "df_s_dist = df_s_dist[~df_s_dist[\"KW1 Imps\"].isin([0])]"
      ]
    },
    {
      "cell_type": "code",
      "execution_count": null,
      "metadata": {
        "id": "T9iW4jGcslKE"
      },
      "outputs": [],
      "source": [
        "# assign columns for .replace\n",
        "col_replace = [\n",
        "    \"KW2 Imps\",\n",
        "    \"KW2 Clicks\",\n",
        "    \"KW2 Position\",\n",
        "    \"KW3 Imps\",\n",
        "    \"KW3 Clicks\",\n",
        "    \"KW3 Position\",\n",
        "    \"KW4 Imps\",\n",
        "    \"KW4 Clicks\",\n",
        "    \"KW4 Position\",\n",
        "    \"KW5 Imps\",\n",
        "    \"KW5 Clicks\",\n",
        "    \"KW5 Position\",\n",
        "]"
      ]
    },
    {
      "cell_type": "code",
      "execution_count": null,
      "metadata": {
        "id": "HgSFOzowslMX"
      },
      "outputs": [],
      "source": [
        "df_s_dist.rename(\n",
        "    columns={\n",
        "        \"KW1 Cat Text\": \"KW1 in Copy\",\n",
        "        \"KW2 Cat Text\": \"KW2 in Copy\",\n",
        "        \"KW3 Cat Text\": \"KW3 in Copy\",\n",
        "        \"KW4 Cat Text\": \"KW4 in Copy\",\n",
        "        \"KW5 Cat Text\": \"KW5 in Copy\",\n",
        "    },\n",
        "    inplace=True,\n",
        ")"
      ]
    },
    {
      "cell_type": "code",
      "execution_count": null,
      "metadata": {
        "id": "p8Qg4EgdslOw"
      },
      "outputs": [],
      "source": [
        "# calculate estimated clicks if position 1-3\n",
        "df_s_dist[\"Predicted Clicks (1-3)\"] = df_s_dist[\"Total Impressions\"] * ctr_avg\n",
        "\n",
        "# round estimated clicks column\n",
        "df_s_dist[\"Predicted Clicks (1-3)\"] = df_s_dist[\"Predicted Clicks (1-3)\"].round(0)\n",
        "\n",
        "# calculate missed clicks by subtracting actual from estimate\n",
        "df_s_dist[\"Missed Clicks\"] = df_s_dist[\"Predicted Clicks (1-3)\"] - df_s_dist[\"Total Clicks\"]"
      ]
    },
    {
      "cell_type": "code",
      "execution_count": null,
      "metadata": {
        "id": "QbkIjEYrslQ4"
      },
      "outputs": [],
      "source": [
        "# This is used to keep 0 values for clicks, but remove them if there's no keyword\n",
        "df_s_dist.fillna({\"KW1\": \"DELETE-000\", \"KW2\": \"DELETE-000\", \"KW3\": \"DELETE-000\", \"KW4\": \"DELETE-000\",  \"KW5\": \"DELETE-000\"}, inplace=True)\n",
        "df_s_dist.loc[df_s_dist['KW1'] == \"DELETE-000\", [\"KW1 Imps\", \"KW1 Clicks\", \"KW1 Position\"]] = \"\"\n",
        "df_s_dist.loc[df_s_dist['KW2'] == \"DELETE-000\", [\"KW2 Imps\", \"KW2 Clicks\", \"KW2 Position\"]] = \"\"\n",
        "df_s_dist.loc[df_s_dist['KW3'] == \"DELETE-000\", [\"KW3 Imps\", \"KW3 Clicks\", \"KW3 Position\"]] = \"\"\n",
        "df_s_dist.loc[df_s_dist['KW4'] == \"DELETE-000\", [\"KW4 Imps\", \"KW4 Clicks\", \"KW4 Position\"]] = \"\"\n",
        "df_s_dist.loc[df_s_dist['KW5'] == \"DELETE-000\", [\"KW5 Imps\", \"KW5 Clicks\", \"KW5 Position\"]] = \"\"\n",
        "df_s_dist.replace({\"DELETE-000\": \"\"}, inplace=True)"
      ]
    },
    {
      "cell_type": "code",
      "execution_count": null,
      "metadata": {
        "id": "KsTndS_Ls24h"
      },
      "outputs": [],
      "source": [
        "# merge in the missing category description Data\n",
        "df_s_dist = pd.merge(df_s_dist, df_sf_cat_desc, left_on=\"URL\", right_on=\"Address\", how=\"left\")"
      ]
    },
    {
      "cell_type": "code",
      "execution_count": null,
      "metadata": {
        "id": "T8dIu-vWs3Ds"
      },
      "outputs": [],
      "source": [
        "# populate columns with missing text as False\n",
        "df_s_dist[\"Missing Copy?\"] = df_s_dist[\"Missing Copy?\"].fillna(False)\n",
        "df_s_dist[\"Missing Copy?\"] = df_s_dist[\"Missing Copy?\"].astype(bool)"
      ]
    },
    {
      "cell_type": "code",
      "execution_count": null,
      "metadata": {
        "id": "DoPEsBjus3Gc"
      },
      "outputs": [],
      "source": [
        "col_sort = [\n",
        "    \"URL\",\n",
        "    \"Title\",\n",
        "    \"H1\",\n",
        "    \"Missing Copy?\",\n",
        "    \"Total Impressions\",\n",
        "    \"Total Clicks\",\n",
        "    \"Predicted Clicks (1-3)\",\n",
        "    \"Missed Clicks\",\n",
        "    \"KWs in Striking Dist.\",\n",
        "    \"KW1\",\n",
        "    \"KW1 Clicks\",\n",
        "    \"KW1 Imps\",\n",
        "    \"KW1 Position\",\n",
        "    \"KW1 in Title\",\n",
        "    \"KW1 in H1\",\n",
        "    \"KW1 in Copy\",\n",
        "    \"KW2\",\n",
        "    \"KW2 Clicks\",\n",
        "    \"KW2 Imps\",\n",
        "    \"KW2 Position\",\n",
        "    \"KW2 in Title\",\n",
        "    \"KW2 in H1\",\n",
        "    \"KW2 in Copy\",\n",
        "    \"KW3\",\n",
        "    \"KW3 Clicks\",\n",
        "    \"KW3 Imps\",\n",
        "    \"KW3 Position\",\n",
        "    \"KW3 in Title\",\n",
        "    \"KW3 in H1\",\n",
        "    \"KW3 in Copy\",\n",
        "    \"KW4\",\n",
        "    \"KW4 Clicks\",\n",
        "    \"KW4 Imps\",\n",
        "    \"KW4 Position\",\n",
        "    \"KW4 in Title\",\n",
        "    \"KW4 in H1\",\n",
        "    \"KW4 in Copy\",\n",
        "    \"KW5\",\n",
        "    \"KW5 Clicks\",\n",
        "    \"KW5 Imps\",\n",
        "    \"KW5 Position\",\n",
        "    \"KW5 in Title\",\n",
        "    \"KW5 in H1\",\n",
        "    \"KW5 in Copy\",\n",
        "]"
      ]
    },
    {
      "cell_type": "code",
      "execution_count": null,
      "metadata": {
        "id": "kPS2q2S_s3I6"
      },
      "outputs": [],
      "source": [
        "# reindex the columns\n",
        "df_s_dist = df_s_dist.reindex(columns=col_sort)"
      ]
    },
    {
      "cell_type": "code",
      "execution_count": null,
      "metadata": {
        "id": "-Ubforx6s3L7"
      },
      "outputs": [],
      "source": [
        "# sort by impressions\n",
        "df_s_dist = df_s_dist.sort_values(by=\"Total Impressions\", ascending=False)"
      ]
    },
    {
      "cell_type": "code",
      "execution_count": null,
      "metadata": {
        "id": "qAw3e0Ics3Nz"
      },
      "outputs": [],
      "source": [
        "# make the word fragments for testing\n",
        "# change the data type for concat\n",
        "df_s_dist = df_s_dist.astype({\"KW1\": str, \"KW2\": str, \"KW3\": str, \"KW4\": str, \"KW5\": str})"
      ]
    },
    {
      "cell_type": "code",
      "execution_count": null,
      "metadata": {
        "id": "peyZV-bhs3QV"
      },
      "outputs": [],
      "source": [
        "# add the strings into a new column\n",
        "df_s_dist[\"All Missing Words\"] = df_s_dist[\"KW1\"] + \" \" + df_s_dist[\"KW2\"] + \" \" + df_s_dist[\"KW3\"] + \" \" + df_s_dist[\"KW4\"] + \" \" + df_s_dist[\"KW5\"]\n",
        "\n",
        "# removes non-consecutive duplicates from a single cell\n",
        "df_s_dist[\"All Missing Words\"] = (df_s_dist[\"All Missing Words\"].str.split().apply(lambda x: OrderedDict.fromkeys(x).keys()).str.join(\" \"))\n",
        "\n",
        "# replace all nan values after concatenating columns\n",
        "df_s_dist[\"All Missing Words\"] = df_s_dist[\"All Missing Words\"].apply(lambda x: x.replace(\" nan\", \"\"))\n",
        "\n",
        "# change to comma separated\n",
        "df_s_dist[\"All Missing Words\"] = df_s_dist[\"All Missing Words\"].apply(lambda x: x.replace(\" \", \", \"))"
      ]
    },
    {
      "cell_type": "code",
      "execution_count": null,
      "metadata": {
        "id": "X93PHpaxs3Tk"
      },
      "outputs": [],
      "source": [
        "# removes all nans\n",
        "df_s_dist[\"KW1\"] = df_s_dist[\"KW1\"].apply(lambda x: x.replace(\"nan\", \"\"))\n",
        "df_s_dist[\"KW2\"] = df_s_dist[\"KW2\"].apply(lambda x: x.replace(\"nan\", \"\"))\n",
        "df_s_dist[\"KW3\"] = df_s_dist[\"KW3\"].apply(lambda x: x.replace(\"nan\", \"\"))\n",
        "df_s_dist[\"KW4\"] = df_s_dist[\"KW4\"].apply(lambda x: x.replace(\"nan\", \"\"))\n",
        "df_s_dist[\"KW5\"] = df_s_dist[\"KW5\"].apply(lambda x: x.replace(\"nan\", \"\"))"
      ]
    },
    {
      "cell_type": "code",
      "execution_count": null,
      "metadata": {
        "id": "ddKQWAkEs3ZI"
      },
      "outputs": [],
      "source": [
        "# checks if any word in a single column if found in the title column and remove it in place\n",
        "df_s_dist[\"Missing Words in Title\"] = [\n",
        "    \", \".join([w for w in ws if re.search(f\"\\\\b{w}\\\\b\", s)])\n",
        "    for s, ws in zip(\n",
        "        df_s_dist[\"Title\"].str.lower(),\n",
        "        df_s_dist[\"All Missing Words\"].str.split(\",\\s*\"),\n",
        "    )\n",
        "]"
      ]
    },
    {
      "cell_type": "code",
      "execution_count": null,
      "metadata": {
        "id": "jz2vU_dQs3by"
      },
      "outputs": [],
      "source": [
        "# this inverts the words to show the missing words, rather than the matched. # todo much better way in the future!\n",
        "inter = df_s_dist[\"All Missing Words\"].str.split(\",\").apply(set) - df_s_dist[\"Missing Words in Title\"].str.split(\",\").apply(set).values\n",
        "df_s_dist[\"Missing Words in Title\"] = inter.str.join(\",\")\n",
        "df_s_dist[\"Missing Words in Title\"] = df_s_dist[\"Missing Words in Title\"].str.strip()  # remove the whitespace\n",
        "\n",
        "# checks if any word in a single column if found in the title column and remove it in place\n",
        "df_s_dist[\"Missing Words in H1\"] = [\n",
        "    \", \".join([w for w in ws if re.search(f\"\\\\b{w}\\\\b\", s)])\n",
        "    for s, ws in zip(\n",
        "        df_s_dist[\"Title\"].str.lower(),\n",
        "        df_s_dist[\"All Missing Words\"].str.split(\",\\s*\"),\n",
        "    )\n",
        "]\n",
        "\n",
        "# this inverts the words to show the missing words, rather than the matched. # todo much better way in the future!\n",
        "inter2 = df_s_dist[\"All Missing Words\"].str.split(\",\").apply(set) - df_s_dist[\"Missing Words in H1\"].str.split(\",\").apply(set).values\n",
        "df_s_dist[\"Missing Words in H1\"] = inter2.str.join(\",\")\n",
        "df_s_dist[\"Missing Words in H1\"] = df_s_dist[\"Missing Words in H1\"].str.strip()  # remove the whitespace\n",
        "\n",
        "# make mini dataframe to merge in the category description for checking\n",
        "df_mini_copy = df_sf[[\"Address\", \"Category Description\"]].copy()\n",
        "\n",
        "# do the merge\n",
        "df_s_dist = pd.merge(df_s_dist, df_mini_copy, left_on=\"URL\", right_on=\"Address\", how=\"left\")\n",
        "\n",
        "df_s_dist[\"Category Description\"] = df_s_dist[\"Category Description\"].astype(str)\n",
        "df_s_dist[\"Category Description\"] = df_s_dist[\"Category Description\"].apply(lambda x: x.replace(\" \", \", \"))\n",
        "\n",
        "# checks if any word in a single column if found in the category description and removes it in place.\n",
        "df_s_dist[\"Missing Words in Copy\"] = [\n",
        "    \", \".join([w for w in ws if re.search(f\"\\\\b{w}\\\\b\", s)])\n",
        "    for s, ws in zip(\n",
        "        df_s_dist[\"Category Description\"].str.lower(),\n",
        "        df_s_dist[\"All Missing Words\"].str.split(\",\\s*\"),\n",
        "    )\n",
        "]\n",
        "\n",
        "# this inverts the words to show the missing words, rather than the matched. # todo much better way in the future!\n",
        "inter3 = df_s_dist[\"All Missing Words\"].str.split(\",\").apply(set) - df_s_dist[\"Missing Words in Copy\"].str.split(\",\").apply(set).values\n",
        "df_s_dist[\"Missing Words in Copy\"] = inter3.str.join(\",\")\n",
        "df_s_dist[\"Missing Words in Copy\"] = df_s_dist[\"Missing Words in Copy\"].str.strip()  # remove the whitespace"
      ]
    },
    {
      "cell_type": "code",
      "execution_count": null,
      "metadata": {
        "id": "RrPg3duJs3dv"
      },
      "outputs": [],
      "source": [
        "# final cleanup\n",
        "del df_s_dist[\"Address\"]\n",
        "del df_s_dist[\"Category Description\"]"
      ]
    },
    {
      "cell_type": "code",
      "execution_count": null,
      "metadata": {
        "id": "ICGYik08tW_G"
      },
      "outputs": [],
      "source": [
        "# cleans up / standarises the comma separated keywords\n",
        "df_s_dist[\"Missing Words in Title\"] = df_s_dist[\"Missing Words in Title\"].apply(lambda x: x.replace(\",\", \", \"))\n",
        "df_s_dist[\"Missing Words in Title\"] = df_s_dist[\"Missing Words in Title\"].apply(lambda x: x.replace(\",  \", \", \"))\n",
        "df_s_dist[\"Missing Words in H1\"] = df_s_dist[\"Missing Words in H1\"].apply(lambda x: x.replace(\",\", \", \"))\n",
        "df_s_dist[\"Missing Words in H1\"] = df_s_dist[\"Missing Words in H1\"].apply(lambda x: x.replace(\",  \", \", \"))\n",
        "df_s_dist[\"Missing Words in Copy\"] = df_s_dist[\"Missing Words in Copy\"].apply(lambda x: x.replace(\",\", \", \"))\n",
        "df_s_dist[\"Missing Words in Copy\"] = df_s_dist[\"Missing Words in Copy\"].apply(lambda x: x.replace(\",  \", \", \"))"
      ]
    },
    {
      "cell_type": "code",
      "execution_count": null,
      "metadata": {
        "id": "HY32M3oZtZbW"
      },
      "outputs": [],
      "source": [
        "# start - make the page title df_blocked_kws\n",
        "df_title = df_s_dist[\n",
        "    [\n",
        "        \"URL\",\n",
        "        \"Title\",\n",
        "        \"Missing Words in Title\",\n",
        "        \"KW1\",\n",
        "        \"KW1 Clicks\",\n",
        "        \"KW1 Imps\",\n",
        "        \"KW1 Position\",\n",
        "        \"KW1 in Title\",\n",
        "        \"KW2\",\n",
        "        \"KW2 Clicks\",\n",
        "        \"KW2 Imps\",\n",
        "        \"KW2 Position\",\n",
        "        \"KW2 in Title\",\n",
        "        \"KW3\",\n",
        "        \"KW3 Clicks\",\n",
        "        \"KW3 Imps\",\n",
        "        \"KW3 Position\",\n",
        "        \"KW3 in Title\",\n",
        "        \"KW4\",\n",
        "        \"KW4 Clicks\",\n",
        "        \"KW4 Imps\",\n",
        "        \"KW4 Position\",\n",
        "        \"KW4 in Title\",\n",
        "        \"KW5\",\n",
        "        \"KW5 Clicks\",\n",
        "        \"KW5 Imps\",\n",
        "        \"KW5 Position\",\n",
        "        \"KW5 in Title\",\n",
        "    ]\n",
        "].copy()"
      ]
    },
    {
      "cell_type": "code",
      "execution_count": null,
      "metadata": {
        "id": "mRRVYe5Otcsr"
      },
      "outputs": [],
      "source": [
        "# check if value is true and then shifts cells\n",
        "cols = [\"KW1\", \"KW1 Clicks\", \"KW1 Imps\", \"KW1 Position\", \"KW1 in Title\"]\n",
        "x = df_title[\"KW1 in Title\"] == True\n",
        "\n",
        "df_title.loc[x, cols] = df_title.loc[x, cols].apply(lambda x: x.shift(-5), axis=1)\n",
        "\n",
        "cols = [\"KW2\", \"KW2 Clicks\", \"KW2 Imps\", \"KW2 Position\", \"KW2 in Title\"]\n",
        "x = df_title[\"KW2 in Title\"] == True\n",
        "\n",
        "df_title.loc[x, cols] = df_title.loc[x, cols].apply(lambda x: x.shift(-5), axis=1)\n",
        "\n",
        "cols = [\"KW3\", \"KW3 Clicks\", \"KW3 Imps\", \"KW3 Position\", \"KW3 in Title\"]\n",
        "x = df_title[\"KW3 in Title\"] == True\n",
        "\n",
        "df_title.loc[x, cols] = df_title.loc[x, cols].apply(lambda x: x.shift(-5), axis=1)\n",
        "\n",
        "cols = [\"KW4\", \"KW4 Clicks\", \"KW4 Imps\", \"KW4 Position\", \"KW4 in Title\"]\n",
        "x = df_title[\"KW4 in Title\"] == True\n",
        "\n",
        "df_title.loc[x, cols] = df_title.loc[x, cols].apply(lambda x: x.shift(-5), axis=1)\n",
        "\n",
        "cols = [\"KW5\", \"KW5 Clicks\", \"KW5 Imps\", \"KW5 Position\", \"KW5 in Title\"]\n",
        "x = df_title[\"KW5 in Title\"] == True\n",
        "\n",
        "df_title.loc[x, cols] = df_title.loc[x, cols].apply(lambda x: x.shift(-5), axis=1)"
      ]
    },
    {
      "cell_type": "code",
      "execution_count": null,
      "metadata": {
        "id": "xAIcyNFsteDd"
      },
      "outputs": [],
      "source": [
        "# shift left on empty cells\n",
        "v = df_title.values\n",
        "a = [[n] * v.shape[1] for n in range(v.shape[0])]\n",
        "b = pd.isnull(v).argsort(axis=1, kind=\"mergesort\")\n",
        "new_array = v[a, b]"
      ]
    },
    {
      "cell_type": "code",
      "execution_count": null,
      "metadata": {
        "id": "2w2Vc8KPtgBw"
      },
      "outputs": [],
      "source": [
        "# make new dataframe from left shifted columns\n",
        "df_title = pd.DataFrame(\n",
        "    data=new_array,\n",
        "    columns=[\n",
        "        \"URL\",\n",
        "        \"Title\",\n",
        "        \"Missing Words in Title\",\n",
        "        \"KW1\",\n",
        "        \"KW1 Clicks\",\n",
        "        \"KW1 Imps\",\n",
        "        \"KW1 Position\",\n",
        "        \"KW1 in Title\",\n",
        "        \"KW2\",\n",
        "        \"KW2 Clicks\",\n",
        "        \"KW2 Imps\",\n",
        "        \"KW2 Position\",\n",
        "        \"KW2 in Title\",\n",
        "        \"KW3\",\n",
        "        \"KW3 Clicks\",\n",
        "        \"KW3 Imps\",\n",
        "        \"KW3 Position\",\n",
        "        \"KW3 in Title\",\n",
        "        \"KW4\",\n",
        "        \"KW4 Clicks\",\n",
        "        \"KW4 Imps\",\n",
        "        \"KW4 Position\",\n",
        "        \"KW4 in Title\",\n",
        "        \"KW5\",\n",
        "        \"KW5 Clicks\",\n",
        "        \"KW5 Imps\",\n",
        "        \"KW5 Position\",\n",
        "        \"KW5 in Title\",\n",
        "    ],\n",
        ")"
      ]
    },
    {
      "cell_type": "code",
      "execution_count": null,
      "metadata": {
        "id": "2VcquG75thaL"
      },
      "outputs": [],
      "source": [
        "# delete the helper columns\n",
        "del df_title[\"KW1 in Title\"]\n",
        "del df_title[\"KW2 in Title\"]\n",
        "del df_title[\"KW3 in Title\"]\n",
        "del df_title[\"KW4 in Title\"]\n",
        "del df_title[\"KW5 in Title\"]"
      ]
    },
    {
      "cell_type": "code",
      "execution_count": null,
      "metadata": {
        "id": "vS8Bjdf0tj-B"
      },
      "outputs": [],
      "source": [
        "# replace empty strings with NaN values\n",
        "df_title[\"KW1\"] = df_title[\"KW1\"].replace(r\"^\\s*$\", np.nan, regex=True)\n",
        "\n",
        "# keep only non nan values in KW1\n",
        "df_title = df_title[df_title[\"KW1\"].notna()]\n",
        "\n",
        "# sort on URL\n",
        "df_title = df_title.sort_values(by=\"URL\", ascending=True)"
      ]
    },
    {
      "cell_type": "code",
      "execution_count": null,
      "metadata": {
        "id": "c0GIj6HFtl-j"
      },
      "outputs": [],
      "source": [
        "# start - make the page h1 df_blocked_kws\n",
        "df_h1 = df_s_dist[\n",
        "    [\n",
        "        \"URL\",\n",
        "        \"H1\",\n",
        "        \"Missing Words in H1\",\n",
        "        \"KW1\",\n",
        "        \"KW1 Clicks\",\n",
        "        \"KW1 Imps\",\n",
        "        \"KW1 Position\",\n",
        "        \"KW1 in H1\",\n",
        "        \"KW2\",\n",
        "        \"KW2 Clicks\",\n",
        "        \"KW2 Imps\",\n",
        "        \"KW2 Position\",\n",
        "        \"KW2 in H1\",\n",
        "        \"KW3\",\n",
        "        \"KW3 Clicks\",\n",
        "        \"KW3 Imps\",\n",
        "        \"KW3 Position\",\n",
        "        \"KW3 in H1\",\n",
        "        \"KW4\",\n",
        "        \"KW4 Clicks\",\n",
        "        \"KW4 Imps\",\n",
        "        \"KW4 Position\",\n",
        "        \"KW4 in H1\",\n",
        "        \"KW5\",\n",
        "        \"KW5 Clicks\",\n",
        "        \"KW5 Imps\",\n",
        "        \"KW5 Position\",\n",
        "        \"KW5 in H1\",\n",
        "    ]\n",
        "].copy()\n"
      ]
    },
    {
      "cell_type": "code",
      "execution_count": null,
      "metadata": {
        "id": "bWHS7dIWtorR"
      },
      "outputs": [],
      "source": [
        "# Check if value is True and then shifts cells\n",
        "cols = [\"KW1\", \"KW1 Clicks\", \"KW1 Imps\", \"KW1 Position\", \"KW1 in H1\"]\n",
        "x = df_h1[\"KW1 in H1\"] == True\n",
        "\n",
        "df_h1.loc[x, cols] = df_h1.loc[x, cols].apply(lambda x: x.shift(-5), axis=1)\n",
        "\n",
        "cols = [\"KW2\", \"KW2 Clicks\", \"KW2 Imps\", \"KW2 Position\", \"KW2 in H1\"]\n",
        "x = df_h1[\"KW2 in H1\"] == True\n",
        "\n",
        "df_h1.loc[x, cols] = df_h1.loc[x, cols].apply(lambda x: x.shift(-5), axis=1)\n",
        "\n",
        "cols = [\"KW3\", \"KW3 Clicks\", \"KW3 Imps\", \"KW3 Position\", \"KW3 in H1\"]\n",
        "x = df_h1[\"KW3 in H1\"] == True\n",
        "\n",
        "df_h1.loc[x, cols] = df_h1.loc[x, cols].apply(lambda x: x.shift(-5), axis=1)\n",
        "\n",
        "cols = [\"KW4\", \"KW4 Clicks\", \"KW4 Imps\", \"KW4 Position\", \"KW4 in H1\"]\n",
        "x = df_h1[\"KW4 in H1\"] == True\n",
        "\n",
        "df_h1.loc[x, cols] = df_h1.loc[x, cols].apply(lambda x: x.shift(-5), axis=1)\n",
        "\n",
        "cols = [\"KW5\", \"KW5 Clicks\", \"KW5 Imps\", \"KW5 Position\", \"KW5 in H1\"]\n",
        "x = df_h1[\"KW5 in H1\"] == True\n",
        "\n",
        "df_h1.loc[x, cols] = df_h1.loc[x, cols].apply(lambda x: x.shift(-5), axis=1)"
      ]
    },
    {
      "cell_type": "code",
      "execution_count": null,
      "metadata": {
        "id": "rzdQngCYtqct"
      },
      "outputs": [],
      "source": [
        "# shift left on empty cells\n",
        "v = df_h1.values\n",
        "a = [[n] * v.shape[1] for n in range(v.shape[0])]\n",
        "b = pd.isnull(v).argsort(axis=1, kind=\"mergesort\")\n",
        "new_array = v[a, b]"
      ]
    },
    {
      "cell_type": "code",
      "execution_count": null,
      "metadata": {
        "id": "jXUKBZQwtsWk"
      },
      "outputs": [],
      "source": [
        "# make new dataframe from left shifted columns\n",
        "df_h1 = pd.DataFrame(\n",
        "    data=new_array,\n",
        "    columns=[\n",
        "        \"URL\",\n",
        "        \"H1\",\n",
        "        \"Missing Words in H1\",\n",
        "        \"KW1\",\n",
        "        \"KW1 Clicks\",\n",
        "        \"KW1 Imps\",\n",
        "        \"KW1 Position\",\n",
        "        \"KW1 in H1\",\n",
        "        \"KW2\",\n",
        "        \"KW2 Clicks\",\n",
        "        \"KW2 Imps\",\n",
        "        \"KW2 Position\",\n",
        "        \"KW2 in H1\",\n",
        "        \"KW3\",\n",
        "        \"KW3 Clicks\",\n",
        "        \"KW3 Imps\",\n",
        "        \"KW3 Position\",\n",
        "        \"KW3 in H1\",\n",
        "        \"KW4\",\n",
        "        \"KW4 Clicks\",\n",
        "        \"KW4 Imps\",\n",
        "        \"KW4 Position\",\n",
        "        \"KW4 in H1\",\n",
        "        \"KW5\",\n",
        "        \"KW5 Clicks\",\n",
        "        \"KW5 Imps\",\n",
        "        \"KW5 Position\",\n",
        "        \"KW5 in H1\",\n",
        "    ],\n",
        ")"
      ]
    },
    {
      "cell_type": "code",
      "execution_count": null,
      "metadata": {
        "id": "Bfv25UQettn6"
      },
      "outputs": [],
      "source": [
        "# delete the extra cols\n",
        "del df_h1[\"KW1 in H1\"]\n",
        "del df_h1[\"KW2 in H1\"]\n",
        "del df_h1[\"KW3 in H1\"]\n",
        "del df_h1[\"KW4 in H1\"]\n",
        "del df_h1[\"KW5 in H1\"]"
      ]
    },
    {
      "cell_type": "code",
      "execution_count": null,
      "metadata": {
        "id": "tUYm6Vd-tvOO"
      },
      "outputs": [],
      "source": [
        "# replace empty strings with NaN values\n",
        "df_h1[\"KW1\"] = df_h1[\"KW1\"].replace(r\"^\\s*$\", np.nan, regex=True)\n",
        "\n",
        "# keep only non nan values in KW1\n",
        "df_h1 = df_h1[df_h1[\"KW1\"].notna()]\n",
        "\n",
        "# sort on URL\n",
        "df_h1 = df_h1.sort_values(by=\"URL\", ascending=True)"
      ]
    },
    {
      "cell_type": "code",
      "execution_count": null,
      "metadata": {
        "id": "aNKSJ_kytxYo"
      },
      "outputs": [],
      "source": [
        "# start - make the page copy df_blocked_kws\n",
        "df_copy = df_s_dist[\n",
        "    [\n",
        "        \"URL\",\n",
        "        \"H1\",\n",
        "        \"Missing Words in Copy\",\n",
        "        \"Missing Copy?\",\n",
        "        \"KW1\",\n",
        "        \"KW1 Clicks\",\n",
        "        \"KW1 Imps\",\n",
        "        \"KW1 Position\",\n",
        "        \"KW1 in Copy\",\n",
        "        \"KW2\",\n",
        "        \"KW2 Clicks\",\n",
        "        \"KW2 Imps\",\n",
        "        \"KW2 Position\",\n",
        "        \"KW2 in Copy\",\n",
        "        \"KW3\",\n",
        "        \"KW3 Clicks\",\n",
        "        \"KW3 Imps\",\n",
        "        \"KW3 Position\",\n",
        "        \"KW3 in Copy\",\n",
        "        \"KW4\",\n",
        "        \"KW4 Clicks\",\n",
        "        \"KW4 Imps\",\n",
        "        \"KW4 Position\",\n",
        "        \"KW4 in Copy\",\n",
        "        \"KW5\",\n",
        "        \"KW5 Clicks\",\n",
        "        \"KW5 Imps\",\n",
        "        \"KW5 Position\",\n",
        "        \"KW5 in Copy\",\n",
        "    ]\n",
        "].copy()"
      ]
    },
    {
      "cell_type": "code",
      "execution_count": null,
      "metadata": {
        "id": "5e0jQaAVtzbe"
      },
      "outputs": [],
      "source": [
        "# Check if value is True and then shifts cells\n",
        "cols = [\"KW1\", \"KW1 Clicks\", \"KW1 Imps\", \"KW1 Position\", \"KW1 in Copy\"]\n",
        "x = df_copy[\"KW1 in Copy\"] == True\n",
        "\n",
        "df_copy.loc[x, cols] = df_copy.loc[x, cols].apply(lambda x: x.shift(-5), axis=1)\n",
        "\n",
        "cols = [\"KW2\", \"KW2 Clicks\", \"KW2 Imps\", \"KW2 Position\", \"KW2 in Copy\"]\n",
        "x = df_copy[\"KW2 in Copy\"] == True\n",
        "\n",
        "df_copy.loc[x, cols] = df_copy.loc[x, cols].apply(lambda x: x.shift(-5), axis=1)\n",
        "\n",
        "cols = [\"KW3\", \"KW3 Clicks\", \"KW3 Imps\", \"KW3 Position\", \"KW3 in Copy\"]\n",
        "x = df_copy[\"KW3 in Copy\"] == True\n",
        "\n",
        "df_copy.loc[x, cols] = df_copy.loc[x, cols].apply(lambda x: x.shift(-5), axis=1)\n",
        "\n",
        "cols = [\"KW4\", \"KW4 Clicks\", \"KW4 Imps\", \"KW4 Position\", \"KW4 in Copy\"]\n",
        "x = df_copy[\"KW4 in Copy\"] == True\n",
        "\n",
        "df_copy.loc[x, cols] = df_copy.loc[x, cols].apply(lambda x: x.shift(-5), axis=1)\n",
        "\n",
        "cols = [\"KW5\", \"KW5 Clicks\", \"KW5 Imps\", \"KW5 Position\", \"KW5 in Copy\"]\n",
        "x = df_copy[\"KW5 in Copy\"] == True\n",
        "\n",
        "df_copy.loc[x, cols] = df_copy.loc[x, cols].apply(lambda x: x.shift(-5), axis=1)"
      ]
    },
    {
      "cell_type": "code",
      "execution_count": null,
      "metadata": {
        "id": "igALq_Myt0ut"
      },
      "outputs": [],
      "source": [
        "# shift left on empty cells\n",
        "v = df_copy.values\n",
        "a = [[n] * v.shape[1] for n in range(v.shape[0])]\n",
        "b = pd.isnull(v).argsort(axis=1, kind=\"mergesort\")\n",
        "new_array = v[a, b]\n"
      ]
    },
    {
      "cell_type": "code",
      "execution_count": null,
      "metadata": {
        "id": "ONMm0wmet2sg"
      },
      "outputs": [],
      "source": [
        "# make new dataframe from left shifted columns\n",
        "df_copy = pd.DataFrame(\n",
        "    data=new_array,\n",
        "    columns=[\n",
        "        \"URL\",\n",
        "        \"H1\",\n",
        "        \"Missing Words in Copy\",\n",
        "        \"Missing Copy?\",\n",
        "        \"KW1\",\n",
        "        \"KW1 Clicks\",\n",
        "        \"KW1 Imps\",\n",
        "        \"KW1 Position\",\n",
        "        \"KW1 in Copy\",\n",
        "        \"KW2\",\n",
        "        \"KW2 Clicks\",\n",
        "        \"KW2 Imps\",\n",
        "        \"KW2 Position\",\n",
        "        \"KW2 in Copy\",\n",
        "        \"KW3\",\n",
        "        \"KW3 Clicks\",\n",
        "        \"KW3 Imps\",\n",
        "        \"KW3 Position\",\n",
        "        \"KW3 in Copy\",\n",
        "        \"KW4\",\n",
        "        \"KW4 Clicks\",\n",
        "        \"KW4 Imps\",\n",
        "        \"KW4 Position\",\n",
        "        \"KW4 in Copy\",\n",
        "        \"KW5\",\n",
        "        \"KW5 Clicks\",\n",
        "        \"KW5 Imps\",\n",
        "        \"KW5 Position\",\n",
        "        \"KW5 in Copy\",\n",
        "    ],\n",
        ")"
      ]
    },
    {
      "cell_type": "code",
      "execution_count": null,
      "metadata": {
        "id": "L4VYzpwLuDVV"
      },
      "outputs": [],
      "source": [
        "# delete the helper cols\n",
        "del df_copy[\"KW1 in Copy\"]\n",
        "del df_copy[\"KW2 in Copy\"]\n",
        "del df_copy[\"KW3 in Copy\"]\n",
        "del df_copy[\"KW4 in Copy\"]\n",
        "del df_copy[\"KW5 in Copy\"]"
      ]
    },
    {
      "cell_type": "code",
      "execution_count": null,
      "metadata": {
        "id": "W_dmgFp9uFZT"
      },
      "outputs": [],
      "source": [
        "# replace empty strings with nan values\n",
        "df_copy[\"KW1\"] = df_copy[\"KW1\"].replace(r\"^\\s*$\", np.nan, regex=True)\n",
        "\n",
        "# keep only non nan values in kw1\n",
        "df_copy = df_copy[df_copy[\"KW1\"].notna()]\n",
        "\n",
        "# sort on URL\n",
        "df_copy = df_copy.sort_values(by=\"URL\", ascending=True)"
      ]
    },
    {
      "cell_type": "code",
      "execution_count": null,
      "metadata": {
        "id": "CFGsvSVluG-r"
      },
      "outputs": [],
      "source": [
        "# make new dataframe for missing copy\n",
        "df_copy_missing = df_copy.copy()\n",
        "\n",
        "# delete rows that contain true or false\n",
        "df_copy = df_copy[df_copy[\"Missing Copy?\"].isin([False])]\n",
        "df_copy_missing = df_copy_missing[df_copy_missing[\"Missing Copy?\"].isin([True])]\n",
        "\n",
        "del df_copy[\"Missing Copy?\"]\n",
        "del df_copy_missing[\"Missing Copy?\"]\n"
      ]
    },
    {
      "cell_type": "code",
      "execution_count": null,
      "metadata": {
        "id": "xry5j15auJXh"
      },
      "outputs": [],
      "source": [
        "# start ::: final output :::\n",
        "print(\"Exporting Data to Excel.\")\n",
        "\n",
        "# format variables to insert into the filename\n",
        "start_date_formatted = start_date_formatted.replace('/', '-')\n",
        "end_date_formatted = end_date_formatted.replace('/', '-')\n",
        "url = url.replace('https://', '')\n",
        "url = url.replace('http://', '')\n",
        "url = url.replace('www.', '')\n",
        "url = url.replace('/', '')"
      ]
    },
    {
      "cell_type": "code",
      "execution_count": null,
      "metadata": {
        "id": "iXpxzyTWuNJa"
      },
      "outputs": [],
      "source": [
        "# create a pandas excel writer using xlsxwriter as the engine.\n",
        "writer = pd.ExcelWriter(\n",
        "    \"/python_scripts/universal_striking_distance_sc_api/\"\n",
        "    + \"Striking Distance Report (\"\n",
        "    + str(start_date_formatted)\n",
        "    + \" - \"\n",
        "    + str(end_date_formatted)\n",
        "    + \") - \"\n",
        "    + str(url)\n",
        "    + \".xlsx\",\n",
        "    engine=\"xlsxwriter\",\n",
        ")"
      ]
    },
    {
      "cell_type": "code",
      "execution_count": null,
      "metadata": {
        "id": "2s16CbCTuOqJ"
      },
      "outputs": [],
      "source": [
        "# convert the dataframes to xlsxwriter excel objects\n",
        "df_s_dist.to_excel(writer, sheet_name=\"Striking Distance KWs\", index=False)\n",
        "df_title.to_excel(writer, sheet_name=\"Titles - Striking KWs\", index=False)\n",
        "df_h1.to_excel(writer, sheet_name=\"H1 - Striking KWs\", index=False)\n",
        "df_copy.to_excel(writer, sheet_name=\"Copy - Striking KWs\", index=False)\n",
        "df_copy_missing.to_excel(writer, sheet_name=\"Copy - Missing\", index=False)\n",
        "df_blocked_kws.to_excel(writer, sheet_name=\"Blocked KW List\", index=False)"
      ]
    },
    {
      "cell_type": "code",
      "execution_count": null,
      "metadata": {
        "id": "iE3ASuskuQMS"
      },
      "outputs": [],
      "source": [
        "# freeze the top rows\n",
        "writer.sheets[\"Striking Distance KWs\"].freeze_panes(1, 0)\n",
        "writer.sheets[\"Titles - Striking KWs\"].freeze_panes(1, 0)\n",
        "writer.sheets[\"H1 - Striking KWs\"].freeze_panes(1, 0)\n",
        "writer.sheets[\"Copy - Striking KWs\"].freeze_panes(1, 0)\n",
        "writer.sheets[\"Copy - Missing\"].freeze_panes(1, 0)\n",
        "writer.sheets[\"Blocked KW List\"].freeze_panes(1, 0)"
      ]
    },
    {
      "cell_type": "code",
      "execution_count": null,
      "metadata": {
        "id": "b_y1xh5HuTFk"
      },
      "outputs": [],
      "source": [
        "# start ::: apply excel formatting :::\n",
        "print(\"Applying Excel Formatting.\")\n",
        "\n",
        "# get xlsx writer workbook and worksheet objects.\n",
        "workbook = writer.book\n",
        "worksheet = writer.sheets[\"Striking Distance KWs\"]\n",
        "\n",
        "# set formatting styles\n",
        "format_num_cent = workbook.add_format({\"num_format\": \"#,##0\", \"align\": \"centre\"})\n",
        "\n",
        "# centre alignment\n",
        "format_cent = workbook.add_format({\"align\": \"centre\"})\n",
        "\n",
        "# bold text\n",
        "bold = workbook.add_format({\"bold\": True})\n",
        "\n",
        "# set true / false to red or green\n",
        "false_format = workbook.add_format({\"bg_color\": \"#FFC7CE\", \"font_color\": \"#9C0006\"})  # Used to Colour False Cells Red\n",
        "true_format = workbook.add_format({\"bg_color\": \"#C6EFCE\", \"font_color\": \"#006100\"})  # Used to Colour True Cells Green\n"
      ]
    },
    {
      "cell_type": "code",
      "execution_count": null,
      "metadata": {
        "id": "UXy2AYRDuY1y"
      },
      "outputs": [],
      "source": [
        "# set formatting style: formats text that contains false to red\n",
        "worksheet.conditional_format(\n",
        "    \"A1:XFD1048576\",\n",
        "    {\n",
        "        \"type\": \"text\",\n",
        "        \"criteria\": \"containing\",\n",
        "        \"value\": \"FALSE\",\n",
        "        \"format\": false_format,\n",
        "    },\n",
        ")\n",
        "# set formatting style: formats text that contains true to green\n",
        "worksheet.conditional_format(\n",
        "    \"A1:XFD1048576\",\n",
        "    {\"type\": \"text\", \"criteria\": \"containing\", \"value\": \"TRUE\", \"format\": true_format},\n",
        ")\n"
      ]
    },
    {
      "cell_type": "code",
      "execution_count": null,
      "metadata": {
        "id": "L4zGJgfcuaMC"
      },
      "outputs": [],
      "source": [
        "# set style and parameters to format worksheets as tables\n",
        "header_cell_format = workbook.add_format()\n",
        "header_cell_format.set_rotation(90)\n",
        "header_cell_format.set_align(\"center\")\n",
        "header_cell_format.set_align(\"vcenter\")\n",
        "my_style = \"Table Style Medium 7\""
      ]
    },
    {
      "cell_type": "code",
      "execution_count": null,
      "metadata": {
        "id": "SUqmVzUVzVSO"
      },
      "outputs": [],
      "source": [
        "# format sheets as tables - main df\n",
        "col_names = [{\"header\": col_name} for col_name in df_s_dist.columns]\n",
        "worksheet.add_table(\n",
        "    0,\n",
        "    0,\n",
        "    df_s_dist.shape[0],\n",
        "    df_s_dist.shape[1] - 1,\n",
        "    {\"columns\": col_names, \"style\": my_style},\n",
        ")\n",
        "\n",
        "col_names = [{\"header\": col_name} for col_name in df_title.columns]\n",
        "writer.sheets[\"Titles - Striking KWs\"].add_table(\n",
        "    0,\n",
        "    0,\n",
        "    df_title.shape[0],\n",
        "    df_title.shape[1] - 1,\n",
        "    {\"columns\": col_names, \"style\": my_style},\n",
        ")\n",
        "\n",
        "col_names = [{\"header\": col_name} for col_name in df_h1.columns]\n",
        "writer.sheets[\"H1 - Striking KWs\"].add_table(\n",
        "    0,\n",
        "    0,\n",
        "    df_h1.shape[0],\n",
        "    df_h1.shape[1] - 1,\n",
        "    {\"columns\": col_names, \"style\": my_style},\n",
        ")\n",
        "\n",
        "col_names = [{\"header\": col_name} for col_name in df_copy.columns]\n",
        "writer.sheets[\"Copy - Striking KWs\"].add_table(\n",
        "    0,\n",
        "    0,\n",
        "    df_copy.shape[0],\n",
        "    df_copy.shape[1] - 1,\n",
        "    {\"columns\": col_names, \"style\": my_style},\n",
        ")\n",
        "\n",
        "col_names = [{\"header\": col_name} for col_name in df_copy_missing.columns]\n",
        "writer.sheets[\"Copy - Missing\"].add_table(\n",
        "    0,\n",
        "    0,\n",
        "    df_copy_missing.shape[0],\n",
        "    df_copy_missing.shape[1] - 1,\n",
        "    {\"columns\": col_names, \"style\": my_style},\n",
        ")\n",
        "\n",
        "col_names = [{\"header\": col_name} for col_name in df_blocked_kws.columns]\n",
        "writer.sheets[\"Blocked KW List\"].add_table(\n",
        "    0,\n",
        "    0,\n",
        "    df_blocked_kws.shape[0],\n",
        "    df_blocked_kws.shape[1] - 1,\n",
        "    {\"columns\": col_names, \"style\": my_style},\n",
        ")"
      ]
    },
    {
      "cell_type": "code",
      "execution_count": null,
      "metadata": {
        "id": "81rbME9UzW_o"
      },
      "outputs": [],
      "source": [
        "# apply color scales\n",
        "writer.sheets[\"Striking Distance KWs\"].conditional_format(\n",
        "    \"E2:E200000\",\n",
        "    {\n",
        "        \"type\": \"3_color_scale\",\n",
        "        \"min_color\": \"#F8696B\",\n",
        "        \"mid_color\": \"#FFEB84\",\n",
        "        \"max_color\": \"#63BE7B\",\n",
        "    },\n",
        ")\n",
        "writer.sheets[\"Striking Distance KWs\"].conditional_format(\n",
        "    \"F2:F200000\",\n",
        "    {\n",
        "        \"type\": \"3_color_scale\",\n",
        "        \"min_color\": \"#F8696B\",\n",
        "        \"mid_color\": \"#FFEB84\",\n",
        "        \"max_color\": \"#63BE7B\",\n",
        "    },\n",
        ")\n"
      ]
    },
    {
      "cell_type": "code",
      "execution_count": null,
      "metadata": {
        "id": "BlNLrfLJzbO_"
      },
      "outputs": [],
      "source": [
        "# set the col width, centre and format as an int with \",\"\n",
        "worksheet.set_column(\"D:D\", 18, format_num_cent)\n",
        "worksheet.set_column(\"E:E\", 18, format_num_cent)\n",
        "worksheet.set_column(\"F:F\", 18, format_num_cent)\n",
        "worksheet.set_column(\"G:G\", 18, format_num_cent)\n",
        "worksheet.set_column(\"H:H\", 18, format_num_cent)\n",
        "worksheet.set_column(\"I:I\", 18, format_num_cent)\n",
        "worksheet.set_column(\"K:K\", 18, format_num_cent)\n",
        "worksheet.set_column(\"L:L\", 18, format_num_cent)\n",
        "worksheet.set_column(\"M:M\", 18, format_num_cent)\n",
        "worksheet.set_column(\"S:S\", 18, format_num_cent)\n",
        "worksheet.set_column(\"T:T\", 18, format_num_cent)\n",
        "worksheet.set_column(\"Y:Y\", 18, format_num_cent)\n",
        "worksheet.set_column(\"Z:Z\", 18, format_num_cent)\n",
        "worksheet.set_column(\"R:R\", 18, format_num_cent)\n",
        "worksheet.set_column(\"AA:AA\", 18, format_num_cent)\n",
        "worksheet.set_column(\"AF:AF\", 18, format_num_cent)\n",
        "worksheet.set_column(\"AG:AG\", 18, format_num_cent)\n",
        "worksheet.set_column(\"AH:AH\", 18, format_num_cent)\n",
        "worksheet.set_column(\"AM:AM\", 18, format_num_cent)\n",
        "worksheet.set_column(\"AN:AN\", 18, format_num_cent)\n",
        "worksheet.set_column(\"AO:AO\", 18, format_num_cent)"
      ]
    },
    {
      "cell_type": "code",
      "execution_count": null,
      "metadata": {
        "id": "sHnn6-mhzcmN"
      },
      "outputs": [],
      "source": [
        "# format col widths only\n",
        "worksheet.set_column(\"A:A\", 80)  # Set URL Col Width\n",
        "worksheet.set_column(\"B:B\", 50)  # Set Page Title Col Width\n",
        "worksheet.set_column(\"C:C\", 35)  # Set H1 Col Width\n",
        "worksheet.set_column(\"J:J\", 25)  # Set KW1 Col Width\n",
        "worksheet.set_column(\"Q:Q\", 25)  # Set KW2 Col Width\n",
        "worksheet.set_column(\"X:X\", 25)  # Set KW3 Col Width\n",
        "worksheet.set_column(\"AE:AE\", 25)  # Set KW3 Col Width\n",
        "worksheet.set_column(\"AL:AL\", 25)  # Set KW4 Col Width\n",
        "worksheet.set_column(\"AS:AS\", 25)  # Set KW4 Col Width\n",
        "worksheet.set_column(\"AT:AT\", 25)  # Set KW4 Col Width\n",
        "worksheet.set_column(\"AU:AU\", 25)  # Set KW4 Col Width\n",
        "worksheet.set_column(\"AV:AV\", 25)  # Set KW4 Col Width"
      ]
    },
    {
      "cell_type": "code",
      "execution_count": null,
      "metadata": {
        "id": "ped_lsdGzduX"
      },
      "outputs": [],
      "source": [
        "# format the urls columns for the additional sheets\n",
        "writer.sheets[\"Titles - Striking KWs\"].set_column(\"A:A\", 80)  # Set URL Col Width\n",
        "writer.sheets[\"H1 - Striking KWs\"].set_column(\"A:A\", 80)  # Set URL Col Width\n",
        "writer.sheets[\"Copy - Striking KWs\"].set_column(\"A:A\", 80)  # Set URL Col Width\n",
        "writer.sheets[\"Copy - Missing\"].set_column(\"A:A\", 80)  # Set URL Col Width\n",
        "writer.sheets[\"Blocked KW List\"].set_column(\"A:A\", 80)  # Set Blocked Keyword Column"
      ]
    },
    {
      "cell_type": "code",
      "execution_count": null,
      "metadata": {
        "id": "ZuFPdbbAze2q"
      },
      "outputs": [],
      "source": [
        "# format the page title column\n",
        "writer.sheets[\"Titles - Striking KWs\"].set_column(\"B:B\", 50)  # Set Page Title Col Width"
      ]
    },
    {
      "cell_type": "code",
      "execution_count": null,
      "metadata": {
        "id": "jRT9rkK5zfso"
      },
      "outputs": [],
      "source": [
        "# format the h1 column\n",
        "writer.sheets[\"H1 - Striking KWs\"].set_column(\"B:B\", 35)  # Set h1 Col Width\n",
        "writer.sheets[\"Copy - Striking KWs\"].set_column(\"B:B\", 35)  # Set h1 Col Width\n",
        "writer.sheets[\"Copy - Missing\"].set_column(\"B:B\", 35)  # Set h1 Col Width"
      ]
    },
    {
      "cell_type": "code",
      "execution_count": null,
      "metadata": {
        "id": "PjDCj6yRzhVh"
      },
      "outputs": [],
      "source": [
        "# format the keyword columns\n",
        "writer.sheets[\"Titles - Striking KWs\"].set_column(\"C:C\", 25)  # Set Keyword Col Width\n",
        "writer.sheets[\"Titles - Striking KWs\"].set_column(\"D:D\", 25)  # Set Keyword Col Width\n",
        "writer.sheets[\"Titles - Striking KWs\"].set_column(\"H:H\", 25)  # Set Keyword Col Width\n",
        "writer.sheets[\"Titles - Striking KWs\"].set_column(\"L:L\", 25)  # Set Keyword Col Width\n",
        "writer.sheets[\"Titles - Striking KWs\"].set_column(\"P:P\", 25)  # Set Keyword Col Width\n",
        "writer.sheets[\"Titles - Striking KWs\"].set_column(\"T:T\", 25)  # Set Keyword Col Width\n",
        "writer.sheets[\"H1 - Striking KWs\"].set_column(\"C:C\", 25)  # Set Keyword Col Width\n",
        "writer.sheets[\"H1 - Striking KWs\"].set_column(\"D:D\", 25)  # Set Keyword Col Width\n",
        "writer.sheets[\"H1 - Striking KWs\"].set_column(\"H:H\", 25)  # Set Keyword Col Width\n",
        "writer.sheets[\"H1 - Striking KWs\"].set_column(\"L:L\", 25)  # Set Keyword Col Width\n",
        "writer.sheets[\"H1 - Striking KWs\"].set_column(\"P:P\", 25)  # Set Keyword Col Width\n",
        "writer.sheets[\"H1 - Striking KWs\"].set_column(\"T:T\", 25)  # Set Keyword Col Width\n",
        "writer.sheets[\"Copy - Striking KWs\"].set_column(\"C:C\", 25)  # Set Keyword Col Width\n",
        "writer.sheets[\"Copy - Striking KWs\"].set_column(\"D:D\", 25)  # Set Keyword Col Width\n",
        "writer.sheets[\"Copy - Striking KWs\"].set_column(\"H:H\", 25)  # Set Keyword Col Width\n",
        "writer.sheets[\"Copy - Striking KWs\"].set_column(\"L:L\", 25)  # Set Keyword Col Width\n",
        "writer.sheets[\"Copy - Striking KWs\"].set_column(\"P:P\", 25)  # Set Keyword Col Width\n",
        "writer.sheets[\"Copy - Striking KWs\"].set_column(\"T:T\", 25)  # Set Keyword Col Width\n",
        "writer.sheets[\"Copy - Missing\"].set_column(\"C:C\", 25)  # Set Keyword Col Width\n",
        "writer.sheets[\"Copy - Missing\"].set_column(\"D:D\", 25)  # Set Keyword Col Width\n",
        "writer.sheets[\"Copy - Missing\"].set_column(\"H:H\", 25)  # Set Keyword Col Width\n",
        "writer.sheets[\"Copy - Missing\"].set_column(\"L:L\", 25)  # Set Keyword Col Width\n",
        "writer.sheets[\"Copy - Missing\"].set_column(\"P:P\", 25)  # Set Keyword Col Width\n",
        "writer.sheets[\"Copy - Missing\"].set_column(\"T:T\", 25)  # Set Keyword Col Width\n",
        "writer.sheets[\"Blocked KW List\"].set_column(\"B:B\", 25)  # Set Keyword Col Width\n",
        "writer.sheets[\"Blocked KW List\"].set_column(\"C:C\", 25)  # Set Keyword Col Width\n",
        "writer.sheets[\"Blocked KW List\"].set_column(\"D:D\", 25)  # Set Keyword Col Width"
      ]
    },
    {
      "cell_type": "code",
      "execution_count": null,
      "metadata": {
        "id": "RVVVq_3ZzjiB"
      },
      "outputs": [],
      "source": [
        "# format and center all numbers\n",
        "writer.sheets[\"Titles - Striking KWs\"].set_column(\"E:E\", 18, format_num_cent)\n",
        "writer.sheets[\"Titles - Striking KWs\"].set_column(\"F:F\", 18, format_num_cent)\n",
        "writer.sheets[\"Titles - Striking KWs\"].set_column(\"G:G\", 18, format_num_cent)\n",
        "writer.sheets[\"Titles - Striking KWs\"].set_column(\"I:I\", 18, format_num_cent)\n",
        "writer.sheets[\"Titles - Striking KWs\"].set_column(\"J:J\", 18, format_num_cent)\n",
        "writer.sheets[\"Titles - Striking KWs\"].set_column(\"K:K\", 18, format_num_cent)\n",
        "writer.sheets[\"Titles - Striking KWs\"].set_column(\"M:M\", 18, format_num_cent)\n",
        "writer.sheets[\"Titles - Striking KWs\"].set_column(\"N:N\", 18, format_num_cent)\n",
        "writer.sheets[\"Titles - Striking KWs\"].set_column(\"O:O\", 18, format_num_cent)\n",
        "writer.sheets[\"Titles - Striking KWs\"].set_column(\"Q:Q\", 18, format_num_cent)\n",
        "writer.sheets[\"Titles - Striking KWs\"].set_column(\"R:R\", 18, format_num_cent)\n",
        "writer.sheets[\"Titles - Striking KWs\"].set_column(\"S:S\", 18, format_num_cent)\n",
        "writer.sheets[\"Titles - Striking KWs\"].set_column(\"U:U\", 18, format_num_cent)\n",
        "writer.sheets[\"Titles - Striking KWs\"].set_column(\"V:V\", 18, format_num_cent)\n",
        "writer.sheets[\"Titles - Striking KWs\"].set_column(\"W:W\", 18, format_num_cent)\n",
        "writer.sheets[\"H1 - Striking KWs\"].set_column(\"E:E\", 18, format_num_cent)\n",
        "writer.sheets[\"H1 - Striking KWs\"].set_column(\"F:F\", 18, format_num_cent)\n",
        "writer.sheets[\"H1 - Striking KWs\"].set_column(\"G:G\", 18, format_num_cent)\n",
        "writer.sheets[\"H1 - Striking KWs\"].set_column(\"I:I\", 18, format_num_cent)\n",
        "writer.sheets[\"H1 - Striking KWs\"].set_column(\"J:J\", 18, format_num_cent)\n",
        "writer.sheets[\"H1 - Striking KWs\"].set_column(\"K:K\", 18, format_num_cent)\n",
        "writer.sheets[\"H1 - Striking KWs\"].set_column(\"M:M\", 18, format_num_cent)\n",
        "writer.sheets[\"H1 - Striking KWs\"].set_column(\"N:N\", 18, format_num_cent)\n",
        "writer.sheets[\"H1 - Striking KWs\"].set_column(\"O:O\", 18, format_num_cent)\n",
        "writer.sheets[\"H1 - Striking KWs\"].set_column(\"Q:Q\", 18, format_num_cent)\n",
        "writer.sheets[\"H1 - Striking KWs\"].set_column(\"R:R\", 18, format_num_cent)\n",
        "writer.sheets[\"H1 - Striking KWs\"].set_column(\"S:S\", 18, format_num_cent)\n",
        "writer.sheets[\"H1 - Striking KWs\"].set_column(\"U:U\", 18, format_num_cent)\n",
        "writer.sheets[\"H1 - Striking KWs\"].set_column(\"V:V\", 18, format_num_cent)\n",
        "writer.sheets[\"H1 - Striking KWs\"].set_column(\"W:W\", 18, format_num_cent)\n",
        "writer.sheets[\"Copy - Striking KWs\"].set_column(\"E:E\", 18, format_num_cent)\n",
        "writer.sheets[\"Copy - Striking KWs\"].set_column(\"F:F\", 18, format_num_cent)\n",
        "writer.sheets[\"Copy - Striking KWs\"].set_column(\"G:G\", 18, format_num_cent)\n",
        "writer.sheets[\"Copy - Striking KWs\"].set_column(\"I:I\", 18, format_num_cent)\n",
        "writer.sheets[\"Copy - Striking KWs\"].set_column(\"J:J\", 18, format_num_cent)\n",
        "writer.sheets[\"Copy - Striking KWs\"].set_column(\"K:K\", 18, format_num_cent)\n",
        "writer.sheets[\"Copy - Striking KWs\"].set_column(\"M:M\", 18, format_num_cent)\n",
        "writer.sheets[\"Copy - Striking KWs\"].set_column(\"N:N\", 18, format_num_cent)\n",
        "writer.sheets[\"Copy - Striking KWs\"].set_column(\"O:O\", 18, format_num_cent)\n",
        "writer.sheets[\"Copy - Striking KWs\"].set_column(\"Q:Q\", 18, format_num_cent)\n",
        "writer.sheets[\"Copy - Striking KWs\"].set_column(\"R:R\", 18, format_num_cent)\n",
        "writer.sheets[\"Copy - Striking KWs\"].set_column(\"S:S\", 18, format_num_cent)\n",
        "writer.sheets[\"Copy - Striking KWs\"].set_column(\"U:U\", 18, format_num_cent)\n",
        "writer.sheets[\"Copy - Striking KWs\"].set_column(\"V:V\", 18, format_num_cent)\n",
        "writer.sheets[\"Copy - Striking KWs\"].set_column(\"W:W\", 18, format_num_cent)\n",
        "writer.sheets[\"Copy - Missing\"].set_column(\"E:E\", 18, format_num_cent)\n",
        "writer.sheets[\"Copy - Missing\"].set_column(\"F:F\", 18, format_num_cent)\n",
        "writer.sheets[\"Copy - Missing\"].set_column(\"G:G\", 18, format_num_cent)\n",
        "writer.sheets[\"Copy - Missing\"].set_column(\"I:I\", 18, format_num_cent)\n",
        "writer.sheets[\"Copy - Missing\"].set_column(\"J:J\", 18, format_num_cent)\n",
        "writer.sheets[\"Copy - Missing\"].set_column(\"K:K\", 18, format_num_cent)\n",
        "writer.sheets[\"Copy - Missing\"].set_column(\"M:M\", 18, format_num_cent)\n",
        "writer.sheets[\"Copy - Missing\"].set_column(\"N:N\", 18, format_num_cent)\n",
        "writer.sheets[\"Copy - Missing\"].set_column(\"O:O\", 18, format_num_cent)\n",
        "writer.sheets[\"Copy - Missing\"].set_column(\"Q:Q\", 18, format_num_cent)\n",
        "writer.sheets[\"Copy - Missing\"].set_column(\"R:R\", 18, format_num_cent)\n",
        "writer.sheets[\"Copy - Missing\"].set_column(\"S:S\", 18, format_num_cent)\n",
        "writer.sheets[\"Copy - Missing\"].set_column(\"U:U\", 18, format_num_cent)\n",
        "writer.sheets[\"Copy - Missing\"].set_column(\"V:V\", 18, format_num_cent)\n",
        "writer.sheets[\"Copy - Missing\"].set_column(\"W:W\", 18, format_num_cent)"
      ]
    },
    {
      "cell_type": "code",
      "execution_count": null,
      "metadata": {
        "id": "H7UfyXeDzkyY"
      },
      "outputs": [],
      "source": [
        "# close the pandas excel writer and output the excel file.\n",
        "writer.save()\n",
        "\n",
        "print(\"The script took {0} seconds!\".format(time.time() - startTime))"
      ]
    }
  ],
  "metadata": {
    "colab": {
      "authorship_tag": "ABX9TyMImXWy3P8h2ts1muPPBEXM",
      "collapsed_sections": [],
      "include_colab_link": true,
      "name": "Striking Distance Report Creator - GSC Version.ipynb",
      "provenance": []
    },
    "kernelspec": {
      "display_name": "Python 3",
      "name": "python3"
    },
    "language_info": {
      "name": "python"
    }
  },
  "nbformat": 4,
  "nbformat_minor": 0
}
